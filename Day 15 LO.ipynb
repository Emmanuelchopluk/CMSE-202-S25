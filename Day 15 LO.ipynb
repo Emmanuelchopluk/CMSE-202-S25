{
 "cells": [
  {
   "cell_type": "code",
   "execution_count": null,
   "id": "a350a6a2-d8c9-40d1-af33-5da7d624c95e",
   "metadata": {},
   "outputs": [],
   "source": [
    "#Day 15 Lo\n",
    "# Define machine learning and describe the seven steps used to build machine learning models of data.\n",
    "# Explain what a classification problem is, and the concepts of false positives and false negatives.\n",
    "# Make a data set that could be used for classification and plot the data\n"
   ]
  },
  {
   "cell_type": "code",
   "execution_count": null,
   "id": "c1a117c8-3426-4d90-a2b4-7adaab4fdece",
   "metadata": {},
   "outputs": [],
   "source": []
  }
 ],
 "metadata": {
  "kernelspec": {
   "display_name": "Python 3.11 (default)",
   "language": "python",
   "name": "python3"
  },
  "language_info": {
   "codemirror_mode": {
    "name": "ipython",
    "version": 3
   },
   "file_extension": ".py",
   "mimetype": "text/x-python",
   "name": "python",
   "nbconvert_exporter": "python",
   "pygments_lexer": "ipython3",
   "version": "3.11.11"
  }
 },
 "nbformat": 4,
 "nbformat_minor": 5
}
