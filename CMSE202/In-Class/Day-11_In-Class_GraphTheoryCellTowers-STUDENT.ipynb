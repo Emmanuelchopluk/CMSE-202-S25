{
 "cells": [
  {
   "cell_type": "markdown",
   "metadata": {},
   "source": [
    "# In-class Assignment: Graph Theory and Cell Towers\n",
    "# Day 11\n",
    "# CMSE 202\n",
    "\n",
    "In this assignment you will work with your group to develop a program to use a color graphing algorithm to select frequencies for cell towers around MSU.  There are four major parts to this assignment.  Try to make sure you get through all of it, but don't stress too much if you don't finish.\n",
    "\n",
    "### Agenda for today's class:\n",
    "\n",
    "1. [Part 1: Download and import the data](#p1)\n",
    "2. [Part 2: K-nearest neighbor graph](#p2)\n",
    "3. [Part 3: Greedy graph coloring](#p3)\n",
    "4. [Part 4: Plotting towers and their colors on a map](#p4)"
   ]
  },
  {
   "cell_type": "markdown",
   "metadata": {},
   "source": [
    "### <p style=\"text-align: right;\"> &#9989; **Emmanuel Luk** </p>\n",
    "#### <p style=\"text-align: right;\"> &#9989; </p>"
   ]
  },
  {
   "cell_type": "markdown",
   "metadata": {},
   "source": [
    "---\n",
    "# Problem Statement\n",
    "\n",
    "**As was presented in the pre-class assignment**, the signals from different cellphone towers that are close together can interfere.  \n",
    "\n",
    "<img src=\"http://2.bp.blogspot.com/-X7XJfnPb6xU/TjZfTmAd9CI/AAAAAAAAAF0/3eGarXigOQE/s1600/dido1.jpg\" width=\"500px\"><p style=\"text-align: right;\">From: http://www.onlivespot.com/2011/08/dido-wireless-technology-explained.html</p>\n",
    "\n",
    "In order to avoid this overlap cell phone companies use different frequency ranges in the Electromagnetic spectrum.  Two towers that are close together but have differences in frequencies (shown as colors, red/green/black in the following figure) do not cause nearly as much interference. \n",
    "\n",
    "<img src=\"http://2.bp.blogspot.com/-M4olRy6O-v4/TjZghvwq3KI/AAAAAAAAAF4/GtOd6Db-su4/s1600/dido2.jpg\" width = \"500px\"><p style=\"text-align: right;\">From:  http://www.onlivespot.com/2011/08/dido-wireless-technology-explained.html</p>\n",
    "\n",
    "However, cellphone towers are never distributed in such an even pattern.   Consider the following map which shows the location of cell towers around Michigan State.\n",
    "\n",
    "<img src='https://i.ibb.co/jv2vLBr/MSU-Towers.png' width = \"500px\">\n",
    "<p style=\"text-align: right;\">From: http://www.antennasearch.com/</p>\n",
    "\n",
    "Another problem is that cellphone companies have to pay for each frequency range they use.  So they would like minimize the number of frequencies that they need to purchase while also minimizing the interference between the cell towers. \n",
    "\n",
    "In this assignment you are going to work as a group to solve this problem using graph coloring."
   ]
  },
  {
   "cell_type": "markdown",
   "metadata": {},
   "source": [
    "---\n",
    "<a id=\"p1\"></a>\n",
    "## Part 1: Download and import the data\n",
    "\n",
    "We will be using antenna data from the following website:\n",
    "\n",
    "http://www.antennasearch.com/\n",
    "\n",
    "**&#9989;  Do This:** We previously downloaded a CSV file from this website for all of the **towers** in a 3 Mile radius from the MSU engineering building (428 S Shaw Lane, East Lansing, MI 48824). **You can download this file from here:**\n",
    "\n",
    "`https://raw.githubusercontent.com/msu-cmse-courses/cmse202-supplemental-data/main/data/TowersYYH730463QHM18572.csv`\n",
    "\n",
    "Make sure that the downloaded file is in the same directory as your in-class notebook.\n",
    "\n",
    "**Optional**: Feel free to try running the same search and take a look at just the **towers**. When you start to visualize the data in the file we've shared you can see if any new towers have been added since the data was last pulled.\n",
    "\n",
    "Finall, **write a function** to load the file into Python and generate a list of latitude and longitude for the towers."
   ]
  },
  {
   "cell_type": "code",
   "execution_count": 2,
   "metadata": {},
   "outputs": [
    {
     "name": "stdout",
     "output_type": "stream",
     "text": [
      "  % Total    % Received % Xferd  Average Speed   Time    Time     Time  Current\n",
      "                                 Dload  Upload   Total   Spent    Left  Speed\n",
      "100 10526  100 10526    0     0   147k      0 --:--:-- --:--:-- --:--:--  148k\n"
     ]
    }
   ],
   "source": [
    "!curl -O https://raw.githubusercontent.com/msu-cmse-courses/cmse202-supplemental-data/main/data/TowersYYH730463QHM18572.csv"
   ]
  },
  {
   "cell_type": "code",
   "execution_count": 67,
   "metadata": {},
   "outputs": [
    {
     "name": "stdout",
     "output_type": "stream",
     "text": [
      "[array([-84.50836111, -84.515     , -84.51191667, -84.48241667,\n",
      "       -84.49538889, -84.51961111, -84.50738889, -84.44780556,\n",
      "       -84.50441667, -84.52691667, -84.50855556, -84.45469444,\n",
      "       -84.51913889, -84.51330556, -84.50608333, -84.48386111,\n",
      "       -84.47997222, -84.48358333, -84.49472222, -84.49580556,\n",
      "       -84.48025   , -84.50552778, -84.50561111, -84.50805556,\n",
      "       -84.45108333, -84.50775   ])]\n",
      "[(array([42.70669444, 42.72833333, 42.73963889, 42.71641667, 42.72619444,\n",
      "       42.72027778, 42.7315    , 42.7485    , 42.68875   , 42.72272222,\n",
      "       42.74327778, 42.74586111, 42.72030556, 42.74919444, 42.76586111,\n",
      "       42.77336111, 42.73558333, 42.73725   , 42.72611111, 42.72669444,\n",
      "       42.74280556, 42.73030556, 42.73425   , 42.73977778, 42.72280556,\n",
      "       42.70697222]), 0)]\n"
     ]
    }
   ],
   "source": [
    "# Put your function here!\n",
    "import pandas as pd\n",
    "import numpy as np\n",
    "import matplotlib.pyplot as plt\n",
    "towers_data = pd.read_csv(\"TowersYYH730463QHM18572.csv\")\n",
    "towers_data.head()\n",
    "\n",
    "longitude=towers_data[\"longitude\"]\n",
    "\n",
    "longitude=np.array(longitude)\n",
    "latitude=towers_data[\"latitude\"]\n",
    "latitude=np.array(latitude)\n",
    "\n",
    "long=[]\n",
    "lat=[]\n",
    "for i in range(1):\n",
    "    long.append(longitude)\n",
    "print(long)\n",
    "\n",
    "for i in range(1):\n",
    "    lat.append((latitude,i))\n",
    "print(lat)"
   ]
  },
  {
   "cell_type": "markdown",
   "metadata": {},
   "source": [
    "**&#9989;  Do This:** Generate a plot similar to the following showing the towers on the x-y plane.\n",
    "\n",
    "<img src=\"https://i.ibb.co/bd2g2Hf/tower-graph.png\">\n"
   ]
  },
  {
   "cell_type": "code",
   "execution_count": 32,
   "metadata": {},
   "outputs": [
    {
     "name": "stdout",
     "output_type": "stream",
     "text": [
      "[[0.92936623 0.58297277]\n",
      " [0.24494592 0.62448897]\n",
      " [0.26168739 0.19531611]\n",
      " [0.55141137 0.26440974]\n",
      " [0.45218047 0.464261  ]\n",
      " [0.7399744  0.55931202]\n",
      " [0.08969317 0.87033342]\n",
      " [0.9062955  0.47547827]\n",
      " [0.36377573 0.4331051 ]\n",
      " [0.37204028 0.52012903]]\n"
     ]
    }
   ],
   "source": [
    "# Put your plotting code here.\n"
   ]
  },
  {
   "cell_type": "code",
   "execution_count": 43,
   "metadata": {},
   "outputs": [
    {
     "data": {
      "image/png": "[encoded data removed]",
      "text/plain": [
       "<Figure size 640x480 with 1 Axes>"
      ]
     },
     "metadata": {},
     "output_type": "display_data"
    }
   ],
   "source": [
    "# Plot the cell tower locations\n",
    "plt.scatter(x=longitude,y=latitude)\n",
    "plt.xlabel(\"Longitude\")\n",
    "plt.ylabel(\"Latitude\")\n",
    "plt.title(\"Cell Towers\")\n",
    "plt.grid(True)\n",
    "plt.show()\n"
   ]
  },
  {
   "cell_type": "markdown",
   "metadata": {},
   "source": [
    "&#9989; **Question 1**: By default `matplotlib.pyplot.scatter` will scale the x-axis and y-axes to best fit the points. However, sometimes (as is the case here) we want the scaling of both axes to be equal.  What command can you use for the above plot to ensure that the distances are the same in the x-direction as the y-direction?"
   ]
  },
  {
   "cell_type": "markdown",
   "metadata": {},
   "source": [
    "#plt.axis('equal')\n",
    "is supposed to adjust the unit distance so that their the same for \"x\" and \"y\""
   ]
  },
  {
   "cell_type": "markdown",
   "metadata": {},
   "source": [
    "---\n",
    "<a id=\"p2\"></a>\n",
    "## Part 2: Generating a K-Nearest Neighbor Graph\n",
    "\n",
    "In the pre-class assignment, you were asked to try and write an algorithm that found the nearest neighbor for every point in a collection of points. There's not necessarily one right way to solve this problem, so your solution might have looked quite a bit different this (or perhaps you didn't quite get things working), but here's one possible solution:"
   ]
  },
  {
   "cell_type": "code",
   "execution_count": 77,
   "metadata": {},
   "outputs": [],
   "source": [
    "# Possible solution for the nearest-neighbor algorithm\n",
    "import math\n",
    "def distance(p1,p2):\n",
    "    '''Returns the distance betwen two numpy points'''\n",
    "    return math.sqrt((p1[0] - p2[0])**2 + (p1[1] - p2[1])**2)\n",
    "    \n",
    "def nearest_neighbors(points):\n",
    "    '''Generates an adjacency list based on the Nearest neighbor graph algorithm.'''\n",
    "    G = dict()\n",
    "    for p in range(0,len(points)):\n",
    "        min_distance = np.inf\n",
    "        min_point = -1\n",
    "        for n in range(0,len(points)):\n",
    "            if p != n:\n",
    "                d = distance(points[p], points[n])\n",
    "                if d < min_distance:\n",
    "                    min_distance = d\n",
    "                    min_point = n\n",
    "        if min_point == -1:\n",
    "            print(\"ERROR-point not found\")\n",
    "        G[p] = [min_point]\n",
    "    return G"
   ]
  },
  {
   "cell_type": "markdown",
   "metadata": {},
   "source": [
    "**But what if we wanted to find the nearest *2* neighbors? The nearest 3? More?**\n",
    "\n",
    "**&#9989;  Do This:** Next **write a function that generates a graph using the k-nearest neighbor graph algorithm**.  More information about the nearest neighbor and k-nearnest neighbor algorithm can be found here:\n",
    "\n",
    "https://en.wikipedia.org/wiki/Nearest_neighbor_graph\n",
    "\n",
    "The KNN graph is very similar to the nearest neighbor graph you did in the pre-class assignment. However, now instead of only finding the closest point to each point you find the k-closest points.\n",
    "\n",
    "**Important note**: While the nearest-neighbor and KNN problems are similar, the same approach may not work well for both solutions! You should think this through and talk about it with your group. **How will you tackle this problem?**"
   ]
  },
  {
   "cell_type": "code",
   "execution_count": 82,
   "metadata": {},
   "outputs": [],
   "source": [
    "# # Put your k-nn function here\n",
    "def distance(p1,p2):\n",
    "    '''Returns the distance betwen two numpy points'''\n",
    "    return math.sqrt((p1[0] - p2[0])**2 + (p1[1] - p2[1])**2)\n",
    "\n",
    "# G=dict{}\n",
    "# p1=longitude\n",
    "\n",
    "# distances=[]\n",
    "# for i in range(1,len(longitude)):\n",
    "#     px=longitude\n",
    "#     dist=distance(p1,i)\n",
    "#     list.append((dist,i))\n",
    "# print(p1)\n",
    "def nearest_neighbors(points):\n",
    "    '''Generates an adjacency list based on the Nearest neighbor graph algorithm.'''\n",
    "    G = dict()\n",
    "    for p in range(0,len(points)):\n",
    "        min_distance = np.inf\n",
    "        min_point = -1\n",
    "        closest=[]\n",
    "        for n in range(0,len(points)):\n",
    "            if p != n:\n",
    "                d = distance(points[p], points[n])\n",
    "                closest.append([d,points[n]])\n",
    "        cloest.sort()       \n",
    "        if min_point == -1:\n",
    "            print(\"ERROR-point not found\")\n",
    "        G[p] = []\n",
    "        for i in range(k):\n",
    "            G[p].append(closest[i][1])\n",
    "            \n",
    "    return G\n"
   ]
  },
  {
   "cell_type": "markdown",
   "metadata": {},
   "source": [
    "**&#9989; Do This:**  It is important to test code.  How do you know if your K-NN algorithm is working? Trying writing a function that tests if your code is right. Try changing the inputs and the values for ```k``` and make sure it behaves correctly. One important test would be ensuring it works when *k=1* as this should reproduce the nearest neighbor graph."
   ]
  },
  {
   "cell_type": "code",
   "execution_count": 46,
   "metadata": {},
   "outputs": [],
   "source": [
    "# Put some testing code here\n"
   ]
  },
  {
   "cell_type": "markdown",
   "metadata": {},
   "source": [
    "**&#9989; Do This:** Using the tower locations from Part 1, generate a figure similar to the following:\n",
    "\n",
    "<img src=\"https://i.ibb.co/1dd1rz9/knn-graph.png\">  \n",
    "\n",
    "While the above graph displays the network, clearly not a lot of attention was given to the aesthetics!"
   ]
  },
  {
   "cell_type": "code",
   "execution_count": null,
   "metadata": {},
   "outputs": [],
   "source": [
    "# Put the code that makes your cell tower plot here\n"
   ]
  },
  {
   "cell_type": "markdown",
   "metadata": {},
   "source": [
    "---\n",
    "<a id=\"p3\"></a>\n",
    "## Part 3: Greedy Graph Coloring\n",
    "\n",
    "Next we will run a greedy graph coloring algorithm on your K-NN graph with k = 3 and plot the towers in the x-y plane colored to match the frequency selected. For example:\n",
    "\n",
    "<img src=\"https://i.ibb.co/mFwd72V/knn-color-graph.png\">"
   ]
  },
  {
   "cell_type": "markdown",
   "metadata": {},
   "source": [
    "**&#9989; Do This:** Using networkx, apply the \"greedy\" graph coloring algorithm to the K-NN graph (K=3) developed in part 2 of the tower data downloaded in part 1.  "
   ]
  },
  {
   "cell_type": "code",
   "execution_count": null,
   "metadata": {},
   "outputs": [],
   "source": [
    "# Plot your colored cell tower graph here.\n"
   ]
  },
  {
   "cell_type": "markdown",
   "metadata": {},
   "source": [
    "---\n",
    "<a id=\"p4\"></a>\n",
    "## Part 4: Plot tower colors on a map\n",
    "Finally plot the towers on a map and set the marker colors to your individual frequency colors. Something like the following:\n",
    "\n",
    "<img src=\"https://i.ibb.co/Rvx2rJn/Screen-Shot-2021-02-22-at-10-01-20-PM.png\" width=\"800px\">\n",
    "\n",
    "**Note**: In order to overlay the tower locations as points on map, you'll like need to find a python package that can help you do this. We explored some such options in a previous class period!\n",
    "\n",
    "**&#9989; Do This:** First, write some test code to generate a map with colored points using whatever package you chose to use."
   ]
  },
  {
   "cell_type": "code",
   "execution_count": null,
   "metadata": {},
   "outputs": [],
   "source": [
    "#Put your test code here\n"
   ]
  },
  {
   "cell_type": "markdown",
   "metadata": {},
   "source": [
    "**&#9989; Do This:** Finally, put it all together.  Generate a map with markers colored based on the frequencies selected in the graph coloring algorithm in part 3.  Use the K-NN graph with ```k=3``` generated from part 2 of the tower data downloaded from part 1. "
   ]
  },
  {
   "cell_type": "code",
   "execution_count": null,
   "metadata": {},
   "outputs": [],
   "source": [
    "# Put your map code here\n"
   ]
  },
  {
   "cell_type": "markdown",
   "metadata": {},
   "source": [
    "----"
   ]
  },
  {
   "cell_type": "markdown",
   "metadata": {},
   "source": [
    "-----\n",
    "### Congratulations, we're done!\n",
    "\n",
    "Now, you just need to submit this assignment by uploading it to the course <a href=\"https://d2l.msu.edu/\">Desire2Learn</a> web page for today's submission folder (Don't forget to add your name in the first cell)."
   ]
  },
  {
   "cell_type": "markdown",
   "metadata": {},
   "source": [
    "&#169; Copyright 2025,  Department of Computational Mathematics, Science and Engineering at Michigan State University\n",
    "\n",
    "<!-- 8/29/2024 -->"
   ]
  },
  {
   "cell_type": "markdown",
   "metadata": {},
   "source": []
  }
 ],
 "metadata": {
  "kernelspec": {
   "display_name": "Python 3.11 (default)",
   "language": "python",
   "name": "python3"
  },
  "language_info": {
   "codemirror_mode": {
    "name": "ipython",
    "version": 3
   },
   "file_extension": ".py",
   "mimetype": "text/x-python",
   "name": "python",
   "nbconvert_exporter": "python",
   "pygments_lexer": "ipython3",
   "version": "3.11.11"
  },
  "widgets": {
   "application/vnd.jupyter.widget-state+json": {
    "state": {},
    "version_major": 2,
    "version_minor": 0
   }
  }
 },
 "nbformat": 4,
 "nbformat_minor": 4
}
