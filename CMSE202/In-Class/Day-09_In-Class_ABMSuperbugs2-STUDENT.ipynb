{
 "cells": [
  {
   "cell_type": "markdown",
   "metadata": {
    "pycharm": {
     "name": "#%% md\n"
    }
   },
   "source": [
    "# In-Class Assignment: Agent Based Modeling of Superbugs (part 2)\n",
    "## With more code review!\n",
    "# Day 09\n",
    "# CMSE 202\n",
    "\n",
    "<img src=\"http://www2.cs.uidaho.edu/~jeffery/vslc/hatereading.png\" width=600px>\n",
    "<p style=\"text-align: right;\">\n",
    "    \n",
    "Source: http://abstrusegoose.com/strips/you_down_wit_OPC-yeah_you_know_me.png ; thanks to Bruce Bolden</p>\n",
    "\n",
    "<!--\n",
    "<img src=\"http://abstrusegoose.com/strips/you_down_wit_OPC-yeah_you_know_me.png\" width=600px>\n",
    "<p style=\"text-align: right;\">Amusing comic from: http://abstrusegoose.com/ </p>\n",
    "-->"
   ]
  },
  {
   "cell_type": "markdown",
   "metadata": {
    "pycharm": {
     "name": "#%% md\n"
    }
   },
   "source": [
    "### <p style=\"text-align: right;\"> &#9989; **Emmanuel Luk** </p>\n",
    "#### <p style=\"text-align: right;\"> &#9989; Put your group member names here</p>"
   ]
  },
  {
   "cell_type": "markdown",
   "metadata": {
    "pycharm": {
     "name": "#%% md\n"
    }
   },
   "source": [
    "## Agenda for today's class\n",
    "\n",
    "- [Part 1: Pre-class assignment review and discussion](#pca-review)\n",
    "- [Part 2: Revisiting your assignment from last class, building your Python class(es)](#revisit)\n",
    "- [Part 3: Understanding someone else's code](#someone-else)\n",
    "- [Part 4: Reviewing the provided code](#code-review)\n",
    "- [Part 5: Running the simulation](#simulation)\n",
    "- [Part 6: Testing Scientific Questions](#testing)"
   ]
  },
  {
   "cell_type": "markdown",
   "metadata": {
    "pycharm": {
     "name": "#%% md\n"
    }
   },
   "source": [
    "---\n",
    "<a id=\"pca-review\"></a>\n",
    "## Part 1. Pre-class assignment review and discussion\n",
    "\n",
    "Did anyone have any specific issues with the pre-class assignment?\n",
    "\n",
    "Let's take a moment to highlight some key concepts. **Discuss with your group** the following prompts and write down a some brief notes from your discussion.\n",
    "\n",
    "&#9989; **Question 1:** What did you see as some of the key differences, advantages, and disadvantages in the linear, functional, and object oriented programming approaches you reviewed in the pre-class assignment?"
   ]
  },
  {
   "cell_type": "markdown",
   "metadata": {
    "pycharm": {
     "name": "#%% md\n"
    }
   },
   "source": [
    "I had some issues changing the script for the ant function. Specifically how to add the fixed color map to visualize the pheromones. "
   ]
  },
  {
   "cell_type": "markdown",
   "metadata": {
    "pycharm": {
     "name": "#%% md\n"
    }
   },
   "source": [
    "I had some issues with changing the script for the ant function. Specifically how to add the color bar to visualize the pheromones. "
   ]
  },
  {
   "cell_type": "markdown",
   "metadata": {
    "pycharm": {
     "name": "#%% md\n"
    }
   },
   "source": [
    "&#9989; **Question 2:** What is a Python \"docstring\", how it is used, and why is it useful?"
   ]
  },
  {
   "cell_type": "markdown",
   "metadata": {
    "pycharm": {
     "name": "#%% md\n"
    }
   },
   "source": [
    "Docstring provides information on what a class, module or function does. This can help with readability. This can also act as a reference for later parts of the code where an earlier function or class needs to be called. "
   ]
  },
  {
   "cell_type": "markdown",
   "metadata": {
    "pycharm": {
     "name": "#%% md\n"
    }
   },
   "source": [
    "---\n",
    "<a id=\"revisit\"></a>\n",
    "##  Part 2. Revisiting your assignment from last class, building your Python class(es)\n",
    "\n",
    "Now that you've had a bit more time to think about objected oriented programming and review some code that was written to build an agent-based model in an objected oriented way, **you're going to spend the first 30 minutes of your group activity time picking up where you left off with your \"superbugs\" model.**\n",
    "\n",
    "**&#9989; Do This:** Take this time to review the progress you made last week on initializing your petri dish. If you didn't finish it, try to finish it. If you finished it, review your code and think about ways you might be able to make it better. Reviewing your own code will sometimes feel like looking at someone else's code. You might find that your \"present self\" isn't a huge fan of how your \"past self\" did things (especially if your past self didn't leave you any comments!). **Do this as a group!**\n",
    "\n",
    "Copy your code from last time into this notebook and try to get your petri dish code working or make improvements to a functioning version.\n",
    "\n",
    "**If you already managed to get the basic petri dish initialization working, start building other methods that would be necessary to evolve the model**."
   ]
  },
  {
   "cell_type": "code",
   "execution_count": null,
   "metadata": {},
   "outputs": [],
   "source": []
  },
  {
   "cell_type": "code",
   "execution_count": 20,
   "metadata": {
    "pycharm": {
     "name": "#%%\n"
    }
   },
   "outputs": [
    {
     "data": {
      "image/png": "[encoded data removed]",
      "text/plain": [
       "<Figure size 640x480 with 1 Axes>"
      ]
     },
     "metadata": {},
     "output_type": "display_data"
    }
   ],
   "source": [
    "# CODE GOES HERE!\n",
    "import numpy as np\n",
    "import matplotlib.pyplot as plt\n",
    "import random\n",
    "\n",
    "def generate_antibiotic_grid(size, pattern):\n",
    "    \"\"\"\n",
    "    Generate a 2D antibiotic grid following the specified pattern.\n",
    "    \"\"\"\n",
    "    x_bins = len(pattern)\n",
    "    antibiotic_grid = np.zeros((*size, 3))  # Three antibiotics per cell\n",
    "    for i in range(size[0]):\n",
    "        bin_idx = i % x_bins  # Repeat the pattern across the grid\n",
    "        antibiotic_grid[i, :, :] = pattern[bin_idx]\n",
    "    return antibiotic_grid\n",
    "\n",
    "class Bacteria:\n",
    "    def __init__(self):\n",
    "        \"\"\"Initialize bacteria with a genome of three resistance values (0 to 1).\"\"\"\n",
    "        self.genes = np.random.rand(3)  # Resistance to three antibiotics\n",
    "    \n",
    "    def mutate(self):\n",
    "        \"\"\"Each gene has a 20% chance to mutate (random new value between 0-1).\"\"\"\n",
    "        for i in range(3):\n",
    "            if np.random.rand() < 0.2:\n",
    "                self.genes[i] = np.random.rand()\n",
    "\n",
    "class PetriDish:\n",
    "    def __init__(self, size=(90, 45)):\n",
    "        self.size = size\n",
    "        self.grid = np.empty(size, dtype=object)  # Grid holding bacteria objects\n",
    "        \n",
    "        # Antibiotic distribution (same for all three antibiotics)\n",
    "        pattern = np.array([\n",
    "            [0.0, 0.0, 0.0], [0.50, 0.50, 0.50], [0.75, 0.75, 0.75],\n",
    "            [0.80, 0.80, 0.80], [0.95, 0.95, 0.95], [0.80, 0.80, 0.80],\n",
    "            [0.75, 0.75, 0.75], [0.50, 0.50, 0.50], [0.0, 0.0, 0.0]\n",
    "        ])\n",
    "        self.antibiotics = generate_antibiotic_grid(size, pattern)\n",
    "        self.init_bacteria()\n",
    "    \n",
    "    def init_bacteria(self):\n",
    "        \"\"\"Initialize bacteria in the first and last columns.\"\"\"\n",
    "        for i in range(self.size[0]):\n",
    "            self.grid[i, 0] = Bacteria()\n",
    "            self.grid[i, -1] = Bacteria()\n",
    "    \n",
    "    # def step(self):\n",
    "    #     \"\"\"Simulate one time step of bacterial reproduction and survival.\"\"\"\n",
    "    #     new_grid = np.empty(self.size, dtype=object)\n",
    "    #     for x in range(self.size[0]):\n",
    "    #         for y in range(self.size[1]):\n",
    "    #             if self.grid[x, y] is not None:\n",
    "    #                 bacteria = self.grid[x, y]\n",
    "    #                 # Check survival\n",
    "    #                 if np.any(bacteria.genes < self.antibiotics[x, y]):\n",
    "    #                     continue  # Dies if resistance is lower than antibiotics\n",
    "    #                 # Reproduce into a random neighboring empty cell\n",
    "    #                 neighbors = [(x-1, y), (x+1, y), (x, y-1), (x, y+1)]\n",
    "    #                 random.shuffle(neighbors)\n",
    "    #                 for nx, ny in neighbors:\n",
    "    #                     if 0 <= nx < self.size[0] and 0 <= ny < self.size[1]:\n",
    "    #                         if new_grid[nx, ny] is None:\n",
    "    #                             new_bacteria = Bacteria()\n",
    "    #                             new_bacteria.genes = bacteria.genes.copy()\n",
    "    #                             new_bacteria.mutate()\n",
    "    #                             new_grid[nx, ny] = new_bacteria\n",
    "    #                             break\n",
    "    #     self.grid = new_grid  # Update grid\n",
    "    \n",
    "    def display(self):\n",
    "        \"\"\"Visualize bacteria distribution using Matplotlib.\"\"\"\n",
    "        img = np.zeros(self.size)\n",
    "        for x in range(self.size[0]):\n",
    "            for y in range(self.size[1]):\n",
    "                if self.grid[x, y] is not None:\n",
    "                    img[x, y] = 1\n",
    "        plt.imshow(img.T, origin='lower', cmap='viridis')\n",
    "        plt.title(\"Bacteria Growth\")\n",
    "        plt.show()\n",
    "\n",
    "# Run Simulation\n",
    "dish = PetriDish()\n",
    "\n",
    "# dish.step()\n",
    "dish.display()\n"
   ]
  },
  {
   "cell_type": "markdown",
   "metadata": {
    "pycharm": {
     "name": "#%% md\n"
    }
   },
   "source": [
    "## &#128721; STOP\n",
    "\n",
    "Check-in with the rest of the group and with the instructor"
   ]
  },
  {
   "cell_type": "markdown",
   "metadata": {
    "pycharm": {
     "name": "#%% md\n"
    }
   },
   "source": [
    "----\n",
    "<a id=\"someone-else\"></a>\n",
    "## Part 3. Understanding someone else's code\n",
    "\n",
    "In the pre-class assignment, you spent some time doing a code review of multiple solutions to the same problem. In addition to simply reading unfamiliar code to make sense of it, when we use a new bit of code, if it's reasonably well written there are ways to explore how it works from inside our Jupyter notebooks or within an IPython prompt as well.\n",
    "\n",
    "Thus far you've been a bit of time trying to write your own solution to the superbug problem in an effort to recreate the anti-bacterial resistance experiment. Maybe you got everything working the way you wanted, or perhaps you've still ironing out a few bugs. **Now we're going to switch gears a bit and look at one possible complete solution to the problem**.\n",
    "\n",
    "**&#9989; Do This:** To start, you're going to import a script that contains this solution. First, you need to download the script, `superbugs.py`, which you can get here:\n",
    "\n",
    "`https://raw.githubusercontent.com/msu-cmse-courses/cmse202-supplemental-data/main/code_samples/superbugs.py`\n",
    "\n",
    "**Run the following cell to import the script once you download it.**"
   ]
  },
  {
   "cell_type": "code",
   "execution_count": 42,
   "metadata": {
    "pycharm": {
     "name": "#%%\n"
    }
   },
   "outputs": [],
   "source": [
    "import superbugs"
   ]
  },
  {
   "cell_type": "markdown",
   "metadata": {
    "pycharm": {
     "name": "#%% md\n"
    }
   },
   "source": [
    "&#9989; **Do This:** Now, explore the above software, but **don't just look at the code right now**. Use standard exploration commands (e.g. use `help()`, `dir()`, `type`, or `?`) in your notebook to see if you can figure out what \"`superbugs`\" does/can do. "
   ]
  },
  {
   "cell_type": "code",
   "execution_count": 43,
   "metadata": {
    "pycharm": {
     "name": "#%%\n"
    }
   },
   "outputs": [
    {
     "data": {
      "text/plain": [
       "['Bug',\n",
       " 'PetriDish',\n",
       " '__builtins__',\n",
       " '__cached__',\n",
       " '__doc__',\n",
       " '__file__',\n",
       " '__loader__',\n",
       " '__name__',\n",
       " '__package__',\n",
       " '__spec__',\n",
       " 'np',\n",
       " 'plt',\n",
       " 'random']"
      ]
     },
     "execution_count": 43,
     "metadata": {},
     "output_type": "execute_result"
    }
   ],
   "source": [
    "# put your exploration code here.\n",
    "superbugs\n",
    "\n",
    "#help(superbugs)\n",
    "dir(superbugs)"
   ]
  },
  {
   "cell_type": "markdown",
   "metadata": {
    "pycharm": {
     "name": "#%% md\n"
    }
   },
   "source": [
    "&#9989; **Do This:** Using the superbugs code, initialize the experiment and display the first time step of the board (t=0). Then, try to take a timestep and visualize the result. Again, **see if you can do this _without_ looking at the source code**."
   ]
  },
  {
   "cell_type": "code",
   "execution_count": 56,
   "metadata": {
    "pycharm": {
     "name": "#%%\n"
    }
   },
   "outputs": [],
   "source": [
    "# put your initialization and visualization code here\n",
    "\"\"\"superbugs.py\n",
    "\n",
    "Contains class definitions for modeling the evolution of bacteria in the\n",
    "presence of antibiotics.\n",
    "\"\"\"\n",
    "\n",
    "# =============================================================================\n",
    "# imports\n",
    "# =============================================================================\n",
    "\n",
    "# built-ins\n",
    "import random\n",
    "\n",
    "# standard imports\n",
    "import numpy as np\n",
    "import matplotlib.pyplot as plt\n",
    "\n",
    "\n",
    "# =============================================================================\n",
    "# constants\n",
    "# =============================================================================\n",
    "\n",
    "\n",
    "# =============================================================================\n",
    "# bug class\n",
    "# =============================================================================\n",
    "\n",
    "class Bug():\n",
    "    \"\"\"Bug class. \n",
    "    \n",
    "    Each bug has 3 genes in the range [0, 1) and a location (c, r) in\n",
    "    a two dimensional grid.\n",
    "    \n",
    "    Attributes:\n",
    "        genes [type: numpy array]\n",
    "            List of three numbers in the range [0, 1) generated uniformly\n",
    "            at random.\n",
    "        \n",
    "        loc [type: tuple]\n",
    "            Ordered pair of coordinates specifying the bug's location.\n",
    "            \n",
    "        mutation_rate [type: float]\n",
    "            The mutation rate for the bacterium\n",
    "        \n",
    "    Methods:\n",
    "        __init__(c=0, r=0, mutation_rate=0.2)\n",
    "            Initialize a bug with random genes and a mutation rate\n",
    "            at the location (c, r)\n",
    "        \n",
    "        mitosis()\n",
    "            Returns a new bug.\n",
    "        \n",
    "            Copies genes from the current bug to the new bug with probability\n",
    "            equal to 1 - mutation_rate. Else, assigns new genes at random.\n",
    "            \n",
    "        draw()\n",
    "            Draws the bug with rgb color corresponding to it's genes.\n",
    "    \"\"\"\n",
    "\n",
    "    def __init__(self, c=0, r=0, mutation_rate=0.2):\n",
    "        \"\"\"Initializes a bug with random genes. Default location is (0, 0).\n",
    "           Default mutation rate is 0.2.\n",
    "        \n",
    "        Args:\n",
    "            c [type: int]\n",
    "                Specifies the column of the bug in a 2d grid.\n",
    "            \n",
    "            r [type: int]\n",
    "                Specifies the row of the bug in a 2d grid.\n",
    "                \n",
    "            mutation_rate [type: float]\n",
    "                Probability that bacteria mutate\n",
    "        \"\"\"\n",
    "        self.genes = np.random.rand(3)\n",
    "        self.loc = (c, r)\n",
    "        self.mutation_rate = mutation_rate\n",
    "\n",
    "    def mitosis(self):\n",
    "        \"\"\"Returns a new bug.\n",
    "        \n",
    "        Copies genes from the current bug to the new bug with probability\n",
    "        equal to 1 - mutation_rate. Else, assigns new genes at random.\n",
    "        \"\"\"\n",
    "        newbug = Bug(mutation_rate=self.mutation_rate)\n",
    "        for (i, g) in enumerate(self.genes):\n",
    "            if random.random() > self.mutation_rate:\n",
    "                newbug.genes[i] = self.genes[i]\n",
    "        return newbug\n",
    "\n",
    "    def draw(self):\n",
    "        \"\"\"Draws the bug with rgb color corresponding to it's genes.\"\"\"\n",
    "        plt.scatter(self.loc[0], self.loc[1], color=self.genes)\n",
    "\n",
    "\n",
    "# =============================================================================\n",
    "# petri_dish class\n",
    "# =============================================================================\n",
    "\n",
    "class PetriDish():\n",
    "    \"\"\"PetriDish class.\n",
    "    \n",
    "    Generates a petri dish representing the world where the bugs live.\n",
    "    Each dish has antibiotics and a list of bugs.\n",
    "    \n",
    "    Attributes:\n",
    "        buglist [type: dict]\n",
    "            dictionary of all bugs in simulation\n",
    "        \n",
    "        active [type: set]\n",
    "            set of active (i.e., not dead) bugs\n",
    "            \n",
    "        antibodies [type: numpy array]\n",
    "            2d grid storing the values of the antibiotics at each point\n",
    "        \n",
    "    Methods:\n",
    "        __init__()\n",
    "            Initializes the world.\n",
    "        \n",
    "        timestep()\n",
    "            Performs one timestep of the simulation.\n",
    "        \n",
    "        draw()\n",
    "            Draws the world as an image and plots each bug.\n",
    "    \"\"\"\n",
    "\n",
    "    def __init__(self, n_rows=45, n_cols=90,\n",
    "                 antibods=[0, 0.5, 0.75, 0.8, 0.95, 0.8, 0.75, 0.5, 0],\n",
    "                 init_cols=[0, 89],\n",
    "                 bug_mutation_rate=0.2):\n",
    "        \"\"\"Initializes the world.\n",
    "        \n",
    "        Args:\n",
    "            n_rows [type: int]\n",
    "                number of rows in world\n",
    "            \n",
    "            n_cols [type: int]\n",
    "                number of columns in world\n",
    "            \n",
    "            antibods [type: list<float>]\n",
    "                antibiotic values in each region of the world\n",
    "                length of antibods must evenly divide n_cols\n",
    "            \n",
    "            init_cols [type: list<int>]\n",
    "                starting columns for the antibiotics\n",
    "                \n",
    "            bug_mutation_rate [type: float]\n",
    "                the mutation rate of the bacteria in this dish\n",
    "        \"\"\"\n",
    "        # error check on inputs\n",
    "        assert n_cols % len(antibods) == 0, \\\n",
    "            \"ERROR: Number of anitbodies must evenly divide the number of columns\"\n",
    "\n",
    "        assert init_cols[0] >= 0 and init_cols[1] < n_cols, \\\n",
    "            \"Starting columns must be greater than zero and less than the total number of columns.\"\n",
    "\n",
    "        # dictionary of location, bug key value pairs\n",
    "        self.buglist = dict()\n",
    "\n",
    "        # set of active bugs\n",
    "        self.active = set()\n",
    "\n",
    "        # sets the attribute self.antibodies that stores the world info\n",
    "        self._basic_setup(n_rows=n_rows, n_cols=n_cols,\n",
    "                          antibods=antibods, init_cols=init_cols,\n",
    "                          bug_mutation_rate=bug_mutation_rate)\n",
    "\n",
    "    def _basic_setup(self, n_rows=45, n_cols=90,\n",
    "                     antibods=[0, 0.5, 0.75, 0.8, 0.95, 0.8, 0.75, 0.5, 0],\n",
    "                     init_cols=[0, 89],\n",
    "                     bug_mutation_rate=0.2):\n",
    "        \"\"\"Sets up the world.\n",
    "        \n",
    "        Helper function for __init__ method with same arguments as __init__.\n",
    "        \"\"\"\n",
    "        # initialize bugs\n",
    "        for row in range(n_rows):\n",
    "            # bugs on the left\n",
    "            bl = Bug(init_cols[1], row, bug_mutation_rate)\n",
    "\n",
    "            # bugs on the left\n",
    "            br = Bug(init_cols[0], row, bug_mutation_rate)\n",
    "\n",
    "            # add initial points to active and buglist\n",
    "            self.buglist[br.loc] = br\n",
    "            self.buglist[bl.loc] = bl\n",
    "            self.active.add(br.loc)\n",
    "            self.active.add(bl.loc)\n",
    "\n",
    "        # set up the board of antibodies\n",
    "        step = n_cols // len(antibods)\n",
    "        self.antibodies = np.zeros((n_rows, n_cols, 3))\n",
    "        for ii in range(n_cols // step):\n",
    "            self.antibodies[:, ii * step: (ii + 1) * step + 1] = [antibods[ii]] * 3\n",
    "\n",
    "    def timestep(self):\n",
    "        \"\"\"Performs one time step of the simulation.\n",
    "        \n",
    "        Loops through the bugs, finds their neighbors and initiates mitosis.\n",
    "        New bugs will die if their gene values are less than the corresponding\n",
    "        antibiotic values.\n",
    "        \"\"\"\n",
    "        newbugs = dict()\n",
    "        n_cols = self.antibodies.shape[1]\n",
    "        n_rows = self.antibodies.shape[0]\n",
    "\n",
    "        these_bugs = self.active.copy()\n",
    "\n",
    "        for b in these_bugs:\n",
    "            c = b[0]\n",
    "            r = b[1]\n",
    "            parent_bug = self.buglist[b]\n",
    "\n",
    "            neighbors = []\n",
    "            for dc in range(c - 1, c + 2):\n",
    "                for dr in range(r - 1, r + 2):\n",
    "                    key = (dc, dr)\n",
    "                    if dc >= 0 and dc < n_cols and dr >= 0 and dr < n_rows:\n",
    "                        if not key in self.buglist:\n",
    "                            neighbors.append(key)\n",
    "            if neighbors:\n",
    "                child_bug = parent_bug.mitosis()\n",
    "                loc = random.choice(neighbors)\n",
    "\n",
    "                # check if bug lives\n",
    "                child_bug.loc = loc\n",
    "                alive = True\n",
    "                for i, g in enumerate(child_bug.genes):\n",
    "                    if g < self.antibodies[loc[1], loc[0], i]:\n",
    "                        alive = False\n",
    "                if alive:\n",
    "                    newbugs[child_bug.loc] = child_bug\n",
    "            else:\n",
    "                self.active.remove((c, r))\n",
    "\n",
    "        self.buglist.update(newbugs)\n",
    "        self.active.update(newbugs)\n",
    "\n",
    "    def draw(self, background=None):\n",
    "        \"\"\"Draws the world as an image and plots each bug.\"\"\"\n",
    "        plt.imshow(1.0 - self.antibodies)\n",
    "        [self.buglist[b].draw() for b in self.buglist]\n"
   ]
  },
  {
   "cell_type": "code",
   "execution_count": 57,
   "metadata": {
    "pycharm": {
     "name": "#%%\n"
    }
   },
   "outputs": [
    {
     "data": {
      "image/png": "[encoded data removed]",
      "text/plain": [
       "<Figure size 640x480 with 1 Axes>"
      ]
     },
     "metadata": {},
     "output_type": "display_data"
    }
   ],
   "source": [
    "# put your code for taking a step and visualizing the code here\n",
    "PetriDish()\n",
    "petri= PetriDish()\n",
    "petri.draw()"
   ]
  },
  {
   "cell_type": "markdown",
   "metadata": {
    "pycharm": {
     "name": "#%% md\n"
    }
   },
   "source": [
    "---\n",
    "<a id=\"code-review\"></a>\n",
    "## Part 4. Reviewing the provided code\n",
    "\n",
    "OK, now that you've managed to learn a bit about the the code to the point where you can initialize the simulation, you're going to take a look at the code and see how it compares to what you came up with.\n",
    "\n",
    "&#9989; **Do This:** Open `superbugs.py` in a text editor and review the code. How does it work, what classes are available? What are their associated methods and attributes? **Compare and constrast the code with the code that you wrote** (even if you didn't get all bits of your code working). **What parts are similar? What parts are different? What advantages/disadvantages do you see in your approach and this approach?** Discuss this with your group and write down some notes from your discussion.\n",
    "\n",
    "**If there are parts of the code that you don't understand, talk with your group or ask an instructor for help!**"
   ]
  },
  {
   "cell_type": "markdown",
   "metadata": {
    "pycharm": {
     "name": "#%% md\n"
    }
   },
   "source": [
    "I like how this approach had separate classes for the bugs and the environment. This approach went in much further detail for "
   ]
  },
  {
   "cell_type": "markdown",
   "metadata": {
    "pycharm": {
     "name": "#%% md\n"
    }
   },
   "source": [
    "## &#128721; STOP\n",
    "\n",
    "Check-in with the rest of the group and with the instructor."
   ]
  },
  {
   "cell_type": "markdown",
   "metadata": {
    "jp-MarkdownHeadingCollapsed": true,
    "pycharm": {
     "name": "#%% md\n"
    }
   },
   "source": [
    "----\n",
    "<a id=\"simulation\"></a>\n",
    "## Part 5. Running the Simulation\n",
    "\n",
    "Now that you understand a bit about how the code works, you're going to try to run a full simulation for a set number of timesteps.\n",
    "\n",
    "&#9989; **Do This:** Using the petri_dish variable you initialized previously, write an loop that runs the ```timestep``` function followed by the ```draw``` function 10 times.  Make sure to animate the figure (you might need to dig up a previous example to get the animation working)."
   ]
  },
  {
   "cell_type": "code",
   "execution_count": null,
   "metadata": {
    "pycharm": {
     "name": "#%%\n"
    }
   },
   "outputs": [],
   "source": [
    "# Put your code here\n",
    "for i range(10)\n",
    "    time_step=timestep."
   ]
  },
  {
   "cell_type": "markdown",
   "metadata": {
    "pycharm": {
     "name": "#%% md\n"
    }
   },
   "source": [
    "&#9989; **Do This:** You might have noticed that the simulation gets slower as it runs.  **Comment out the plotting and animation code and rerun the simulation with 100 iterations.** Only draw the simulation once it is complete."
   ]
  },
  {
   "cell_type": "markdown",
   "metadata": {
    "pycharm": {
     "name": "#%% md\n"
    }
   },
   "source": [
    "&#9989; **Question 3**: Do you notice a change in the simulation run time when you comment out the plotting and animation code? How can you tell?"
   ]
  },
  {
   "cell_type": "markdown",
   "metadata": {
    "pycharm": {
     "name": "#%% md\n"
    }
   },
   "source": [
    "<font size=+3>&#9998;</font> Do This - Erase the contents of this cell and replace it with your answer to the above question!  (double-click on this text to edit this cell, and hit shift+enter to save the text)"
   ]
  },
  {
   "cell_type": "markdown",
   "metadata": {
    "pycharm": {
     "name": "#%% md\n"
    }
   },
   "source": [
    "&#9989; **Question 4**: What if you wanted to know exactly how long it took to run the simulation? You might have used the `time` module in your animation code or in previous code you've worked with, but we can also use it to time how long certain pieces of code take to run. We can record an initial time with something like:\n",
    "\n",
    "`start = time.time()`\n",
    "\n",
    "And then record the time the code finishes with:\n",
    "\n",
    "`end = time.time()`\n",
    "\n",
    "Try adding this to your code above to time exactly how long the simulation took. Add a line to **print the total run time at the end**. Try comparing the total run time to the simulation that includes the plotting and animation components.\n",
    "\n",
    "**What is the difference in the timing between the versions with (just 10 steps) and without (100 steps) the plotting?**"
   ]
  },
  {
   "cell_type": "markdown",
   "metadata": {
    "pycharm": {
     "name": "#%% md\n"
    }
   },
   "source": [
    "<font size=+3>&#9998;</font> Do This - Erase the contents of this cell and replace it with your answer to the above question!  (double-click on this text to edit this cell, and hit shift+enter to save the text)"
   ]
  },
  {
   "cell_type": "markdown",
   "metadata": {
    "pycharm": {
     "name": "#%% md\n"
    }
   },
   "source": [
    "&#9989; **Question 5**: What if you wanted to know how long each step of the simulation took (i.e. each iteration of the loop)? How would you track this information in your code? **If you have time at the end of class, come back to this and try implementing some code that tracks the time that each step took and prints or visualizes the results.**"
   ]
  },
  {
   "cell_type": "markdown",
   "metadata": {
    "pycharm": {
     "name": "#%% md\n"
    }
   },
   "source": [
    "<font size=+3>&#9998;</font> Do This - Erase the contents of this cell and replace it with your answer to the above question!  (double-click on this text to edit this cell, and hit shift+enter to save the text)"
   ]
  },
  {
   "cell_type": "markdown",
   "metadata": {
    "pycharm": {
     "name": "#%% md\n"
    }
   },
   "source": [
    "---\n",
    "<a id=\"testing\"></a>\n",
    "## Part 6. Testing Scientific Questions\n",
    "\n",
    "For the remainder of the class, we are going to use this code to ask some scientific questions."
   ]
  },
  {
   "cell_type": "markdown",
   "metadata": {
    "pycharm": {
     "name": "#%% md\n"
    }
   },
   "source": [
    "&#9989; **Do This:** Discuss as a group/class the types of scientific question can you could ask (and potentially answer) using this type of simulation.  "
   ]
  },
  {
   "cell_type": "markdown",
   "metadata": {
    "pycharm": {
     "name": "#%% md\n"
    }
   },
   "source": [
    "<font size=+3>&#9998;</font> Do This - Erase the contents of this cell and replace it with your answer to the above question!  (double-click on this text to edit this cell, and hit shift+enter to save the text)"
   ]
  },
  {
   "cell_type": "markdown",
   "metadata": {
    "pycharm": {
     "name": "#%% md\n"
    }
   },
   "source": [
    "&#9989; **Question 6:** Given the above questions, what types of measurements or modifications might we need to add to the superbug code? "
   ]
  },
  {
   "cell_type": "markdown",
   "metadata": {
    "pycharm": {
     "name": "#%% md\n"
    }
   },
   "source": [
    "<font size=+3>&#9998;</font> Do This - Erase the contents of this cell and replace it with your answer to the above question!  (double-click on this text to edit this cell, and hit shift+enter to save the text)"
   ]
  },
  {
   "cell_type": "markdown",
   "metadata": {
    "pycharm": {
     "name": "#%% md\n"
    }
   },
   "source": [
    "### Visualizing the progress of the superbugs\n",
    "\n",
    "If we wanted to use this simulation to answer one of your scientific questions, we might want to visualize the progress of the superbugs as a function of time as they march across the petri dish.\n",
    "\n",
    "&#9989; **Do This:** Write some code to show, in one graph, the progress of the simulation.  For example: you could plot the number of iterations on the x axis and the progress the bugs have made toward the center of the simulation on the y axis.  "
   ]
  },
  {
   "cell_type": "code",
   "execution_count": null,
   "metadata": {
    "pycharm": {
     "name": "#%%\n"
    }
   },
   "outputs": [],
   "source": [
    "#Put your code here.\n"
   ]
  },
  {
   "cell_type": "markdown",
   "metadata": {
    "pycharm": {
     "name": "#%% md\n"
    }
   },
   "source": [
    "&#9989; **Do This:** Do this, modify or use the simulation in some way that allows you to test a scientific question of the simulation.  "
   ]
  },
  {
   "cell_type": "code",
   "execution_count": null,
   "metadata": {
    "pycharm": {
     "name": "#%%\n"
    }
   },
   "outputs": [],
   "source": [
    "# put your scientific experiment code here.\n"
   ]
  },
  {
   "cell_type": "markdown",
   "metadata": {
    "pycharm": {
     "name": "#%% md\n"
    }
   },
   "source": [
    "&#9989; **Question 7**: What scientific question does your new usage or modification demonstrate and what can you conclude from the simulation?"
   ]
  },
  {
   "cell_type": "markdown",
   "metadata": {
    "pycharm": {
     "name": "#%% md\n"
    }
   },
   "source": [
    "<font size=+3>&#9998;</font> Do This - Erase the contents of this cell and replace it with your answer to the above question!  (double-click on this text to edit this cell, and hit shift+enter to save the text)"
   ]
  },
  {
   "cell_type": "markdown",
   "metadata": {
    "pycharm": {
     "name": "#%% md\n"
    }
   },
   "source": [
    "-----\n",
    "### Congratulations, we're done!\n",
    "\n",
    "Now, you just need to submit this assignment by uploading it to the course <a href=\"https://d2l.msu.edu/\">Desire2Learn</a> web page for today's submission folder (Don't forget to add your names in the first cell).\n"
   ]
  },
  {
   "cell_type": "markdown",
   "metadata": {
    "pycharm": {
     "name": "#%% md\n"
    }
   },
   "source": [
    "&#169; Copyright 2025, Department of Computational Mathematics, Science and Engineering at Michigan State University"
   ]
  }
 ],
 "metadata": {
  "kernelspec": {
   "display_name": "Python 3.11 (default)",
   "language": "python",
   "name": "python3"
  },
  "language_info": {
   "codemirror_mode": {
    "name": "ipython",
    "version": 3
   },
   "file_extension": ".py",
   "mimetype": "text/x-python",
   "name": "python",
   "nbconvert_exporter": "python",
   "pygments_lexer": "ipython3",
   "version": "3.11.11"
  },
  "widgets": {
   "application/vnd.jupyter.widget-state+json": {
    "state": {},
    "version_major": 2,
    "version_minor": 0
   }
  }
 },
 "nbformat": 4,
 "nbformat_minor": 4
}
