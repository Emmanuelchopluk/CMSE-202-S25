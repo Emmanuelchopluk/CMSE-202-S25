{
 "cells": [
  {
   "cell_type": "markdown",
   "metadata": {},
   "source": [
    "# In-Class Assignment: Reviewing Pandas and exploring data\n",
    "# Day 5 \n",
    "# CMSE 202\n",
    "\n",
    "### <p style=\"text-align: right;\"> &#9989; Emmanuel Luk</p>\n",
    "#### <p style=\"text-align: right;\"> &#9989; Group #3</p>\n",
    "\n",
    "<img src=\"https://miro.medium.com/max/819/1*Dss7A8Z-M4x8LD9ccgw7pQ.png\" width=\"500px\">"
   ]
  },
  {
   "cell_type": "markdown",
   "metadata": {},
   "source": [
    "## Goals for today's In-class assignment \n",
    "\n",
    "1. Make sure that everyone remembers how to do the basics with Pandas.\n",
    "2. Do a little data analysis with some existing data sets.\n",
    "3. Make some simple visualizations of the data.\n",
    "\n",
    "### Assignment instructions\n",
    "\n",
    "Work through the notebook making sure to write all necessary code and answer any questions.\n",
    "\n",
    "**This assignment is due by the end of class,** and should be uploaded into the appropriate \"In-Class assignments\" submission folder.  Submission instructions can be found at the end of the notebook.\n",
    "\n",
    "## Agenda for today:\n",
    "\n",
    "1. [Review of pre-class assignment](#review)\n",
    "2. [Loading and exploring a dataset](#loading)\n",
    "3. [Visualizing your data](#visualizing)"
   ]
  },
  {
   "cell_type": "markdown",
   "metadata": {},
   "source": [
    "### Useful imports (make sure to execute this cell!)\n",
    "Let's get a few of our imports out of the way. If you find others you need to add, consider coming back and putting them here."
   ]
  },
  {
   "cell_type": "code",
   "execution_count": 4,
   "metadata": {},
   "outputs": [],
   "source": [
    "# necessary imports for this notebook\n",
    "import pandas as pd\n",
    "from pandas.plotting import scatter_matrix"
   ]
  },
  {
   "cell_type": "markdown",
   "metadata": {},
   "source": [
    "----\n",
    "<a id=\"review\"></a>\n",
    "## 1. Review of pre-class assignment\n",
    "\n",
    "Did anyone have any specific issues with the pre-class assignment?\n",
    "\n",
    "Let's take a moment to highlight some key concepts. **Discuss with your table** the following prompts and write down a brief definition of each of these concepts.\n",
    "\n",
    "**If you don't feel like you have good working definitions yet, try doing a quick internet search to see if you can find a definition that makes sense to you.**\n",
    "\n",
    "&#9989; **Question 1:** What are the features of a Pandas Series?"
   ]
  },
  {
   "cell_type": "markdown",
   "metadata": {},
   "source": [
    "<font size=+3>&#9998;</font> Do This -  Pandas series include indexing, multiple variable types as well as filtering and slicing. "
   ]
  },
  {
   "cell_type": "markdown",
   "metadata": {},
   "source": [
    "&#9989; **Question 2:** What are the differences between a DataFrame and a Series?"
   ]
  },
  {
   "cell_type": "markdown",
   "metadata": {},
   "source": [
    "<font size=+3>&#9998;</font> Do This - Series are a data frame but not every data frame is a series. Series are distinct. "
   ]
  },
  {
   "cell_type": "markdown",
   "metadata": {},
   "source": [
    "---\n",
    "<a id=\"loading\"></a>\n",
    "## 2. Loading and exploring a dataset\n",
    "\n",
    "Though you review how one can build a DataFrame by hand in your pre-class assignment, the goal is typically to read some sort of preexisting data **into** a DataFrame so we can work with it. \n",
    "\n",
    "Pandas is pretty flexible about reading in data and can read in a [variety of formats](https://pandas.pydata.org/pandas-docs/stable/user_guide/io.html). However, it sometimes needs a little help. Let's start with a \"toy\" dataset, the <a href=\"https://en.wikipedia.org/wiki/Iris_flower_data_set\"> Iris Data set </a>. \n",
    "\n",
    "A toy dataset is often one that has a particularly nice set of features or is of a manageable size such that it can be used as a good dataset for learning new data analysis techiques or testing out code. This allows one to focus on the code and data science methods without getting too caught up in wrangling the data. However, **data wrangling** is an authentic part of doing any sort of meaningful data analysis as data more often messier than not. \n",
    "\n",
    "Although you will be working with a toy dataset today, you may still have to do a bit of wrangling along the way.\n",
    "\n",
    "### 2.1 Getting used to looking for useful information on the internet\n",
    "\n",
    "Another authentic part of working as a computational professional is getting comfortable with searching for help on the internet when you get stuck or run into something that is unfamiliar to you. The Python data analysis/computional modeling world can be complicated and is ever-evolving. There is also a large number of publicly available toolsets with varying levels of complexity and nuance. Through practice and experience, we become better computational folks by learning how to search for better, more efficient, clearer ways to do things. \n",
    "\n",
    "#### The Iris data\n",
    "\n",
    "The iris data set is pretty straight forward (review the wikipedia link above if you haven't yet), especially if someone has done all of the data wrangling and cleaning for you. To make it a little more interesting we provide it in a raw form that you might encounter with other data.\n",
    "\n",
    "**&#9989; Do This:**  To get started, **you'll need to download the following two files**:\n",
    "\n",
    "`https://raw.githubusercontent.com/msu-cmse-courses/cmse202-F22-data/main/data/iris.data`\n",
    "\n",
    "`https://raw.githubusercontent.com/msu-cmse-courses/cmse202-F22-data/main/data/iris.names`\n",
    "\n",
    "Once you've done so, you should have access to the following : `iris.data` and `iris.names`. Open them both and discuss what you see. This is a good opportunity to use you favorite text editor or use something new. Feel free to ask your group members or instructors what they prefer to use."
   ]
  },
  {
   "cell_type": "markdown",
   "metadata": {},
   "source": [
    "&#9989; **Question 3**: Describe the data and the information in the names file. What characteristics are provided there? Perhaps the iris dataset link above will help."
   ]
  },
  {
   "cell_type": "markdown",
   "metadata": {},
   "source": [
    "<font size=+3>&#9998;</font> Do This - Erase the contents of this cell and replace it with your answer to the above question!  (double-click on this text to edit this cell, and hit shift+enter to save the text). **Practice using appropriate Markdown formating to make your answer's easy to read.**"
   ]
  },
  {
   "cell_type": "code",
   "execution_count": 25,
   "metadata": {},
   "outputs": [
    {
     "name": "stdout",
     "output_type": "stream",
     "text": [
      "        5.1 3.5 1.4 0.2 Iris-setosa\n",
      "0       4.9 3.0 1.4 0.2 Iris-setosa\n",
      "1       4.7 3.2 1.3 0.2 Iris-setosa\n",
      "2       4.6 3.1 1.5 0.2 Iris-setosa\n",
      "3       5.0 3.6 1.4 0.2 Iris-setosa\n",
      "4       5.4 3.9 1.7 0.4 Iris-setosa\n",
      "..                              ...\n",
      "144  6.7 3.0 5.2 2.3 Iris-virginica\n",
      "145  6.3 2.5 5.0 1.9 Iris-virginica\n",
      "146  6.5 3.0 5.2 2.0 Iris-virginica\n",
      "147  6.2 3.4 5.4 2.3 Iris-virginica\n",
      "148  5.9 3.0 5.1 1.8 Iris-virginica\n",
      "\n",
      "[149 rows x 1 columns]\n"
     ]
    },
    {
     "ename": "ParserError",
     "evalue": "Error tokenizing data. C error: Expected 1 fields in line 7, saw 2\n",
     "output_type": "error",
     "traceback": [
      "\u001b[0;31m---------------------------------------------------------------------------\u001b[0m",
      "\u001b[0;31mParserError\u001b[0m                               Traceback (most recent call last)",
      "Cell \u001b[0;32mIn[25], line 5\u001b[0m\n\u001b[1;32m      1\u001b[0m iris_d \u001b[38;5;241m=\u001b[39mpd\u001b[38;5;241m.\u001b[39mread_csv(\u001b[38;5;124m\"\u001b[39m\u001b[38;5;124miris.data\u001b[39m\u001b[38;5;124m\"\u001b[39m)\n\u001b[1;32m      3\u001b[0m \u001b[38;5;28mprint\u001b[39m(iris_d)\n\u001b[0;32m----> 5\u001b[0m iris_n \u001b[38;5;241m=\u001b[39m\u001b[43mpd\u001b[49m\u001b[38;5;241;43m.\u001b[39;49m\u001b[43mread_csv\u001b[49m\u001b[43m(\u001b[49m\u001b[38;5;124;43m\"\u001b[39;49m\u001b[38;5;124;43miris.names\u001b[39;49m\u001b[38;5;124;43m\"\u001b[39;49m\u001b[43m)\u001b[49m\n",
      "File \u001b[0;32m/opt/miniconda3/lib/python3.11/site-packages/pandas/io/parsers/readers.py:1026\u001b[0m, in \u001b[0;36mread_csv\u001b[0;34m(filepath_or_buffer, sep, delimiter, header, names, index_col, usecols, dtype, engine, converters, true_values, false_values, skipinitialspace, skiprows, skipfooter, nrows, na_values, keep_default_na, na_filter, verbose, skip_blank_lines, parse_dates, infer_datetime_format, keep_date_col, date_parser, date_format, dayfirst, cache_dates, iterator, chunksize, compression, thousands, decimal, lineterminator, quotechar, quoting, doublequote, escapechar, comment, encoding, encoding_errors, dialect, on_bad_lines, delim_whitespace, low_memory, memory_map, float_precision, storage_options, dtype_backend)\u001b[0m\n\u001b[1;32m   1013\u001b[0m kwds_defaults \u001b[38;5;241m=\u001b[39m _refine_defaults_read(\n\u001b[1;32m   1014\u001b[0m     dialect,\n\u001b[1;32m   1015\u001b[0m     delimiter,\n\u001b[0;32m   (...)\u001b[0m\n\u001b[1;32m   1022\u001b[0m     dtype_backend\u001b[38;5;241m=\u001b[39mdtype_backend,\n\u001b[1;32m   1023\u001b[0m )\n\u001b[1;32m   1024\u001b[0m kwds\u001b[38;5;241m.\u001b[39mupdate(kwds_defaults)\n\u001b[0;32m-> 1026\u001b[0m \u001b[38;5;28;01mreturn\u001b[39;00m \u001b[43m_read\u001b[49m\u001b[43m(\u001b[49m\u001b[43mfilepath_or_buffer\u001b[49m\u001b[43m,\u001b[49m\u001b[43m \u001b[49m\u001b[43mkwds\u001b[49m\u001b[43m)\u001b[49m\n",
      "File \u001b[0;32m/opt/miniconda3/lib/python3.11/site-packages/pandas/io/parsers/readers.py:626\u001b[0m, in \u001b[0;36m_read\u001b[0;34m(filepath_or_buffer, kwds)\u001b[0m\n\u001b[1;32m    623\u001b[0m     \u001b[38;5;28;01mreturn\u001b[39;00m parser\n\u001b[1;32m    625\u001b[0m \u001b[38;5;28;01mwith\u001b[39;00m parser:\n\u001b[0;32m--> 626\u001b[0m     \u001b[38;5;28;01mreturn\u001b[39;00m \u001b[43mparser\u001b[49m\u001b[38;5;241;43m.\u001b[39;49m\u001b[43mread\u001b[49m\u001b[43m(\u001b[49m\u001b[43mnrows\u001b[49m\u001b[43m)\u001b[49m\n",
      "File \u001b[0;32m/opt/miniconda3/lib/python3.11/site-packages/pandas/io/parsers/readers.py:1923\u001b[0m, in \u001b[0;36mTextFileReader.read\u001b[0;34m(self, nrows)\u001b[0m\n\u001b[1;32m   1916\u001b[0m nrows \u001b[38;5;241m=\u001b[39m validate_integer(\u001b[38;5;124m\"\u001b[39m\u001b[38;5;124mnrows\u001b[39m\u001b[38;5;124m\"\u001b[39m, nrows)\n\u001b[1;32m   1917\u001b[0m \u001b[38;5;28;01mtry\u001b[39;00m:\n\u001b[1;32m   1918\u001b[0m     \u001b[38;5;66;03m# error: \"ParserBase\" has no attribute \"read\"\u001b[39;00m\n\u001b[1;32m   1919\u001b[0m     (\n\u001b[1;32m   1920\u001b[0m         index,\n\u001b[1;32m   1921\u001b[0m         columns,\n\u001b[1;32m   1922\u001b[0m         col_dict,\n\u001b[0;32m-> 1923\u001b[0m     ) \u001b[38;5;241m=\u001b[39m \u001b[38;5;28;43mself\u001b[39;49m\u001b[38;5;241;43m.\u001b[39;49m\u001b[43m_engine\u001b[49m\u001b[38;5;241;43m.\u001b[39;49m\u001b[43mread\u001b[49m\u001b[43m(\u001b[49m\u001b[43m  \u001b[49m\u001b[38;5;66;43;03m# type: ignore[attr-defined]\u001b[39;49;00m\n\u001b[1;32m   1924\u001b[0m \u001b[43m        \u001b[49m\u001b[43mnrows\u001b[49m\n\u001b[1;32m   1925\u001b[0m \u001b[43m    \u001b[49m\u001b[43m)\u001b[49m\n\u001b[1;32m   1926\u001b[0m \u001b[38;5;28;01mexcept\u001b[39;00m \u001b[38;5;167;01mException\u001b[39;00m:\n\u001b[1;32m   1927\u001b[0m     \u001b[38;5;28mself\u001b[39m\u001b[38;5;241m.\u001b[39mclose()\n",
      "File \u001b[0;32m/opt/miniconda3/lib/python3.11/site-packages/pandas/io/parsers/c_parser_wrapper.py:234\u001b[0m, in \u001b[0;36mCParserWrapper.read\u001b[0;34m(self, nrows)\u001b[0m\n\u001b[1;32m    232\u001b[0m \u001b[38;5;28;01mtry\u001b[39;00m:\n\u001b[1;32m    233\u001b[0m     \u001b[38;5;28;01mif\u001b[39;00m \u001b[38;5;28mself\u001b[39m\u001b[38;5;241m.\u001b[39mlow_memory:\n\u001b[0;32m--> 234\u001b[0m         chunks \u001b[38;5;241m=\u001b[39m \u001b[38;5;28;43mself\u001b[39;49m\u001b[38;5;241;43m.\u001b[39;49m\u001b[43m_reader\u001b[49m\u001b[38;5;241;43m.\u001b[39;49m\u001b[43mread_low_memory\u001b[49m\u001b[43m(\u001b[49m\u001b[43mnrows\u001b[49m\u001b[43m)\u001b[49m\n\u001b[1;32m    235\u001b[0m         \u001b[38;5;66;03m# destructive to chunks\u001b[39;00m\n\u001b[1;32m    236\u001b[0m         data \u001b[38;5;241m=\u001b[39m _concatenate_chunks(chunks)\n",
      "File \u001b[0;32mparsers.pyx:838\u001b[0m, in \u001b[0;36mpandas._libs.parsers.TextReader.read_low_memory\u001b[0;34m()\u001b[0m\n",
      "File \u001b[0;32mparsers.pyx:905\u001b[0m, in \u001b[0;36mpandas._libs.parsers.TextReader._read_rows\u001b[0;34m()\u001b[0m\n",
      "File \u001b[0;32mparsers.pyx:874\u001b[0m, in \u001b[0;36mpandas._libs.parsers.TextReader._tokenize_rows\u001b[0;34m()\u001b[0m\n",
      "File \u001b[0;32mparsers.pyx:891\u001b[0m, in \u001b[0;36mpandas._libs.parsers.TextReader._check_tokenize_status\u001b[0;34m()\u001b[0m\n",
      "File \u001b[0;32mparsers.pyx:2061\u001b[0m, in \u001b[0;36mpandas._libs.parsers.raise_parser_error\u001b[0;34m()\u001b[0m\n",
      "\u001b[0;31mParserError\u001b[0m: Error tokenizing data. C error: Expected 1 fields in line 7, saw 2\n"
     ]
    }
   ],
   "source": [
    "iris_d =pd.read_csv(\"iris.data\")\n",
    "\n",
    "print(iris_d)\n",
    "\n",
    "iris_n =pd.read_csv(\"iris.names\")\n",
    "\n"
   ]
  },
  {
   "cell_type": "markdown",
   "metadata": {},
   "source": [
    "###  2.2 Reading in a file\n",
    "\n",
    "Pandas supports a number of file formats, but one of the most common is the one provided by the `read_csv` function. Typically, the phrase **csv** stands for \"comma separated values\", a text file format that excel and other spread sheets use. In a typical csv file, each line represents a line in a spreadsheet and each cell value is separated from the next by a comma.\n",
    "\n",
    "However, you can use other separators as well. Look at the [documentation for `read_csv`](https://pandas.pydata.org/pandas-docs/stable/reference/api/pandas.read_csv.html)."
   ]
  },
  {
   "cell_type": "markdown",
   "metadata": {},
   "source": [
    "**&#9989; Do This:** Read the ```iris.data``` file into your notebook **and assign appropriate column headers**. Display the DataFrame to make sure it looks reasonable."
   ]
  },
  {
   "cell_type": "code",
   "execution_count": 32,
   "metadata": {},
   "outputs": [
    {
     "name": "stdout",
     "output_type": "stream",
     "text": [
      "         5.1 3.5 1.4 0.2 Iris-setosa\n",
      "0        4.9 3.0 1.4 0.2 Iris-setosa\n",
      "1        4.7 3.2 1.3 0.2 Iris-setosa\n",
      "2        4.6 3.1 1.5 0.2 Iris-setosa\n",
      "3        5.0 3.6 1.4 0.2 Iris-setosa\n",
      "4        5.4 3.9 1.7 0.4 Iris-setosa\n",
      "5        4.6 3.4 1.4 0.3 Iris-setosa\n",
      "6        5.0 3.4 1.5 0.2 Iris-setosa\n",
      "7        4.4 2.9 1.4 0.2 Iris-setosa\n",
      "8        4.9 3.1 1.5 0.1 Iris-setosa\n",
      "9        5.4 3.7 1.5 0.2 Iris-setosa\n",
      "10       4.8 3.4 1.6 0.2 Iris-setosa\n",
      "11       4.8 3.0 1.4 0.1 Iris-setosa\n",
      "12       4.3 3.0 1.1 0.1 Iris-setosa\n",
      "13       5.8 4.0 1.2 0.2 Iris-setosa\n",
      "14       5.7 4.4 1.5 0.4 Iris-setosa\n",
      "15       5.4 3.9 1.3 0.4 Iris-setosa\n",
      "16       5.1 3.5 1.4 0.3 Iris-setosa\n",
      "17       5.7 3.8 1.7 0.3 Iris-setosa\n",
      "18       5.1 3.8 1.5 0.3 Iris-setosa\n",
      "19       5.4 3.4 1.7 0.2 Iris-setosa\n",
      "20       5.1 3.7 1.5 0.4 Iris-setosa\n",
      "21       4.6 3.6 1.0 0.2 Iris-setosa\n",
      "22       5.1 3.3 1.7 0.5 Iris-setosa\n",
      "23       4.8 3.4 1.9 0.2 Iris-setosa\n",
      "24       5.0 3.0 1.6 0.2 Iris-setosa\n",
      "25       5.0 3.4 1.6 0.4 Iris-setosa\n",
      "26       5.2 3.5 1.5 0.2 Iris-setosa\n",
      "27       5.2 3.4 1.4 0.2 Iris-setosa\n",
      "28       4.7 3.2 1.6 0.2 Iris-setosa\n",
      "29       4.8 3.1 1.6 0.2 Iris-setosa\n",
      "30       5.4 3.4 1.5 0.4 Iris-setosa\n",
      "31       5.2 4.1 1.5 0.1 Iris-setosa\n",
      "32       5.5 4.2 1.4 0.2 Iris-setosa\n",
      "33       4.9 3.1 1.5 0.1 Iris-setosa\n",
      "34       5.0 3.2 1.2 0.2 Iris-setosa\n",
      "35       5.5 3.5 1.3 0.2 Iris-setosa\n",
      "36       4.9 3.1 1.5 0.1 Iris-setosa\n",
      "37       4.4 3.0 1.3 0.2 Iris-setosa\n",
      "38       5.1 3.4 1.5 0.2 Iris-setosa\n",
      "39       5.0 3.5 1.3 0.3 Iris-setosa\n",
      "40       4.5 2.3 1.3 0.3 Iris-setosa\n",
      "41       4.4 3.2 1.3 0.2 Iris-setosa\n",
      "42       5.0 3.5 1.6 0.6 Iris-setosa\n",
      "43       5.1 3.8 1.9 0.4 Iris-setosa\n",
      "44       4.8 3.0 1.4 0.3 Iris-setosa\n",
      "45       5.1 3.8 1.6 0.2 Iris-setosa\n",
      "46       4.6 3.2 1.4 0.2 Iris-setosa\n",
      "47       5.3 3.7 1.5 0.2 Iris-setosa\n",
      "48       5.0 3.3 1.4 0.2 Iris-setosa\n",
      "49   7.0 3.2 4.7 1.4 Iris-versicolor\n",
      "50   6.4 3.2 4.5 1.5 Iris-versicolor\n",
      "51   6.9 3.1 4.9 1.5 Iris-versicolor\n",
      "52   5.5 2.3 4.0 1.3 Iris-versicolor\n",
      "53   6.5 2.8 4.6 1.5 Iris-versicolor\n",
      "54   5.7 2.8 4.5 1.3 Iris-versicolor\n",
      "55   6.3 3.3 4.7 1.6 Iris-versicolor\n",
      "56   4.9 2.4 3.3 1.0 Iris-versicolor\n",
      "57   6.6 2.9 4.6 1.3 Iris-versicolor\n",
      "58   5.2 2.7 3.9 1.4 Iris-versicolor\n",
      "59   5.0 2.0 3.5 1.0 Iris-versicolor\n",
      "60   5.9 3.0 4.2 1.5 Iris-versicolor\n",
      "61   6.0 2.2 4.0 1.0 Iris-versicolor\n",
      "62   6.1 2.9 4.7 1.4 Iris-versicolor\n",
      "63   5.6 2.9 3.6 1.3 Iris-versicolor\n",
      "64   6.7 3.1 4.4 1.4 Iris-versicolor\n",
      "65   5.6 3.0 4.5 1.5 Iris-versicolor\n",
      "66   5.8 2.7 4.1 1.0 Iris-versicolor\n",
      "67   6.2 2.2 4.5 1.5 Iris-versicolor\n",
      "68   5.6 2.5 3.9 1.1 Iris-versicolor\n",
      "69   5.9 3.2 4.8 1.8 Iris-versicolor\n",
      "70   6.1 2.8 4.0 1.3 Iris-versicolor\n",
      "71   6.3 2.5 4.9 1.5 Iris-versicolor\n",
      "72   6.1 2.8 4.7 1.2 Iris-versicolor\n",
      "73   6.4 2.9 4.3 1.3 Iris-versicolor\n",
      "74   6.6 3.0 4.4 1.4 Iris-versicolor\n",
      "75   6.8 2.8 4.8 1.4 Iris-versicolor\n",
      "76   6.7 3.0 5.0 1.7 Iris-versicolor\n",
      "77   6.0 2.9 4.5 1.5 Iris-versicolor\n",
      "78   5.7 2.6 3.5 1.0 Iris-versicolor\n",
      "79   5.5 2.4 3.8 1.1 Iris-versicolor\n",
      "80   5.5 2.4 3.7 1.0 Iris-versicolor\n",
      "81   5.8 2.7 3.9 1.2 Iris-versicolor\n",
      "82   6.0 2.7 5.1 1.6 Iris-versicolor\n",
      "83   5.4 3.0 4.5 1.5 Iris-versicolor\n",
      "84   6.0 3.4 4.5 1.6 Iris-versicolor\n",
      "85   6.7 3.1 4.7 1.5 Iris-versicolor\n",
      "86   6.3 2.3 4.4 1.3 Iris-versicolor\n",
      "87   5.6 3.0 4.1 1.3 Iris-versicolor\n",
      "88   5.5 2.5 4.0 1.3 Iris-versicolor\n",
      "89   5.5 2.6 4.4 1.2 Iris-versicolor\n",
      "90   6.1 3.0 4.6 1.4 Iris-versicolor\n",
      "91   5.8 2.6 4.0 1.2 Iris-versicolor\n",
      "92   5.0 2.3 3.3 1.0 Iris-versicolor\n",
      "93   5.6 2.7 4.2 1.3 Iris-versicolor\n",
      "94   5.7 3.0 4.2 1.2 Iris-versicolor\n",
      "95   5.7 2.9 4.2 1.3 Iris-versicolor\n",
      "96   6.2 2.9 4.3 1.3 Iris-versicolor\n",
      "97   5.1 2.5 3.0 1.1 Iris-versicolor\n",
      "98   5.7 2.8 4.1 1.3 Iris-versicolor\n",
      "99    6.3 3.3 6.0 2.5 Iris-virginica\n",
      "100   5.8 2.7 5.1 1.9 Iris-virginica\n",
      "101   7.1 3.0 5.9 2.1 Iris-virginica\n",
      "102   6.3 2.9 5.6 1.8 Iris-virginica\n",
      "103   6.5 3.0 5.8 2.2 Iris-virginica\n",
      "104   7.6 3.0 6.6 2.1 Iris-virginica\n",
      "105   4.9 2.5 4.5 1.7 Iris-virginica\n",
      "106   7.3 2.9 6.3 1.8 Iris-virginica\n",
      "107   6.7 2.5 5.8 1.8 Iris-virginica\n",
      "108   7.2 3.6 6.1 2.5 Iris-virginica\n",
      "109   6.5 3.2 5.1 2.0 Iris-virginica\n",
      "110   6.4 2.7 5.3 1.9 Iris-virginica\n",
      "111   6.8 3.0 5.5 2.1 Iris-virginica\n",
      "112   5.7 2.5 5.0 2.0 Iris-virginica\n",
      "113   5.8 2.8 5.1 2.4 Iris-virginica\n",
      "114   6.4 3.2 5.3 2.3 Iris-virginica\n",
      "115   6.5 3.0 5.5 1.8 Iris-virginica\n",
      "116   7.7 3.8 6.7 2.2 Iris-virginica\n",
      "117   7.7 2.6 6.9 2.3 Iris-virginica\n",
      "118   6.0 2.2 5.0 1.5 Iris-virginica\n",
      "119   6.9 3.2 5.7 2.3 Iris-virginica\n",
      "120   5.6 2.8 4.9 2.0 Iris-virginica\n",
      "121   7.7 2.8 6.7 2.0 Iris-virginica\n",
      "122   6.3 2.7 4.9 1.8 Iris-virginica\n",
      "123   6.7 3.3 5.7 2.1 Iris-virginica\n",
      "124   7.2 3.2 6.0 1.8 Iris-virginica\n",
      "125   6.2 2.8 4.8 1.8 Iris-virginica\n",
      "126   6.1 3.0 4.9 1.8 Iris-virginica\n",
      "127   6.4 2.8 5.6 2.1 Iris-virginica\n",
      "128   7.2 3.0 5.8 1.6 Iris-virginica\n",
      "129   7.4 2.8 6.1 1.9 Iris-virginica\n",
      "130   7.9 3.8 6.4 2.0 Iris-virginica\n",
      "131   6.4 2.8 5.6 2.2 Iris-virginica\n",
      "132   6.3 2.8 5.1 1.5 Iris-virginica\n",
      "133   6.1 2.6 5.6 1.4 Iris-virginica\n",
      "134   7.7 3.0 6.1 2.3 Iris-virginica\n",
      "135   6.3 3.4 5.6 2.4 Iris-virginica\n",
      "136   6.4 3.1 5.5 1.8 Iris-virginica\n",
      "137   6.0 3.0 4.8 1.8 Iris-virginica\n",
      "138   6.9 3.1 5.4 2.1 Iris-virginica\n",
      "139   6.7 3.1 5.6 2.4 Iris-virginica\n",
      "140   6.9 3.1 5.1 2.3 Iris-virginica\n",
      "141   5.8 2.7 5.1 1.9 Iris-virginica\n",
      "142   6.8 3.2 5.9 2.3 Iris-virginica\n",
      "143   6.7 3.3 5.7 2.5 Iris-virginica\n",
      "144   6.7 3.0 5.2 2.3 Iris-virginica\n",
      "145   6.3 2.5 5.0 1.9 Iris-virginica\n",
      "146   6.5 3.0 5.2 2.0 Iris-virginica\n",
      "147   6.2 3.4 5.4 2.3 Iris-virginica\n",
      "148   5.9 3.0 5.1 1.8 Iris-virginica\n"
     ]
    }
   ],
   "source": [
    "# replace this cell with code to read in the iris.data file with column headers. Use appropriate headers!\n",
    "irisd = pd.DataFrame(iris_d)\n",
    "\n",
    "print(irisd)\n"
   ]
  },
  {
   "cell_type": "markdown",
   "metadata": {},
   "source": [
    "### 2.3 Describing your data\n",
    "\n",
    "The `.describe()` methods tells you about the data. If the data is too big to see (height and width) you can use the two options below to show more of the data. You can change the values to suit your needs. "
   ]
  },
  {
   "cell_type": "code",
   "execution_count": 26,
   "metadata": {},
   "outputs": [],
   "source": [
    "# expand what is shown (rows and cols) by pandas, any time you change default options -- be thoughtful about your choices!\n",
    "pd.set_option('display.max_rows', 500)\n",
    "pd.set_option('display.max_columns', 500)"
   ]
  },
  {
   "cell_type": "markdown",
   "metadata": {},
   "source": [
    "**&#9989; Do This:** Run the `.describe()` method on the data you read in. If you think about how you might **classify** the species contained in the dataset based on the four available features, can you discern anything helpful? Put your answer in the cell below."
   ]
  },
  {
   "cell_type": "code",
   "execution_count": 28,
   "metadata": {},
   "outputs": [
    {
     "data": {
      "text/html": [
       "<div>\n",
       "<style scoped>\n",
       "    .dataframe tbody tr th:only-of-type {\n",
       "        vertical-align: middle;\n",
       "    }\n",
       "\n",
       "    .dataframe tbody tr th {\n",
       "        vertical-align: top;\n",
       "    }\n",
       "\n",
       "    .dataframe thead th {\n",
       "        text-align: right;\n",
       "    }\n",
       "</style>\n",
       "<table border=\"1\" class=\"dataframe\">\n",
       "  <thead>\n",
       "    <tr style=\"text-align: right;\">\n",
       "      <th></th>\n",
       "      <th>5.1 3.5 1.4 0.2 Iris-setosa</th>\n",
       "    </tr>\n",
       "  </thead>\n",
       "  <tbody>\n",
       "    <tr>\n",
       "      <th>count</th>\n",
       "      <td>149</td>\n",
       "    </tr>\n",
       "    <tr>\n",
       "      <th>unique</th>\n",
       "      <td>146</td>\n",
       "    </tr>\n",
       "    <tr>\n",
       "      <th>top</th>\n",
       "      <td>4.9 3.1 1.5 0.1 Iris-setosa</td>\n",
       "    </tr>\n",
       "    <tr>\n",
       "      <th>freq</th>\n",
       "      <td>3</td>\n",
       "    </tr>\n",
       "  </tbody>\n",
       "</table>\n",
       "</div>"
      ],
      "text/plain": [
       "        5.1 3.5 1.4 0.2 Iris-setosa\n",
       "count                           149\n",
       "unique                          146\n",
       "top     4.9 3.1 1.5 0.1 Iris-setosa\n",
       "freq                              3"
      ]
     },
     "execution_count": 28,
     "metadata": {},
     "output_type": "execute_result"
    }
   ],
   "source": [
    "# Put your code here\n",
    "iris_d.describe()\n",
    "\n",
    "\n",
    "\n"
   ]
  },
  {
   "cell_type": "markdown",
   "metadata": {},
   "source": [
    "<font size=+3>&#9998;</font> Do This - Count and unique are useful features. I would say for this data set \"top\" would be the most useful. "
   ]
  },
  {
   "cell_type": "markdown",
   "metadata": {},
   "source": [
    "### 2.4 Grouping your data\n",
    "You can perform operations to group elements using the `.groupby()` method. The result of the use of `.groupby` is a `GroupBy` object. If you were to print it you see only the class instance name as nothing is computed until an operation is performed on the groups, much like other iterators. However, you can use `.describe()` on the result of a `.groupby()` call. If you haven't used this before, you may need to consult the [documentation for `.groupby()`](https://pandas.pydata.org/pandas-docs/stable/reference/api/pandas.DataFrame.groupby.html) "
   ]
  },
  {
   "cell_type": "markdown",
   "metadata": {},
   "source": [
    "**&#9989; Do This:** Make a GroupBy object using the iris DataFrame and **group by the class/species of the data**. Then run `.describe()` on the group result. Now take a look at the data from the group. Thinking again about classification, **do you see any data features you could use to classify the data when you look at it this way?**"
   ]
  },
  {
   "cell_type": "code",
   "execution_count": null,
   "metadata": {},
   "outputs": [],
   "source": [
    "# Put your code here\n"
   ]
  },
  {
   "cell_type": "markdown",
   "metadata": {},
   "source": [
    "<font size=+3>&#9998;</font> Do this - Erase this and put your answer here. Did you find any useful features? What makes those features useful in classfying the species of the irises? How did using `.groupby()` help (or not) in finding useful features?"
   ]
  },
  {
   "cell_type": "markdown",
   "metadata": {},
   "source": [
    "-----\n",
    "<a id=\"visualizing\"></a>\n",
    "## 3 Visualizing your data\n",
    "\n",
    "We are often limited in understanding our data because it is complex, has many features, or is quite large. In these situations, visualizations (plots, charts, and graphs) can help represent our data in ways that help us gain greater insight into the trends, features, and classes we want to understand."
   ]
  },
  {
   "cell_type": "markdown",
   "metadata": {},
   "source": [
    "### 3.1 Making a scatter matrix\n",
    "\n",
    "Rather than just looking at the raw values or exploring basic statistical values for our data, it would be better if we were to visualize the differences. Since the number of features is small, we can use a plotting feature of Pandas called `scatter_matrix()`. Did you notice that we imported `scatter_matrix` at the start of this notebook?\n",
    "\n",
    "**&#9989; Do This:** Try calling the `scatter_matrix` function on your dataframe. Use a `marker` that you prefer. Look up the documentation for `scatter_matrix` on the Pandas website for more information! You may need to make the figure bigger to get a good look at it.\n",
    "\n",
    "**Note**: There is a similar sort of plot that can be made with the [seaborn](https://seaborn.pydata.org/index.html) package, which you may have seen before. If so, do you remember what it is?"
   ]
  },
  {
   "cell_type": "code",
   "execution_count": 41,
   "metadata": {},
   "outputs": [
    {
     "ename": "TypeError",
     "evalue": "scatter_matrix() missing 1 required positional argument: 'frame'",
     "output_type": "error",
     "traceback": [
      "\u001b[0;31m---------------------------------------------------------------------------\u001b[0m",
      "\u001b[0;31mTypeError\u001b[0m                                 Traceback (most recent call last)",
      "Cell \u001b[0;32mIn[41], line 3\u001b[0m\n\u001b[1;32m      1\u001b[0m \u001b[38;5;66;03m# your code heres\u001b[39;00m\n\u001b[0;32m----> 3\u001b[0m \u001b[43mscatter_matrix\u001b[49m\u001b[43m(\u001b[49m\u001b[43m)\u001b[49m\n",
      "\u001b[0;31mTypeError\u001b[0m: scatter_matrix() missing 1 required positional argument: 'frame'"
     ]
    }
   ],
   "source": [
    "# your code heres\n",
    "\n",
    "scatter_matrix()\n",
    "\n"
   ]
  },
  {
   "cell_type": "markdown",
   "metadata": {},
   "source": [
    "&#9989; **Question 4**: Does this visualization help you to determine the features that might be useful for classification? Why or why not?"
   ]
  },
  {
   "cell_type": "markdown",
   "metadata": {},
   "source": [
    "<font size=+3>&#9998;</font> Do This - "
   ]
  },
  {
   "cell_type": "markdown",
   "metadata": {},
   "source": [
    "### 3.2 Color coding your data\n",
    "\n",
    "The default scatter matrix probably isn't as helpful as we might hope as it's impossible to tell which points on the plot represent our classes/sepcies.\n",
    "\n",
    "We could really use a separate color indication for each dot so we can tell the species apart. Essentially, we need to create an array such that, for each observation in the DataFrame, we can assign a color value to associate it with the appropriate species. It could be just an integer, or it could be one of the standard colors such as \"red\".\n",
    "\n",
    "**&#9989; Do This:** Create a new list, array, or Pandas Series object that maps each species to a particular color. Then recreate the scatter matrix using the `c` argument to give the points in the plot different colors."
   ]
  },
  {
   "cell_type": "code",
   "execution_count": null,
   "metadata": {},
   "outputs": [],
   "source": [
    "# Put your code here\n"
   ]
  },
  {
   "cell_type": "markdown",
   "metadata": {},
   "source": [
    "Hope you got something that's a little more useful! OK, how do we read this now?\n",
    "* The diagonal shows the distribution of the four  numeric variables of our example data.\n",
    "* In the other cells of the plot matrix, we have the scatterplots (i.e. correlation plot) of each variable combination of our dataframe. "
   ]
  },
  {
   "cell_type": "markdown",
   "metadata": {},
   "source": [
    "&#9989; **Question 5**: Are you better able to discern features that might be useful in classfying irises? What can you say about the features of each iris species? Can you separate one species easily? If so, using which feature(s)?"
   ]
  },
  {
   "cell_type": "markdown",
   "metadata": {},
   "source": [
    "<font size=+3>&#9998;</font> Do This - Erase the contents of this cell and replace it with your answer to the above question!  (double-click on this text to edit this cell, and hit shift+enter to save the text). **Practice using appropriate Markdown formating to make your answer's easy to read.**"
   ]
  },
  {
   "cell_type": "markdown",
   "metadata": {},
   "source": [
    "### 3.3 Separating species of irises"
   ]
  },
  {
   "cell_type": "markdown",
   "metadata": {},
   "source": [
    "Now we will use the feature(s) you found above to try to separate iris species. In future parts of the course, we may explore how to do this using models, but for now, you will try to do this by slicing the DataFrame."
   ]
  },
  {
   "cell_type": "markdown",
   "metadata": {},
   "source": [
    "**&#9989; Do This:** One of these species is obviously easier to separate than the others. Can you use a Boolean mask on the dataframe and isolate that one species **using the features and *not the species label***? Try to do so below and confirm that you were successful."
   ]
  },
  {
   "cell_type": "code",
   "execution_count": null,
   "metadata": {},
   "outputs": [],
   "source": [
    "# Put your code here\n"
   ]
  },
  {
   "cell_type": "markdown",
   "metadata": {},
   "source": [
    "**&#9989; Do This:** Can you write a sequence of Boolean masks that separate the other two as well? Are these as effective as the first? Can you think of anything you might do to improve the separation?"
   ]
  },
  {
   "cell_type": "code",
   "execution_count": null,
   "metadata": {},
   "outputs": [],
   "source": [
    "# Put your code here\n"
   ]
  },
  {
   "cell_type": "markdown",
   "metadata": {},
   "source": [
    "<font size=+3>&#9998;</font> Do This - Erase the contents of this cell and replace it with your answer. How effective your Boolean mask separation of the 3 species? Any ideas for improvements?"
   ]
  },
  {
   "cell_type": "markdown",
   "metadata": {},
   "source": [
    "---\n",
    "## 4 What if we didn't have Pandas to read in this data?\n",
    "\n",
    "While Pandas makes life pretty easy for reading in csv and other file formats, all of this functionality is built on top of the standard Python capability. Python can natively open and read files lines by line, but working with files in this context might not be something you're familiar with. For this part of the assignment, you're going to explore how you can use **just Python** without any special packages to read in the iris data.\n",
    "\n",
    "### 4.1 Code review: Loading the iris data with basic Python\n",
    "\n",
    "**&#9989; Do This:**  To get started, **you'll need to download the following file**:\n",
    "\n",
    "`https://raw.githubusercontent.com/msu-cmse-courses/cmse202-F22-data/main/code_samples/my_pandas.py`\n",
    "\n",
    "**&#9989; Do This:** Once you have the file downloaded and in the same location as this notebook **open the file and read through it carefully**. As you read the file **add comments to the lines marked with `#` to explain what you understand the code to be doing**. \n",
    "\n",
    "There may be bits of Python code that you've not encounted before so make sure to **talk with your group** and **search for information on the internet** as you try to make sense of the code!\n",
    "\n",
    "Jot down some of the things you learned or struggled you had in the cell below."
   ]
  },
  {
   "cell_type": "markdown",
   "metadata": {},
   "source": [
    "<font size=+3>&#9998;</font> Do This - Erase the contents of this cell and make note of anything new you learned from reading through the code or highlight anything you don't feel like you understand."
   ]
  },
  {
   "cell_type": "markdown",
   "metadata": {},
   "source": [
    "### 4.2 Using the code: importing the functions and reading in the data\n",
    "\n",
    "Now that you have the hand-made functions for reading in the iris data, we're going to practice **importing functions from script and then using them in your notebook**.\n",
    "\n",
    "The technique for doing this is the following:\n",
    "\n",
    "``` python\n",
    "from [PACKAGENAME] import [FUNCTION]\n",
    "```\n",
    "Where \"PACKAGENAME\" is the name of the script but without the \".py\" part. So for `my_pandas.py`, the PACKAGENAME would be `my_pandas`. Then the FUNCTION is the name of the function from the script that you want to import, e.g. `my_pandas_idx`.\n",
    "\n",
    "**We'll using this functionality in future assignments, so make sure you feel comfortable with this idea.**\n",
    "\n",
    "**&#9989; Do This:** Import the `my_pandas` function and the `my_pandas_idx` function (you can do this on one line, check to see if anyone one in your group knows how). Then, **use these two functions to first read in the data and then extract just the second column from the data**.\n",
    "\n",
    "Once you've done this, **print the first three rows of the iris data and all of the second column.**"
   ]
  },
  {
   "cell_type": "code",
   "execution_count": null,
   "metadata": {},
   "outputs": [],
   "source": [
    "# Put your code here\n"
   ]
  },
  {
   "cell_type": "markdown",
   "metadata": {},
   "source": [
    "---\n",
    "<a id=\"generative\"></a>\n",
    "## 5. Experimenting with generative AI\n",
    "\n",
    "In this part of the assignment we're going to revisit using generative AI tools. Using your preferred AI tool, such as [ChatGPT](https://chat.openai.com/) or [Claude](https://claude.ai/), see if you can develop code to perform the separation of the IRIS plant species better than your method above. \n",
    "\n",
    "Basically, see if you can prompt the large language model (LLM) (in ChatCPT, Claude, or other) to develop code that will take the first four columns of the Iris dataset and predict the species.  \n",
    "\n",
    "<font color=\"red\">**Important note**</font>: Don't forget to include comments in your code or in a markdown cell citing that you used ChatGPT (or another tool) to help you write the code. You should also make sure to include the prompt you used to get to your final code.\n",
    "\n",
    "**Note:** This is intended to test the limits of current LLMs.  You may or may not succeed in coaxing an LLM to generate a useful algorithm. "
   ]
  },
  {
   "cell_type": "code",
   "execution_count": null,
   "metadata": {},
   "outputs": [],
   "source": [
    "# Put your AI-assisted species identification code here\n",
    "# Make sure to cite the tool you use and the key prompt you used to get to things working\n",
    "\n",
    "\n",
    "# Example Citation:\n",
    "# Code adapted from: \n",
    "# OpenAI. (2023). ChatGPT-3.5. Accessed from https://chat.openai.com/ on Sept 7, 2023. \n",
    "# Prompt chain:{'write python code to take first 4 columns of iris data set and predict the species of the flower'; 'do this only with threshold operations'; 'avoid using machine learned classifier'}\n"
   ]
  },
  {
   "cell_type": "markdown",
   "metadata": {},
   "source": [
    "---\n",
    "### &#128721; You made it to the end!\n",
    "Is there anything that we covered today that you're still not feeling certain about? Talk to your group or check in with an instructor.\n",
    "\n",
    "---"
   ]
  },
  {
   "cell_type": "markdown",
   "metadata": {},
   "source": [
    "---------\n",
    "### Congratulations, you're done with your in-class assignment!\n",
    "\n",
    "Now, you just need to submit this assignment by uploading it to the course <a href=\"https://d2l.msu.edu/\">Desire2Learn</a> web page for today's in-class assignment submission folder. (Don't forget to add all of the appropriate names in the first cell)."
   ]
  },
  {
   "cell_type": "markdown",
   "metadata": {},
   "source": [
    "&#169; Copyright 2025,  Department of Computational Mathematcs, Science and Engineering at Michigan State University"
   ]
  }
 ],
 "metadata": {
  "anaconda-cloud": {},
  "kernelspec": {
   "display_name": "Python 3.11 (default)",
   "language": "python",
   "name": "python3"
  },
  "language_info": {
   "codemirror_mode": {
    "name": "ipython",
    "version": 3
   },
   "file_extension": ".py",
   "mimetype": "text/x-python",
   "name": "python",
   "nbconvert_exporter": "python",
   "pygments_lexer": "ipython3",
   "version": "3.11.11"
  },
  "widgets": {
   "application/vnd.jupyter.widget-state+json": {
    "state": {},
    "version_major": 2,
    "version_minor": 0
   }
  }
 },
 "nbformat": 4,
 "nbformat_minor": 4
}
