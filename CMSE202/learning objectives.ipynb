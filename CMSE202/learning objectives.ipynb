{
 "cells": [
  {
   "cell_type": "code",
   "execution_count": null,
   "id": "096cfa7f-5ea7-4beb-a55a-1e69cbb71d50",
   "metadata": {},
   "outputs": [],
   "source": [
    "#Day #4 LO\n",
    "Remind yourself how to download indiviual files from the internet via the command line\n",
    "Practice installing publicly-available Python packages"
   ]
  },
  {
   "cell_type": "code",
   "execution_count": null,
   "id": "0ee18951-6499-4601-858b-99c6e4bdc63a",
   "metadata": {},
   "outputs": [],
   "source": [
    "#pip is for downloading publicly avaiable packages from git hub or locally \n",
    "\n",
    "#curl displays the data contained in file to be viewed"
   ]
  },
  {
   "cell_type": "code",
   "execution_count": 2,
   "id": "23675c3b-fdc9-4d60-bb30-4d183e17b249",
   "metadata": {},
   "outputs": [],
   "source": [
    "#!curl https://raw.githubusercontent.com/wrobstory/vincent/master/examples/data/US_Unemployment_Oct2012.csv"
   ]
  },
  {
   "cell_type": "code",
   "execution_count": null,
   "id": "fb062603-83e4-49e1-8279-a8ba6e7a5e94",
   "metadata": {},
   "outputs": [],
   "source": [
    "#Day 10 Lo\n",
    "-Exploring branching and merging in git\n",
    "-Quick introduction to Graph Theory\n"
   ]
  },
  {
   "cell_type": "code",
   "execution_count": null,
   "id": "d0335446-c107-4a66-b604-6f230f8162f0",
   "metadata": {},
   "outputs": [],
   "source": [
    "#Day 11 LO\n",
    "-Project brainstorming\n",
    "-Create a function for finding the nearest neighbor for a given node in a graph.\n",
    "-Make a simple Graph Theory graph using matplotlib\n",
    "-Experiment with the networkx module"
   ]
  },
  {
   "cell_type": "code",
   "execution_count": null,
   "id": "ec6fec74-e480-470a-af42-de9ab3124d71",
   "metadata": {},
   "outputs": [],
   "source": [
    "import numpy as np\n",
    "\n",
    "def generate_cell_towers(N: int) -> np.ndarray:\n",
    "    return np.random.rand(N, 2)\n",
    "\n",
    "# Example usage:\n",
    "cell_towers = generate_cell_towers(10)\n",
    "print(cell_towers)"
   ]
  }
 ],
 "metadata": {
  "kernelspec": {
   "display_name": "Python 3.11 (default)",
   "language": "python",
   "name": "python3"
  },
  "language_info": {
   "codemirror_mode": {
    "name": "ipython",
    "version": 3
   },
   "file_extension": ".py",
   "mimetype": "text/x-python",
   "name": "python",
   "nbconvert_exporter": "python",
   "pygments_lexer": "ipython3",
   "version": "3.11.11"
  }
 },
 "nbformat": 4,
 "nbformat_minor": 5
}
