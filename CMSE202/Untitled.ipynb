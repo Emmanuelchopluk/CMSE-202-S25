{
 "cells": [
  {
   "cell_type": "code",
   "execution_count": 1,
   "id": "73fd7101-231d-4520-a365-29ede03ea21f",
   "metadata": {},
   "outputs": [],
   "source": [
    "import numpy as np\n",
    "import pandas as pd\n",
    "import random \n"
   ]
  },
  {
   "cell_type": "code",
   "execution_count": 2,
   "id": "1be19285-1538-4819-a208-def64626524d",
   "metadata": {},
   "outputs": [
    {
     "name": "stdout",
     "output_type": "stream",
     "text": [
      "Cloning into 'super-productivity'...\n",
      "remote: Enumerating objects: 126692, done.\u001b[K\n",
      "remote: Counting objects: 100% (5705/5705), done.\u001b[K\n",
      "remote: Compressing objects: 100% (898/898), done.\u001b[K\n",
      "remote: Total 126692 (delta 5004), reused 4807 (delta 4807), pack-reused 120987 (from 4)\u001b[K\n",
      "Receiving objects: 100% (126692/126692), 80.80 MiB | 16.67 MiB/s, done.\n",
      "Resolving deltas: 100% (101593/101593), done.\n",
      "Updating files: 100% (1873/1873), done.\n"
     ]
    }
   ],
   "source": [
    "!git clone https://github.com/johannesjo/super-productivity.git"
   ]
  },
  {
   "cell_type": "code",
   "execution_count": null,
   "id": "ceb58b52-4067-48b8-b987-f1544c0ef0a8",
   "metadata": {},
   "outputs": [],
   "source": []
  }
 ],
 "metadata": {
  "kernelspec": {
   "display_name": "Python 3.11 (default)",
   "language": "python",
   "name": "python3"
  },
  "language_info": {
   "codemirror_mode": {
    "name": "ipython",
    "version": 3
   },
   "file_extension": ".py",
   "mimetype": "text/x-python",
   "name": "python",
   "nbconvert_exporter": "python",
   "pygments_lexer": "ipython3",
   "version": "3.11.11"
  }
 },
 "nbformat": 4,
 "nbformat_minor": 5
}
