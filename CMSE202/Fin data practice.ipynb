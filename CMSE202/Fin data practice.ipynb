{
 "cells": [
  {
   "cell_type": "code",
   "execution_count": 1,
   "id": "fcf75d69-cad6-4d1c-b482-5a7e5018f945",
   "metadata": {},
   "outputs": [
    {
     "name": "stdout",
     "output_type": "stream",
     "text": [
      "<html>\n",
      "<head><title>301 Moved Permanently</title></head>\n",
      "<body>\n",
      "<center><h1>301 Moved Permanently</h1></center>\n",
      "<hr><center>nginx</center>\n",
      "</body>\n",
      "</html>\n"
     ]
    }
   ],
   "source": [
    "!curl https://github.com/hoolagans/STT180_Public.git\n"
   ]
  },
  {
   "cell_type": "code",
   "execution_count": 2,
   "id": "5c6f2fbc-8fbb-42b8-8a75-46066911aadb",
   "metadata": {},
   "outputs": [
    {
     "name": "stdout",
     "output_type": "stream",
     "text": [
      "/usr/bin/bash: line 1: get: command not found\n"
     ]
    }
   ],
   "source": [
    "!get clone https://github.com/hoolagans/STT180_Public.git"
   ]
  },
  {
   "cell_type": "code",
   "execution_count": 3,
   "id": "b6c552f8-767f-4e0a-acf9-7c2e4407a8a9",
   "metadata": {},
   "outputs": [],
   "source": [
    "import pandas as pd\n",
    "import numpy as np\n",
    "import matplotlib.pyplot as plt\n"
   ]
  },
  {
   "cell_type": "code",
   "execution_count": 4,
   "id": "a0d3e6c4-4287-40b9-ac84-dccc3585860b",
   "metadata": {},
   "outputs": [],
   "source": [
    "feb=pd.read_csv(\"fin_february.csv\")"
   ]
  },
  {
   "cell_type": "code",
   "execution_count": 5,
   "id": "2c47745c-7fcc-46b1-8e57-eed35c2909bb",
   "metadata": {},
   "outputs": [
    {
     "data": {
      "text/html": [
       "<div>\n",
       "<style scoped>\n",
       "    .dataframe tbody tr th:only-of-type {\n",
       "        vertical-align: middle;\n",
       "    }\n",
       "\n",
       "    .dataframe tbody tr th {\n",
       "        vertical-align: top;\n",
       "    }\n",
       "\n",
       "    .dataframe thead th {\n",
       "        text-align: right;\n",
       "    }\n",
       "</style>\n",
       "<table border=\"1\" class=\"dataframe\">\n",
       "  <thead>\n",
       "    <tr style=\"text-align: right;\">\n",
       "      <th></th>\n",
       "      <th>Date</th>\n",
       "      <th>Unnamed: 1</th>\n",
       "      <th>Amount</th>\n",
       "      <th>Account</th>\n",
       "      <th>Category</th>\n",
       "      <th>Date.1</th>\n",
       "      <th>Stream</th>\n",
       "      <th>Amount.1</th>\n",
       "      <th>Account.1</th>\n",
       "      <th>Unnamed: 9</th>\n",
       "      <th>...</th>\n",
       "      <th>Totals</th>\n",
       "      <th>Unnamed: 17</th>\n",
       "      <th>Unnamed: 18</th>\n",
       "      <th>Unnamed: 19</th>\n",
       "      <th>Unnamed: 20</th>\n",
       "      <th>Budget</th>\n",
       "      <th>Unnamed: 22</th>\n",
       "      <th>Unnamed: 23</th>\n",
       "      <th>Unnamed: 24</th>\n",
       "      <th>Actual</th>\n",
       "    </tr>\n",
       "  </thead>\n",
       "  <tbody>\n",
       "    <tr>\n",
       "      <th>0</th>\n",
       "      <td>1/1/2025</td>\n",
       "      <td>Daves Hot Chicken</td>\n",
       "      <td>$14.09</td>\n",
       "      <td>CHASE</td>\n",
       "      <td>WASTE</td>\n",
       "      <td>2/1/2025</td>\n",
       "      <td>NaN</td>\n",
       "      <td>NaN</td>\n",
       "      <td>NaN</td>\n",
       "      <td>NaN</td>\n",
       "      <td>...</td>\n",
       "      <td>NaN</td>\n",
       "      <td>NaN</td>\n",
       "      <td>NaN</td>\n",
       "      <td>NaN</td>\n",
       "      <td>NaN</td>\n",
       "      <td>NaN</td>\n",
       "      <td>NaN</td>\n",
       "      <td>NaN</td>\n",
       "      <td>NaN</td>\n",
       "      <td>NaN</td>\n",
       "    </tr>\n",
       "    <tr>\n",
       "      <th>1</th>\n",
       "      <td>NaN</td>\n",
       "      <td>Reighn 7-11</td>\n",
       "      <td>$3.59</td>\n",
       "      <td>CHASE</td>\n",
       "      <td>WASTE</td>\n",
       "      <td>2/1/2025</td>\n",
       "      <td>Coin Return</td>\n",
       "      <td>$19.00</td>\n",
       "      <td>NaN</td>\n",
       "      <td>NaN</td>\n",
       "      <td>...</td>\n",
       "      <td>NaN</td>\n",
       "      <td>NaN</td>\n",
       "      <td>NaN</td>\n",
       "      <td>NaN</td>\n",
       "      <td>NaN</td>\n",
       "      <td>NaN</td>\n",
       "      <td>NaN</td>\n",
       "      <td>NaN</td>\n",
       "      <td>NaN</td>\n",
       "      <td>NaN</td>\n",
       "    </tr>\n",
       "    <tr>\n",
       "      <th>2</th>\n",
       "      <td>NaN</td>\n",
       "      <td>Crud Cash L</td>\n",
       "      <td>$10.75</td>\n",
       "      <td>CHASE</td>\n",
       "      <td>WASTE</td>\n",
       "      <td>2/1/2025</td>\n",
       "      <td>Playtos Closet</td>\n",
       "      <td>$12.00</td>\n",
       "      <td>NaN</td>\n",
       "      <td>NaN</td>\n",
       "      <td>...</td>\n",
       "      <td>1/1/2025</td>\n",
       "      <td>NaN</td>\n",
       "      <td>NaN</td>\n",
       "      <td>NaN</td>\n",
       "      <td>NaN</td>\n",
       "      <td>NaN</td>\n",
       "      <td>NaN</td>\n",
       "      <td>NaN</td>\n",
       "      <td>NaN</td>\n",
       "      <td>NaN</td>\n",
       "    </tr>\n",
       "    <tr>\n",
       "      <th>3</th>\n",
       "      <td>NaN</td>\n",
       "      <td>Indian Food</td>\n",
       "      <td>$17.76</td>\n",
       "      <td>CHASE</td>\n",
       "      <td>WASTE</td>\n",
       "      <td>NaN</td>\n",
       "      <td>GH</td>\n",
       "      <td>NaN</td>\n",
       "      <td>NaN</td>\n",
       "      <td>NaN</td>\n",
       "      <td>...</td>\n",
       "      <td>LMCU MAX</td>\n",
       "      <td>$0.00</td>\n",
       "      <td>NaN</td>\n",
       "      <td>$1,996.96</td>\n",
       "      <td>NaN</td>\n",
       "      <td>WASTE</td>\n",
       "      <td>$200.00</td>\n",
       "      <td>NaN</td>\n",
       "      <td>$2,405.00</td>\n",
       "      <td>NaN</td>\n",
       "    </tr>\n",
       "    <tr>\n",
       "      <th>4</th>\n",
       "      <td>NaN</td>\n",
       "      <td>Sree Saffron</td>\n",
       "      <td>$3.17</td>\n",
       "      <td>CHASE</td>\n",
       "      <td>WASTE</td>\n",
       "      <td>NaN</td>\n",
       "      <td>NaN</td>\n",
       "      <td>NaN</td>\n",
       "      <td>NaN</td>\n",
       "      <td>NaN</td>\n",
       "      <td>...</td>\n",
       "      <td>LMCU Debit</td>\n",
       "      <td>$11.85</td>\n",
       "      <td>NaN</td>\n",
       "      <td>NaN</td>\n",
       "      <td>NaN</td>\n",
       "      <td>SELF INVESTMENT</td>\n",
       "      <td>$400.00</td>\n",
       "      <td>NaN</td>\n",
       "      <td>NaN</td>\n",
       "      <td>NaN</td>\n",
       "    </tr>\n",
       "  </tbody>\n",
       "</table>\n",
       "<p>5 rows × 26 columns</p>\n",
       "</div>"
      ],
      "text/plain": [
       "       Date         Unnamed: 1  Amount Account Category    Date.1  \\\n",
       "0  1/1/2025  Daves Hot Chicken  $14.09   CHASE    WASTE  2/1/2025   \n",
       "1       NaN        Reighn 7-11   $3.59   CHASE    WASTE  2/1/2025   \n",
       "2       NaN        Crud Cash L  $10.75   CHASE    WASTE  2/1/2025   \n",
       "3       NaN       Indian Food   $17.76   CHASE    WASTE       NaN   \n",
       "4       NaN       Sree Saffron   $3.17   CHASE    WASTE       NaN   \n",
       "\n",
       "            Stream Amount.1  Account.1  Unnamed: 9  ...      Totals  \\\n",
       "0              NaN      NaN        NaN         NaN  ...         NaN   \n",
       "1      Coin Return   $19.00        NaN         NaN  ...         NaN   \n",
       "2  Playtos Closet    $12.00        NaN         NaN  ...    1/1/2025   \n",
       "3              GH       NaN        NaN         NaN  ...    LMCU MAX   \n",
       "4              NaN      NaN        NaN         NaN  ...  LMCU Debit   \n",
       "\n",
       "  Unnamed: 17 Unnamed: 18 Unnamed: 19 Unnamed: 20           Budget  \\\n",
       "0         NaN         NaN         NaN         NaN              NaN   \n",
       "1         NaN         NaN         NaN         NaN              NaN   \n",
       "2         NaN         NaN         NaN         NaN              NaN   \n",
       "3       $0.00         NaN   $1,996.96         NaN            WASTE   \n",
       "4      $11.85         NaN         NaN         NaN  SELF INVESTMENT   \n",
       "\n",
       "  Unnamed: 22 Unnamed: 23  Unnamed: 24 Actual  \n",
       "0         NaN         NaN          NaN    NaN  \n",
       "1         NaN         NaN          NaN    NaN  \n",
       "2         NaN         NaN          NaN    NaN  \n",
       "3     $200.00         NaN    $2,405.00    NaN  \n",
       "4     $400.00         NaN          NaN    NaN  \n",
       "\n",
       "[5 rows x 26 columns]"
      ]
     },
     "execution_count": 5,
     "metadata": {},
     "output_type": "execute_result"
    }
   ],
   "source": [
    "feb.head()"
   ]
  },
  {
   "cell_type": "code",
   "execution_count": 9,
   "id": "445fedd6-f8ff-4689-b3c9-c8471b7fc214",
   "metadata": {},
   "outputs": [],
   "source": [
    "\n",
    "# total=feb[\"Amount\"]\n",
    "# newint=int(total)"
   ]
  },
  {
   "cell_type": "code",
   "execution_count": 13,
   "id": "211ab798-7fc2-4384-891f-be11d825ac4a",
   "metadata": {},
   "outputs": [],
   "source": [
    "# print(sum(total))"
   ]
  },
  {
   "cell_type": "code",
   "execution_count": 12,
   "id": "0db8fdd3-bb59-415c-9158-9b7e7f30d26f",
   "metadata": {},
   "outputs": [
    {
     "data": {
      "text/plain": [
       "pandas.core.series.Series"
      ]
     },
     "execution_count": 12,
     "metadata": {},
     "output_type": "execute_result"
    }
   ],
   "source": [
    "type(total)\n",
    "\n",
    "stringcon=.astype(str)"
   ]
  },
  {
   "cell_type": "code",
   "execution_count": null,
   "id": "d359a8d1-b56d-4033-8b4c-7c8f30d80507",
   "metadata": {},
   "outputs": [],
   "source": []
  }
 ],
 "metadata": {
  "kernelspec": {
   "display_name": "Python 3.11 (default)",
   "language": "python",
   "name": "python3"
  },
  "language_info": {
   "codemirror_mode": {
    "name": "ipython",
    "version": 3
   },
   "file_extension": ".py",
   "mimetype": "text/x-python",
   "name": "python",
   "nbconvert_exporter": "python",
   "pygments_lexer": "ipython3",
   "version": "3.11.11"
  }
 },
 "nbformat": 4,
 "nbformat_minor": 5
}
