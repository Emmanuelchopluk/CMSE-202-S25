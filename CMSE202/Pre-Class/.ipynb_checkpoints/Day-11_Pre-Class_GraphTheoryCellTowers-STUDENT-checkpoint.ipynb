{
 "cells": [
  {
   "cell_type": "markdown",
   "metadata": {},
   "source": [
    "# Pre-class Assignment: Project Brainstorming & Graph Theory and Cell Towers\n",
    "# Day 11 \n",
    "# CMSE 202 \n",
    "\n",
    "In this pre-class assignment you will work to develop a program to generate a **graph** from a set of points on an XY-plane using the nearest neighbor graphing algorithm. This will set the stage for work that we will do in-class where you will work with your group to solve the problem of assigning cell phone tower frequencies and visualizing them as a graph. You'll being using `networkx` to create a `Graph()` object that you can manipulate to accomplish this task.\n",
    "\n",
    "**Before** you get to that part though, you're going to spend a little time brainstorming possible project ideas."
   ]
  },
  {
   "cell_type": "code",
   "execution_count": null,
   "metadata": {},
   "outputs": [],
   "source": []
  },
  {
   "cell_type": "markdown",
   "metadata": {},
   "source": [
    "## <p style=\"text-align: right;\"> &#9989; Emmanuel Luk</p>"
   ]
  },
  {
   "cell_type": "markdown",
   "metadata": {},
   "source": [
    "## Goals for today's pre-class assignment\n",
    "\n",
    "1. **Project brainstorming**\n",
    "1. Create a function for finding the nearest neighbor for a given node in a graph.\n",
    "1. Make a simple Graph Theory graph using matplotlib\n",
    "1. Experiment with the `networkx` module"
   ]
  },
  {
   "cell_type": "markdown",
   "metadata": {},
   "source": [
    "## Assignment instructions\n",
    "**This assignment is due by 11:59 p.m. the day before class** and should be uploaded into the appropriate \"Pre-class assignments\" dropbox folder in the Desire2Learn website.\n",
    "\n",
    "**Notes about the assignment**: The most important pieces of the second part of this assignment (the graph theory component) are Steps 1 and 2. Step 3 might be a bit challenging because you have to figure out the right syntax to get the NetworkX module to work. Feel free to discuss issues you run into with others on Slack. It's OK if you can't get Part 3 figured out before class as long as you've tried it. Make sure you complete the final part of the assignment where you're asked to come up with an outline for how you would solve the cell phone tower problem."
   ]
  },
  {
   "cell_type": "markdown",
   "metadata": {},
   "source": [
    "---\n",
    "## 1. Project Brainstorming\n",
    "\n",
    "We would like you to start thinking about your semester project.  Ideally, your project will incorporate the concepts that you have been learning and will eventually learn in the course.\n",
    "\n",
    "### Project Details\n",
    "You can find details about what is expected of you for the semester projects [here](https://msu-cmse-courses.github.io/cmse202-S25-jb/course_materials/SemesterProjectDetails.html).\n",
    "\n",
    "### Coming up with possible project ideas\n",
    "Right now the goal is to just come up with project ideas that sound interesting to you! Later, we'll work together to shape them into concepts that fit well within the bounds of the course!\n",
    "\n",
    "You may also find it useful to consider the following examples from previous semesters:"
   ]
  },
  {
   "cell_type": "markdown",
   "metadata": {},
   "source": [
    "#### Example 1: Agent based spread of disease\n",
    "This group developed an agent based model to study the spread of a disease. The model consisted of people that lived, worked and went to school.  The interaction between the agents determined the likelihood of the spread of the virus. \n",
    "\n",
    "<img src=\"https://i.ibb.co/MMZ2ksB/name-019.jpg\" alt=\"name-019\" border=\"0\" width=500></a>"
   ]
  },
  {
   "cell_type": "markdown",
   "metadata": {},
   "source": [
    "#### Example 2: Planetary Habitable_zone\n",
    "This project developed an API (advanced programming interface) to existing online databases of exoplanets (planets outside of our solar system). The user could query the database and the program would generate an idealized picture of the solar system and show if the planet is inside the \"goldilock zone.\" This is the zone where a planet is likely to sustain liquid water.  \n",
    "\n",
    "<img src=\"https://i.ibb.co/qYY2XNw/Kepler-47.png\" alt=\"Kepler-47\" border=\"0\" width=400>\n",
    "<img src=\"https://i.ibb.co/0Ds21KJ/Habitable-zone.png\" alt=\"Habitable-zone\" border=\"0\" width=400>"
   ]
  },
  {
   "cell_type": "markdown",
   "metadata": {},
   "source": [
    "#### Example 3: Star Spectral Analysis\n",
    "This project developed an algorithm to automatically categorize stars based on their visible spectral signatures.  This categorization process is often difficult and the students wanted to see if a model could be generated using a learning algorithm.\n",
    "\n",
    "<img src=\"https://i.ibb.co/bFvqRFk/Spectra.png\" alt=\"Spectra\" border=\"0\" width=400>\n"
   ]
  },
  {
   "cell_type": "markdown",
   "metadata": {},
   "source": [
    "#### Example 4: Image Classification of Filamentous Fungi\n",
    "This project involved the creation of a image classifier using machine learning to classify images of fungi to the correct phylum based on microscope images. It was intended to improve the efficiency of identifying unknown fungi isolated from soil. Currently there are 248 images in the database.\n",
    "\n",
    "<img src=\"https://i.ibb.co/XLB43MJ/hyphal-image-classification.png\" alt=\"hyphal-image-classification\" border=\"0\" width=900>\n"
   ]
  },
  {
   "cell_type": "markdown",
   "metadata": {},
   "source": [
    "#### Example 5: Prediction of NFL draft first pick\n",
    "\n",
    "This project involved the creation of three model in order to predict who will be picked first in the NFL draft. The students used an SVM, Perceptron, and Logistic regression to predict the first picks.\n",
    "\n",
    "<img src=\"https://upload.wikimedia.org/wikipedia/en/thumb/8/80/NFL_Draft_logo.svg/1920px-NFL_Draft_logo.svg.png\" width=400>"
   ]
  },
  {
   "cell_type": "markdown",
   "metadata": {},
   "source": [
    "### And many more! \n",
    "\n",
    "Other past projects have used a variety of models and data analysis techniques to look at things like:\n",
    "* What factors influence how often people take their dog to the dog park?\n",
    "* What's the best way to build your stock portfolio to maximize performance?\n",
    "* How can rumors, memes, and reddit influence stock performance?\n",
    "* How has basketball as a sport evolved as a function of time?\n",
    "* Is it possible to predict which teams will will the NHL Stanley Cup?\n",
    "* How do various hormones influence brain chemistry?\n",
    "* Which blackjack betting strategy leads to the most wins?\n",
    "* How do you build an accurate orbital model of the solar system? Other planetary systems?\n",
    "* How does currently available data help us understand the causes and impacts of climate change?\n",
    "* Is it possible to automatically detect shipping boats in satellite images?\n",
    "* How has the rise and fall of COVID cases effected the stock market?\n",
    "* How can network graphs be used to find the shortest past through a city?\n",
    "* How accurately can a neural network perform image recognition?\n",
    "* Can an agent-based model accurately model local animal populations?"
   ]
  },
  {
   "cell_type": "markdown",
   "metadata": {},
   "source": [
    "**&#9989;  Do This:** Now that you've had a chance to think about some examples of past project, **brainstorm ideas you have for projects**. These can be rough, general ideas.\n"
   ]
  },
  {
   "cell_type": "markdown",
   "metadata": {},
   "source": [
    "1. What type of companies have had the greatest overall impact on the U.S. GDP. What ae the trends?\n",
    "\n",
    "2. An NBA over-under program that predicts a player's stats based on the team's match-up.\n",
    "\n",
    "3. How has youtube content affected the app's popularity over time. "
   ]
  },
  {
   "cell_type": "markdown",
   "metadata": {},
   "source": [
    "**Once you've come up with some ideas for project, fill out the following survey so that your ideas can be compiled into list of possible ideas for the entire class**. The combined list will be used to seed ideas that will eventually lead to semester projects!"
   ]
  },
  {
   "cell_type": "code",
   "execution_count": 1,
   "metadata": {
    "scrolled": true
   },
   "outputs": [
    {
     "data": {
      "text/html": [
       "\n",
       "<iframe \n",
       "\tsrc=\"https://forms.office.com/r/Qmhe7EGrUk\"\n",
       "\twidth=\"900px\" \n",
       "\theight=\"600px\" \n",
       "\tframeborder=\"0\" \n",
       "\tmarginheight=\"0\" \n",
       "\tmarginwidth=\"0\">\n",
       "\tLoading...\n",
       "</iframe>\n"
      ],
      "text/plain": [
       "<IPython.core.display.HTML object>"
      ]
     },
     "execution_count": 1,
     "metadata": {},
     "output_type": "execute_result"
    }
   ],
   "source": [
    "from IPython.display import HTML\n",
    "HTML(\n",
    "\"\"\"\n",
    "<iframe \n",
    "\tsrc=\"https://forms.office.com/r/Qmhe7EGrUk\"\n",
    "\twidth=\"900px\" \n",
    "\theight=\"600px\" \n",
    "\tframeborder=\"0\" \n",
    "\tmarginheight=\"0\" \n",
    "\tmarginwidth=\"0\">\n",
    "\tLoading...\n",
    "</iframe>\n",
    "\"\"\"\n",
    ")"
   ]
  },
  {
   "cell_type": "markdown",
   "metadata": {},
   "source": [
    "---\n",
    "# 2. Application of Graph Theory\n",
    "\n",
    "## Defining the problem\n",
    "\n",
    "The signals from different cellphone towers that are close together can interfere.  \n",
    "\n",
    "<img src=\"http://2.bp.blogspot.com/-X7XJfnPb6xU/TjZfTmAd9CI/AAAAAAAAAF0/3eGarXigOQE/s1600/dido1.jpg\" width=\"500px\"><p style=\"text-align: right;\">From: http://www.onlivespot.com/2011/08/dido-wireless-technology-explained.html</p>\n",
    "\n",
    "In order to avoid this overlap cell phone companies use different frequency ranges in the Electromagnetic spectrum.  Two towers that are close together but have differences in frequencies (shown as colors, red/green/black in the following figure) do not cause nearly as much interference. \n",
    "\n",
    "<img src=\"http://2.bp.blogspot.com/-M4olRy6O-v4/TjZghvwq3KI/AAAAAAAAAF4/GtOd6Db-su4/s1600/dido2.jpg\" width = \"500px\"><p style=\"text-align: right;\">From:  http://www.onlivespot.com/2011/08/dido-wireless-technology-explained.html</p>\n",
    "\n",
    "However, cellphone towers are never distributed in such an even pattern.   Consider the following map which shows the location of cell towers around Michigan State. (Note: this map may have changed since the time it was first created.)\n",
    "\n",
    "<img src='https://i.imgur.com/oUuUDCH.jpg' width = \"500px\">\n",
    "<p style=\"text-align: right;\">From: http://www.antennasearch.com/</p>\n",
    "\n",
    "Another problem is that cellphone companies have to pay for each frequency range they use. So they would like to minimize the number of frequencies that they need to purchase while also minimizing the interference between the cell towers. \n",
    "\n",
    "Between this pre-class assignment and the assignment you'll do in class, we'll try to solve this cell phone tower problem using **Graph Theory**!"
   ]
  },
  {
   "cell_type": "markdown",
   "metadata": {},
   "source": [
    "## Step 1: Generate random cell towers. \n",
    "\n",
    "To start out, we're going to keep things simple and use artificial data to create our cell phone tower network. Specifically, we'll just populate a network of towers randomly.\n",
    "\n",
    "**&#9989;  Do This:** **Write a function** to randomly create a 2D numpy array with $N$ rows representing cell towers and 2 columns representing the $x$ (longitude) and $y$ (latitude) positions of the cell towers on a map. You may assume that the map is a 2D plane and not a sphere. You can also assume that the \"latitude\" and \"longitude\" values are all in the range of 0 to 1."
   ]
  },
  {
   "cell_type": "code",
   "execution_count": 3,
   "metadata": {},
   "outputs": [
    {
     "name": "stdout",
     "output_type": "stream",
     "text": [
      "[[0.5231211  0.4144882 ]\n",
      " [0.98499967 0.28354963]\n",
      " [0.41803348 0.00880558]\n",
      " [0.12068923 0.58183651]\n",
      " [0.84722453 0.27369181]\n",
      " [0.11972866 0.33499955]\n",
      " [0.51071713 0.01904606]\n",
      " [0.91103914 0.15674308]\n",
      " [0.96357668 0.26784689]\n",
      " [0.16519459 0.42849586]]\n"
     ]
    }
   ],
   "source": [
    "# Put your code here.\n",
    "import numpy as np\n",
    "\n",
    "def generate_cell_towers(N: int) -> np.ndarray:\n",
    "    return np.random.rand(N, 2)\n",
    "\n",
    "# Example usage:\n",
    "cell_towers = generate_cell_towers(10)\n",
    "print(cell_towers)"
   ]
  },
  {
   "cell_type": "markdown",
   "metadata": {},
   "source": [
    "**&#9989;  Do This:** Generate $N=50$ towers using your above function and plot the results as a scatter plot. It should look something like this (though your points will be in different positions):\n",
    "\n",
    "<div align=\"center\"><img src=\"https://i.ibb.co/yBH8X18/random-towers.png\" alt=\"random_towers\" border=\"0\"></div>"
   ]
  },
  {
   "cell_type": "code",
   "execution_count": 6,
   "metadata": {},
   "outputs": [
    {
     "data": {
      "image/png": "[encoded data removed]",
      "text/plain": [
       "<Figure size 600x600 with 1 Axes>"
      ]
     },
     "metadata": {},
     "output_type": "display_data"
    },
    {
     "name": "stdout",
     "output_type": "stream",
     "text": [
      "[[0.66095019 0.74973056]\n",
      " [0.86299788 0.27435575]\n",
      " [0.21580552 0.64586528]\n",
      " [0.9308087  0.16750047]\n",
      " [0.33391241 0.08129504]\n",
      " [0.10893386 0.27529379]\n",
      " [0.40125407 0.15652083]\n",
      " [0.39924822 0.99633196]\n",
      " [0.67180635 0.37873675]\n",
      " [0.36052738 0.84811051]\n",
      " [0.88771027 0.64106116]\n",
      " [0.5400061  0.5906781 ]\n",
      " [0.01183996 0.84369469]\n",
      " [0.31359367 0.82383164]\n",
      " [0.54834189 0.02999936]\n",
      " [0.51710798 0.75160069]\n",
      " [0.0676288  0.7464816 ]\n",
      " [0.26308023 0.29278076]\n",
      " [0.08815105 0.92579362]\n",
      " [0.2159804  0.12950796]\n",
      " [0.8239695  0.64220621]\n",
      " [0.03274173 0.1783057 ]\n",
      " [0.28912828 0.45148464]\n",
      " [0.82485283 0.5070146 ]\n",
      " [0.81354272 0.30808266]\n",
      " [0.74244774 0.64680401]\n",
      " [0.85097713 0.37850748]\n",
      " [0.39321546 0.50405209]\n",
      " [0.98823404 0.18982578]\n",
      " [0.66410732 0.6999515 ]\n",
      " [0.54250936 0.65806309]\n",
      " [0.76013133 0.13945266]\n",
      " [0.97996535 0.4677841 ]\n",
      " [0.25518927 0.5370832 ]\n",
      " [0.39782734 0.19141017]\n",
      " [0.87187239 0.0242215 ]\n",
      " [0.32263554 0.6757753 ]\n",
      " [0.90985655 0.81343747]\n",
      " [0.78827728 0.24803855]\n",
      " [0.03323837 0.40820093]\n",
      " [0.36462119 0.8113882 ]\n",
      " [0.4890116  0.04892948]\n",
      " [0.98033489 0.6919642 ]\n",
      " [0.83538217 0.31885322]\n",
      " [0.16077965 0.97246596]\n",
      " [0.9683326  0.65623215]\n",
      " [0.45614706 0.86501424]\n",
      " [0.35714913 0.84252787]\n",
      " [0.11209552 0.68913462]\n",
      " [0.05716813 0.31561848]]\n"
     ]
    }
   ],
   "source": [
    "# Put your code here.\n",
    "import matplotlib.pyplot as plt\n",
    "N = 50\n",
    "cell_towers = generate_cell_towers(N)\n",
    "\n",
    "# Plot the cell tower locations\n",
    "plt.figure(figsize=(6, 6))\n",
    "plt.scatter(cell_towers[:, 0], cell_towers[:, 1], c='blue', marker='o', edgecolors='black', s=80)\n",
    "plt.xlabel(\"Longitude\")\n",
    "plt.ylabel(\"Latitude\")\n",
    "plt.title(\"Random towers\")\n",
    "plt.grid(True)\n",
    "plt.show()\n",
    "print(cell_towers)"
   ]
  },
  {
   "cell_type": "markdown",
   "metadata": {},
   "source": [
    "## Step 2: Nearest Neighbor Graph\n",
    "\n",
    "Next, we're going to **write a function that returns an adjacency list** (implemented as a dictionary of lists) from this set of points using the Nearest Neighbor Graph algorithm.  More information about the algorithm can be found here:\n",
    "\n",
    "https://en.wikipedia.org/wiki/Nearest_neighbor_graph\n",
    "\n",
    "Basically, the algorithm should **loop though all of the points** and **find the nearest neighbor to each point**. To do this, you can use the `distance` function that is provided below, or you can take your own approach.\n",
    "\n",
    "Again, for **each point**, we're going to check the distance to **all other points** and **find the one that is the closest**. \n",
    "\n",
    "In order to aid you in this process, we've provided a function called `distance()` in the cell below that will calculate the distance between two points. You can use this function to tackle this or you can write your own code for calcuating the distance."
   ]
  },
  {
   "cell_type": "code",
   "execution_count": 1,
   "metadata": {},
   "outputs": [],
   "source": [
    "import math\n",
    "# Function for computing the distance between two points\n",
    "def distance(p1,p2):\n",
    "    '''Returns the distance betwen two numpy points'''\n",
    "    return math.sqrt((p1[0] - p2[0])**2 + (p1[1] - p2[1])**2)"
   ]
  },
  {
   "cell_type": "markdown",
   "metadata": {},
   "source": [
    "**&#9989; 2.1  Do This:** To get things started, first write a piece of code that takes the first data point in the array from Step 1 and uses the `distance` function to find the point closest to it (smallest distance). **Make sure you keep track of the index of the closest point!**\n",
    "\n",
    "**Note**: When writing this bit of code, you may find it useful to create a temporary number as a starting point that is *very large*, one good \"number\" to use is `np.inf`. Any other number you calculate should be smaller than \"infinity\"."
   ]
  },
  {
   "cell_type": "code",
   "execution_count": 31,
   "metadata": {},
   "outputs": [
    {
     "name": "stdout",
     "output_type": "stream",
     "text": [
      "[(0.5165312040050404, 1), (0.45710149211224865, 2), (0.6417285292101716, 3), (0.7441503625870388, 4), (0.7278820457308667, 5), (0.6475645612144653, 6), (0.3595833211137827, 7), (0.3711526152177265, 8), (0.3161209807806428, 9), (0.2514541217139078, 10), (0.19981280760817924, 11), (0.6558760156706913, 12), (0.35517252248895964, 13), (0.7284872248277896, 14), (0.14385436103600388, 15), (0.5933302780171309, 16), (0.60589077253383, 17), (0.5992470694552919, 18), (0.7633309884705897, 19), (0.19528640812817855, 20), (0.849218609093253, 21), (0.47665727687952186, 22), (0.29287388969922445, 23), (0.46726582802026984, 24), (0.1312849043641995, 25), (0.4170333544911559, 26), (0.3633728027380322, 27), (0.6485430523514585, 28), (0.04987907650255164, 29), (0.14977033677191262, 30), (0.6182847424379425, 31), (0.42575166698321865, 32), (0.4581056871460703, 33), (0.6172157555293993, 34), (0.7555472057748662, 35), (0.3463035917306396, 36), (0.25692984650798617, 37), (0.5175974014978404, 38), (0.7146080153790996, 39), (0.30267563427763594, 40), (0.7215850831911723, 41), (0.3245666988893048, 42), (0.46484600066319953, 43), (0.5475231723509774, 44), (0.32128788500277217, 45), (0.23502052890309605, 46), (0.31765771372275037, 47), (0.5521895619680571, 48), (0.7436437809849104, 49)]\n"
     ]
    },
    {
     "data": {
      "text/plain": [
       "(0.04987907650255164, 29)"
      ]
     },
     "execution_count": 31,
     "metadata": {},
     "output_type": "execute_result"
    }
   ],
   "source": [
    "#Write your code here\n",
    "p1=cell_towers[0]\n",
    "list=[]\n",
    "for i in range(1,50):\n",
    "    px=cell_towers[i]\n",
    "    dist=distance(p1,px)\n",
    "    list.append((dist,i))\n",
    "print(list)\n",
    "min(list)\n",
    "\n"
   ]
  },
  {
   "cell_type": "markdown",
   "metadata": {},
   "source": [
    "**&#9989; 2.2  Do This:** Now extend your code so that it runs over all data points (not just the first) and finds the nearest neighbor for each point. Make sure to store the nearest neighbor for each point in either a list or a dictionary. **Make sure to turn this code into a proper function that takes the full list of points as an input and returns the nearest neighbor for every point.**\n",
    "\n",
    "**Note**: this isn't a trivial function, so don't worry if you can't quite get it figured out. Do your best to work through the logic and implement a solution. If you get stuck, try to make a note of where you got stuck and include this in your follow-up survey."
   ]
  },
  {
   "cell_type": "code",
   "execution_count": 7,
   "metadata": {},
   "outputs": [],
   "source": [
    "#Write your code here\n"
   ]
  },
  {
   "cell_type": "markdown",
   "metadata": {},
   "source": [
    "**&#9989; 2.3 Do This:** Run your nearest neighbor graphing function on the points you generated in step 1.  Generate a plot of the points and include the \n",
    "edges of the graph. Your plot should look something like the following:\n",
    "\n",
    "<div align=\"center\"><img src=\"https://i.ibb.co/ZBfqYhs/nn-graph.png\" alt=\"nn-graph\" border=\"0\"></div>"
   ]
  },
  {
   "cell_type": "code",
   "execution_count": 8,
   "metadata": {},
   "outputs": [],
   "source": [
    "#Write your code here\n"
   ]
  },
  {
   "cell_type": "markdown",
   "metadata": {},
   "source": [
    "---\n",
    "# Preparing for the in-class assignment\n",
    "\n",
    "Finally, think about how you would solve the cell phone tower problem discussed in the beginning of the assignment.  Outline a program to do the following:\n",
    "\n",
    "1. Generate a list of x-y points from the longitude and latitude given by a list of cell towers.\n",
    "2. Run the Nearest Neighbor graph algorithm to generate a graph.\n",
    "3. Plot the resulting map \n",
    "\n",
    "You can outline the program in the cell below using \"stub\" functions where you define the functions you think you'll need, what the inputs will be for the functions, and some comments for what the functions will do. If you end the function with ```pass```, Python will be able to successfully \"run\" your code. An example of what is meant by as stub function is included below. **This is just an outline to guide your thinking when you get to class, it doesn't have to be perfect!**"
   ]
  },
  {
   "cell_type": "code",
   "execution_count": 9,
   "metadata": {},
   "outputs": [],
   "source": [
    "# Example \"stub\" function\n",
    "def stubby(param1, param2, param3):\n",
    "    '''\n",
    "    This function takes input parameters and\n",
    "    uses them to compute things and make plots.\n",
    "    '''\n",
    "    pass\n",
    "\n",
    "#\n",
    "# Using stub functions, put your outline for your program below this comment block.\n",
    "# Make sure to include comments about what the inputs are and what the functions need to do.\n",
    "#\n",
    "\n"
   ]
  },
  {
   "cell_type": "markdown",
   "metadata": {},
   "source": [
    "---\n",
    "## Follow-up Questions\n",
    "\n",
    "Copy and paste the following questions into the appropriate box in the assignment survey include below and answer them there. (Note: You'll have to fill out the assignment number and go to the \"NEXT\" section of the survey to paste in these questions.)\n",
    "\n",
    "1. Do you have any questions about the semester projects at this time? If so, what are they?"
   ]
  },
  {
   "cell_type": "markdown",
   "metadata": {},
   "source": [
    "----\n",
    "# Assignment Wrap-up\n",
    "\n",
    "Please fill out the form that appears when you run the code below.  **You must completely fill this out in order to receive credit for the assignment!**"
   ]
  },
  {
   "cell_type": "code",
   "execution_count": 10,
   "metadata": {},
   "outputs": [
    {
     "data": {
      "text/html": [
       "\n",
       "<iframe \n",
       "\tsrc=\"https://cmse.msu.edu/cmse202-pc-survey\" \n",
       "\twidth=\"800px\" \n",
       "\theight=\"600px\" \n",
       "\tframeborder=\"0\" \n",
       "\tmarginheight=\"0\" \n",
       "\tmarginwidth=\"0\">\n",
       "\tLoading...\n",
       "</iframe>\n"
      ],
      "text/plain": [
       "<IPython.core.display.HTML object>"
      ]
     },
     "execution_count": 10,
     "metadata": {},
     "output_type": "execute_result"
    }
   ],
   "source": [
    "from IPython.display import HTML\n",
    "HTML(\n",
    "\"\"\"\n",
    "<iframe \n",
    "\tsrc=\"https://cmse.msu.edu/cmse202-pc-survey\" \n",
    "\twidth=\"800px\" \n",
    "\theight=\"600px\" \n",
    "\tframeborder=\"0\" \n",
    "\tmarginheight=\"0\" \n",
    "\tmarginwidth=\"0\">\n",
    "\tLoading...\n",
    "</iframe>\n",
    "\"\"\"\n",
    ")"
   ]
  },
  {
   "cell_type": "markdown",
   "metadata": {},
   "source": [
    "---------\n",
    "### Congratulations, you're done with your pre-class assignment!\n",
    "\n",
    "Now, you just need to submit this assignment by uploading it to the course <a href=\"https://d2l.msu.edu/\">Desire2Learn</a> web page for this assignment's submission folder (Don't forget to add your names in the first cell)."
   ]
  },
  {
   "cell_type": "markdown",
   "metadata": {},
   "source": [
    "&#169; Copyright 2025,  Department of Computational Mathematics, Science and Engineering at Michigan State University"
   ]
  }
 ],
 "metadata": {
  "kernelspec": {
   "display_name": "Python 3.11 (default)",
   "language": "python",
   "name": "python3"
  },
  "language_info": {
   "codemirror_mode": {
    "name": "ipython",
    "version": 3
   },
   "file_extension": ".py",
   "mimetype": "text/x-python",
   "name": "python",
   "nbconvert_exporter": "python",
   "pygments_lexer": "ipython3",
   "version": "3.11.11"
  },
  "vscode": {
   "interpreter": {
    "hash": "cf0c681cb49c9db9dd0920756d994a7efb6a444278d5ca447e660767d56738cf"
   }
  },
  "widgets": {
   "application/vnd.jupyter.widget-state+json": {
    "state": {},
    "version_major": 2,
    "version_minor": 0
   }
  }
 },
 "nbformat": 4,
 "nbformat_minor": 4
}
