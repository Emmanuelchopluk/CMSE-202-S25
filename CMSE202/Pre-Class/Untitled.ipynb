{
 "cells": [
  {
   "cell_type": "code",
   "execution_count": 1,
   "id": "78cb6df5-28e7-4e37-ac62-4bf62fe0de1a",
   "metadata": {},
   "outputs": [
    {
     "name": "stdout",
     "output_type": "stream",
     "text": [
      "Buddy is barking!\n"
     ]
    }
   ],
   "source": [
    "class Dog:\n",
    "    def __init__(self, name, breed):\n",
    "        self.name = name\n",
    "        self.breed = breed\n",
    "\n",
    "    def bark(self):\n",
    "        return f\"{self.name} is barking!\"\n",
    "\n",
    "dog1 = Dog(\"Buddy\", \"Labrador\")\n",
    "print(dog1.bark())\n"
   ]
  },
  {
   "cell_type": "code",
   "execution_count": 4,
   "id": "d63fe769-d4c4-4282-8088-3a93cf206f71",
   "metadata": {},
   "outputs": [
    {
     "name": "stdout",
     "output_type": "stream",
     "text": [
      "<bound method Dog.bark of <__main__.Dog object at 0x7f886ce4d890>>\n"
     ]
    }
   ],
   "source": [
    "print(dog1.bark)\n"
   ]
  },
  {
   "cell_type": "code",
   "execution_count": null,
   "id": "a91015f4-7a5c-4835-abbf-1f619658bc45",
   "metadata": {},
   "outputs": [],
   "source": []
  }
 ],
 "metadata": {
  "kernelspec": {
   "display_name": "Python 3.11 (default)",
   "language": "python",
   "name": "python3"
  },
  "language_info": {
   "codemirror_mode": {
    "name": "ipython",
    "version": 3
   },
   "file_extension": ".py",
   "mimetype": "text/x-python",
   "name": "python",
   "nbconvert_exporter": "python",
   "pygments_lexer": "ipython3",
   "version": "3.11.11"
  }
 },
 "nbformat": 4,
 "nbformat_minor": 5
}
