{
 "cells": [
  {
   "cell_type": "markdown",
   "metadata": {},
   "source": [
    "# [Section 002] Pre-Class Assignment: Reviewing Project Ideas\n",
    "# Day 12 \n",
    "# CMSE 202"
   ]
  },
  {
   "cell_type": "markdown",
   "metadata": {},
   "source": [
    "## <p style=\"text-align: right;\"> &#9989; Emmanuel Luk</p>"
   ]
  },
  {
   "cell_type": "markdown",
   "metadata": {},
   "source": [
    "In this pre-class assignment we are going to explore your project ideas for class.  The ideas are pulled from the project brainstorming you did previously. The instructional staff did their best to interpret the concept of your ideas based on what you submitted to the previous pre-class survey. In some cases we had to try to put vagues thoughts into concrete categories and we may have misconstrued the original intent -- sorry if your idea was mangled!\n",
    "\n",
    "Please think about what would make a good and interesting project and complete the following:\n",
    "\n",
    "**&#9989; Do This:** \n",
    "\n",
    "1. Read though the following project ideas and put notes in the `comments` slot provided on any that you find interesting.\n",
    "2. Having read through them all, write down your top 3 in the list below using names like \"Social 1\" or \"Sports 2\" (the category and the number). Consider the following factors as you are investigating for your top 3.\n",
    "    * Is the project something you are interested in?\n",
    "    * How hard will the project be for a group to complete? \n",
    "    * Can you find any python libraries or datasets that would help with the project?\n",
    "    * Is this just a toy project or is the project scientifically motivated. I.e. what broad scientific questions would this project be able to answer?\n",
    "3. Having selected three, add some details in your `Top Three List` with information like:\n",
    "    * Any links to new information or datasets.\n",
    "    * Scientific questions that this project would be able to explore.\n",
    "    * Computational methods you might use for the project.\n",
    "    * Additional thoughts or ideas you want to tell the instructors. \n",
    "\n",
    "**Note:** You are welcome to also combine two or more project ideas into one bigger project. Or you can come up with a new project idea.  Reference the projects based on their project numbers. Do not change the numbers. "
   ]
  },
  {
   "cell_type": "markdown",
   "metadata": {},
   "source": [
    "## Top Three List (with some details)\n",
    "\n",
    "1. Can we create a profitable sports betting predictive model? Based on individual player over unders. \n",
    "#Kagle data sets. #fanduel #prize picks\n",
    "2. Data analysis model. Do cities with a larger electric car population have cleaner air? CO2 emission data.\n",
    "#CO2 emissions data #electric car sales\n",
    "3. Population dynamics modeling. Bio weapon spread. What states and cities would be the safest?\n",
    "#population dataset. #https://www.hhs.gov/oidp/index.html"
   ]
  },
  {
   "cell_type": "markdown",
   "metadata": {},
   "source": [
    "---\n",
    "\n",
    "# Project Ideas From Brainstorming:"
   ]
  },
  {
   "cell_type": "markdown",
   "metadata": {},
   "source": [
    "## Simulation and Modeling\n",
    "\n",
    "1. Population dynamics (zombies, animals, etc)\n",
    "\n",
    "**comments**:#how do hunting patterns affect local ecosystems \n",
    "\n",
    "2. Astrophysics modeling and simulation (satellites, planetary orbits, black holes, etc)\n",
    "\n",
    "**comments**:\n",
    "\n",
    "3. Agent based modeling analysis (games, fires, etc)\n",
    "\n",
    "**comments**:#Chess analysis \n",
    "\n",
    "4. Mental health correlations \n",
    "\n",
    "**comments**:\n"
   ]
  },
  {
   "cell_type": "markdown",
   "metadata": {},
   "source": [
    "## Data Analysis and Visualization\n",
    "\n",
    "1. Environmental impact (traffic pollution, climate policies, etc)\n",
    "\n",
    "**comments**:#city's with a larger electric car population. \n",
    "\n",
    "2. Health and lifestyle analysis (long-term health, weight gain, excercise impact, etc)\n",
    "\n",
    "**comments**:"
   ]
  },
  {
   "cell_type": "markdown",
   "metadata": {},
   "source": [
    "## Economic and Market Analysis\n",
    "\n",
    "1. Market trend prediction\n",
    " \n",
    "**comments**:\n",
    " \n",
    "2. Industry impact studies (EV adoption, tariff effects, and climate sensitivity)\n",
    "\n",
    "**comments**:\n",
    "\n",
    "3. Employment analytics (job market trends and COVID impact)\n",
    "\n",
    "**comments**:\n",
    "\n",
    "4. Consumer behavior analysis (inflation effects and spending patterns)\n",
    "\n",
    "**comments**:#How does inflation effect electric car sales"
   ]
  },
  {
   "cell_type": "markdown",
   "metadata": {},
   "source": [
    "## Pattern Recognition\n",
    "\n",
    "1. Biological classification (fungal identification, plant disease detection, crop analysis)\n",
    "\n",
    "**comments**:\n",
    "\n",
    "2. Entertainment success prediction and analysis (movie, music, and indie game success modeling)\n",
    "\n",
    "**comments**:#Artist longevity overtime looking at billboard. Has the number of one hit wonders increased?\n",
    "\n",
    "3. Natural language processing\n",
    "\n",
    "**comments**:\n"
   ]
  },
  {
   "cell_type": "markdown",
   "metadata": {},
   "source": [
    "## Sports Analytics\n",
    "\n",
    "1. Predicting draft picks (NHL, NBA, etc..)\n",
    "\n",
    "**comments**:#Predicting individual player performance based on the team match up. Sports betting\n",
    "\n",
    "2. Athletic performance factors \n",
    "\n",
    "**comments**:\n",
    "\n",
    "3. Pokemon team optimization\n",
    "\n",
    "**comments**:"
   ]
  },
  {
   "cell_type": "markdown",
   "metadata": {},
   "source": [
    "## Graphy Theory / Network Analysis\n",
    "\n",
    "1. Information flow modeling (misinformation spread and social media influence)\n",
    "\n",
    "**comments**:\n",
    "\n",
    "2. Educational planning (class scheduling and degree progress optimization)\n",
    "\n",
    "**comments**:\n",
    "\n",
    "3. Migration pattern analysis\n",
    "\n",
    "**comments**:"
   ]
  },
  {
   "cell_type": "markdown",
   "metadata": {},
   "source": [
    "------\n",
    "\n",
    "# New project ideas\n",
    "\n",
    "If you've come up with new project ideas since our brainstorming session, feel free to add them here. Make sure to include the same sort of information you put together for your \"top 3\" models from above. Make a note in assignment wrap-up survey in the \"Follow-up Questions\" text box if any of your new ideas happen to be your new favorite idea."
   ]
  },
  {
   "cell_type": "markdown",
   "metadata": {},
   "source": [
    "## < New Idea >\n",
    "\n",
    "< A data-backed productivity app. Habits are tracked analyzed. >\n",
    "\n",
    "**Comments:**\n"
   ]
  },
  {
   "cell_type": "markdown",
   "metadata": {},
   "source": [
    "---\n",
    "## Follow-up Questions\n",
    "\n",
    "Copy and paste the following questions into the appropriate box in the assignment survey include below and answer them there. (Note: You'll have to fill out the assignment number and go to the \"NEXT\" section of the survey to paste in these questions.)\n",
    "\n",
    "1. What are your current top three project ideas that you're most interested in? (You should be able to copy this from the list your created at the beginning of this notebook)."
   ]
  },
  {
   "cell_type": "markdown",
   "metadata": {},
   "source": [
    "----\n",
    "# Assignment wrap-up\n",
    "\n",
    "Please fill out the form that appears when you run the code below.  **You must completely fill this out in order to receive credit for the assignment!**"
   ]
  },
  {
   "cell_type": "code",
   "execution_count": null,
   "metadata": {},
   "outputs": [],
   "source": [
    "from IPython.display import HTML\n",
    "HTML(\n",
    "\"\"\"\n",
    "<iframe \n",
    "\tsrc=\"https://cmse.msu.edu/cmse202-pc-survey\" \n",
    "\twidth=\"800px\" \n",
    "\theight=\"600px\" \n",
    "\tframeborder=\"0\" \n",
    "\tmarginheight=\"0\" \n",
    "\tmarginwidth=\"0\">\n",
    "\tLoading...\n",
    "</iframe>\n",
    "\"\"\"\n",
    ")"
   ]
  },
  {
   "cell_type": "markdown",
   "metadata": {},
   "source": [
    "---------\n",
    "### Congratulations, you're done with your pre-class assignment!\n",
    "\n",
    "Now, you just need to submit this assignment by uploading it to the course <a href=\"https://d2l.msu.edu/\">Desire2Learn</a> web page for today's submission folder (Don't forget to add your name in the first cell)."
   ]
  },
  {
   "cell_type": "markdown",
   "metadata": {},
   "source": [
    "&#169; Copyright 2023,  Department of Computational Mathematics, Science and Engineering at Michigan State University"
   ]
  }
 ],
 "metadata": {
  "kernelspec": {
   "display_name": "Python 3.11 (default)",
   "language": "python",
   "name": "python3"
  },
  "language_info": {
   "codemirror_mode": {
    "name": "ipython",
    "version": 3
   },
   "file_extension": ".py",
   "mimetype": "text/x-python",
   "name": "python",
   "nbconvert_exporter": "python",
   "pygments_lexer": "ipython3",
   "version": "3.11.11"
  },
  "widgets": {
   "application/vnd.jupyter.widget-state+json": {
    "state": {},
    "version_major": 2,
    "version_minor": 0
   }
  }
 },
 "nbformat": 4,
 "nbformat_minor": 4
}
