{
 "cells": [
  {
   "attachments": {},
   "cell_type": "markdown",
   "metadata": {},
   "source": [
    "# Pre-Class Assignment: Reviewing another agent-based model built using Object Oriented Programming (OOP)\n",
    "# Day 09 \n",
    "# CMSE 202\n",
    "\n",
    "<img src=\"https://upload.wikimedia.org/wikipedia/commons/thumb/3/34/Safari_ants.jpg/440px-Safari_ants.jpg\" width=500> <p style=\"text-align: right;\">\n",
    "Image from https://en.wikipedia.org/wiki/Ant_colony_optimization_algorithms\n",
    "</p>"
   ]
  },
  {
   "cell_type": "markdown",
   "metadata": {},
   "source": [
    "### <p style=\"text-align: right;\"> &#9989; **Emmanuel Luk** </p>\n",
    "#### <p style=\"text-align: right;\"> &#9989; Put your group member names here</p>"
   ]
  },
  {
   "cell_type": "markdown",
   "metadata": {},
   "source": [
    "## Goals for today's pre-class assignment\n",
    "\n",
    "</p>\n",
    "\n",
    "1. Practice reviewing pre-written code in a variety of programming styles (linear, functional, and object oriented)\n",
    "2. Edit pre-existing code to alternate its functionality\n",
    "3. Practice documenting code using [Docstrings](https://www.programiz.com/python-programming/docstrings)\n",
    "\n",
    "\n",
    "<a id=\"toc\"></a>\n",
    "\n",
    "## Table of contents\n",
    "\n",
    "- [Part 0: Downloading files](#part0)\n",
    "\n",
    "- [Part 1: Problem description](#part1)\n",
    "\n",
    "- [Part 2: Linear programming](#part2)\n",
    "\n",
    "- [Part 3: Functional programming](#part3)\n",
    "\n",
    "- [Part 4: Object-Oriented programming](#part4)\n",
    "\n",
    "- [Part 5: Docstring](#part5)\n",
    "\n",
    "- [Part 6: Follow-up Questions](#part6)\n",
    "\n",
    "- [Survey](#survey)"
   ]
  },
  {
   "cell_type": "markdown",
   "metadata": {},
   "source": [
    "---\n",
    "<a id=\"part0\"></a>\n",
    "[Back to ToC](#toc)\n",
    "\n",
    "## Part 0: Download some additional files\n",
    "\n",
    "For this assignment, you'll need the following files:\n",
    "\n",
    "* `ant_script.py`\n",
    "* `ant_function.py`\n",
    "* `ant_class.py`\n",
    "\n",
    "For now, **just download these files and make sure they are in the same location as this notebook**. You don't need to look at them in detail *yet*. You will be prompted to explore the similarities and differences between the files as you work through this assignment.\n",
    "\n",
    "You can find the files here:\n",
    "\n",
    "`https://raw.githubusercontent.com/msu-cmse-courses/cmse202-supplemental-data/main/code_samples/ant_script.py`\n",
    "\n",
    "`https://raw.githubusercontent.com/msu-cmse-courses/cmse202-supplemental-data/main/code_samples/ant_function.py`\n",
    "\n",
    "`https://raw.githubusercontent.com/msu-cmse-courses/cmse202-supplemental-data/main/code_samples/ant_class.py`"
   ]
  },
  {
   "cell_type": "markdown",
   "metadata": {},
   "source": [
    "---\n",
    "<a id=\"part1\"></a>\n",
    "[Back to ToC](#toc)\n",
    "\n",
    "## 1. Problem Description: Ant foraging\n",
    "\n",
    "Fairly complex behaviors can be simulated using the simple rules of an agent-based model.  This is sometimes called, emergent behavior.  We are going to look into ways of simulating ant forging behaviors using a set of the following simple rules.  The rules are evaluated in order and only one rule can be completed per iteration.\n",
    "\n",
    "1. If ant has food and is home, consume food.\n",
    "2. If ant has food, drop some pheromones and head home.\n",
    "3. If ant is at food, pick it up.\n",
    "3. If ant doesn't have food and smells pheromones, head in the smelliest direction.\n",
    "4. Move randomly.\n",
    "\n",
    "Ants then live in an environment with three properties; direction to home, smell (pheromones) and food.  The Pheromones \"dissolve\" as time goes by and the food goes away as ants pick it up. \n",
    "\n",
    "**&#9989;  Do This:** Watch the following simulation of ants forging using this behavior by executing the cell below. \n",
    "\n",
    "**Note:** We are using the `%run` [IPython built-in magic command](https://ipython.readthedocs.io/en/stable/interactive/magics.html) to run this simulation. For this to work, the `ant_script.py` needs to be in the same location as this notebook."
   ]
  },
  {
   "cell_type": "code",
   "execution_count": 1,
   "metadata": {
    "pycharm": {
     "is_executing": true
    },
    "tags": []
   },
   "outputs": [
    {
     "data": {
      "image/png": "[encoded data removed]",
      "text/plain": [
       "<Figure size 1000x500 with 1 Axes>"
      ]
     },
     "metadata": {},
     "output_type": "display_data"
    },
    {
     "data": {
      "text/plain": [
       "<Figure size 1000x500 with 0 Axes>"
      ]
     },
     "metadata": {},
     "output_type": "display_data"
    }
   ],
   "source": [
    "%run ant_script"
   ]
  },
  {
   "cell_type": "markdown",
   "metadata": {
    "tags": []
   },
   "source": [
    "In the visualization above, **the color of the background signifies the amount of food**. Light yellow indicates lots of food and dark purple indicates a little. Black represents no food.   \n",
    "\n",
    "**&#9989;  Do This:** **Without looking at the code**, discuss how you would write your own simulation for this problem by answering the following questions."
   ]
  },
  {
   "cell_type": "markdown",
   "metadata": {
    "tags": []
   },
   "source": [
    "**Question 1:** What data would you need to keep track of the environment in this simulation?"
   ]
  },
  {
   "cell_type": "markdown",
   "metadata": {},
   "source": [
    "One would need the grid representation. Perhaps a class signify the ants. "
   ]
  },
  {
   "cell_type": "markdown",
   "metadata": {},
   "source": [
    "**Question 2:** How would you structure your program to solve this problem?"
   ]
  },
  {
   "cell_type": "markdown",
   "metadata": {},
   "source": [
    "<font size=+3>&#9998;</font> Do This - Erase the contents of this cell and replace it with your answer to the above question!  (double-click on this text to edit this cell, and hit shift+enter to save the text)"
   ]
  },
  {
   "cell_type": "markdown",
   "metadata": {},
   "source": [
    "**Question 3:** What would some stub code or pseudocode look like for this program? "
   ]
  },
  {
   "cell_type": "markdown",
   "metadata": {},
   "source": [
    "width = 50\n",
    "height = 50\n",
    "\n"
   ]
  },
  {
   "cell_type": "markdown",
   "metadata": {},
   "source": [
    "---\n",
    "<a id=\"part2\"></a>\n",
    "[Back to ToC](#toc)\n",
    "## 2. Linear Programming\n",
    "\n",
    "In this class and in the future, you will spend a lot of time looking at code that you didn't write. This could be in the form of package documentation and examples, code provided to you by a collaborator, or a classmate's code for your semester project.\n",
    "\n",
    "To continue building comfort with digesting unfamiliar code, you're going to do a \"code review\" of an implementation of this simulation using linear programming.  A \"code review\" is a common concept in programming where you analyze someone else's code to figure out what it is doing, identify problems and make improvements.  For now, just focus on seeing what it is doing. "
   ]
  },
  {
   "cell_type": "markdown",
   "metadata": {},
   "source": [
    "**&#9989;  Do This:** Analyze the [ant_script.py](ant_script.py) file and answer the following questions:"
   ]
  },
  {
   "cell_type": "markdown",
   "metadata": {},
   "source": [
    "**Question 4:** How does this design compare with the design you brainstormed? What did you like?  What did you dislike?"
   ]
  },
  {
   "cell_type": "markdown",
   "metadata": {},
   "source": [
    "<font size=+3>&#9998;</font> Do This - Erase the contents of this cell and replace it with your answer to the above question!  (double-click on this text to edit this cell, and hit shift+enter to save the text)"
   ]
  },
  {
   "cell_type": "markdown",
   "metadata": {},
   "source": [
    "**Question 5:** Was there anything in the design that was a surprise?"
   ]
  },
  {
   "cell_type": "markdown",
   "metadata": {},
   "source": [
    "<font size=+3>&#9998;</font> Do This - Erase the contents of this cell and replace it with your answer to the above question!  (double-click on this text to edit this cell, and hit shift+enter to save the text)"
   ]
  },
  {
   "cell_type": "markdown",
   "metadata": {},
   "source": [
    "---\n",
    "<a id=\"part3\"></a>\n",
    "[Back to ToC](#toc)\n",
    "\n",
    "## 3. Functional Programming\n",
    "\n",
    "Moving along in your code review process, you're going to consider the same basic simulation written as collection of functions.  \n",
    "\n",
    "**&#9989;  Do This:** Run the following cell to make sure you have the `ant_function.py` file in the right place and that the code runs."
   ]
  },
  {
   "cell_type": "code",
   "execution_count": 7,
   "metadata": {
    "pycharm": {
     "is_executing": true
    },
    "scrolled": true,
    "tags": []
   },
   "outputs": [
    {
     "data": {
      "image/png": "[encoded data removed]",
      "text/plain": [
       "<Figure size 1000x500 with 1 Axes>"
      ]
     },
     "metadata": {},
     "output_type": "display_data"
    },
    {
     "data": {
      "text/plain": [
       "<Figure size 1000x500 with 0 Axes>"
      ]
     },
     "metadata": {},
     "output_type": "display_data"
    }
   ],
   "source": [
    "import ant_function\n",
    "ant_function.run()"
   ]
  },
  {
   "cell_type": "markdown",
   "metadata": {},
   "source": [
    "**&#9989;  Do This:** Analyze the [ant_function.py](ant_function.py) file and answer the following questions:"
   ]
  },
  {
   "cell_type": "markdown",
   "metadata": {},
   "source": [
    "**Question 6:** How is the ```ant_function.py``` file different from the ```ant_script.py``` version?"
   ]
  },
  {
   "cell_type": "markdown",
   "metadata": {},
   "source": [
    "<font size=+3>&#9998;</font> Do This - Erase the contents of this cell and replace it with your answer to the above question!  (double-click on this text to edit this cell, and hit shift+enter to save the text)"
   ]
  },
  {
   "cell_type": "markdown",
   "metadata": {},
   "source": [
    "**Question 7:** What do you find to be better about the ```ant_script.py``` implementation of the simulation?"
   ]
  },
  {
   "cell_type": "markdown",
   "metadata": {},
   "source": [
    "<font size=+3>&#9998;</font> Do This - Erase the contents of this cell and replace it with your answer to the above question!  (double-click on this text to edit this cell, and hit shift+enter to save the text)"
   ]
  },
  {
   "cell_type": "markdown",
   "metadata": {},
   "source": [
    "**Question 8:** What do you find to be better about the ```ant_function.py``` implementation of the simulation?"
   ]
  },
  {
   "cell_type": "markdown",
   "metadata": {},
   "source": [
    "<font size=+3>&#9998;</font> Do This - Erase the contents of this cell and replace it with your answer to the above question!  (double-click on this text to edit this cell, and hit shift+enter to save the text)"
   ]
  },
  {
   "cell_type": "markdown",
   "metadata": {},
   "source": [
    "---\n",
    "<a id=\"part4\"></a>\n",
    "[Back to ToC](#toc)\n",
    "\n",
    "## 4. Object oriented programming\n",
    "\n",
    "Finally, lets pause your code review and spend a moment thinking about how you could implement the ant forging simulation as a object oriented program.  "
   ]
  },
  {
   "cell_type": "markdown",
   "metadata": {},
   "source": [
    "**&#9989;  Do This:** Discuss how you would break down this simulation into logical objects (object oriented programming) by answering the following question:"
   ]
  },
  {
   "cell_type": "markdown",
   "metadata": {},
   "source": [
    "**Question 9 :** What objects could you implement? What would be their corresponding attributes and methods?"
   ]
  },
  {
   "cell_type": "markdown",
   "metadata": {},
   "source": [
    "<font size=+3>&#9998;</font> Do This - Erase the contents of this cell and replace it with your answer to the above question!  (double-click on this text to edit this cell, and hit shift+enter to save the text)"
   ]
  },
  {
   "cell_type": "markdown",
   "metadata": {},
   "source": [
    "**&#9989;  Do This:** Continuing your code review exercises, run and analyze the [ant_class.py](ant_class.py) file and answer the following questions:"
   ]
  },
  {
   "cell_type": "code",
   "execution_count": 4,
   "metadata": {
    "pycharm": {
     "is_executing": true
    },
    "scrolled": true
   },
   "outputs": [
    {
     "data": {
      "image/png": "[encoded data removed]",
      "text/plain": [
       "<Figure size 1000x500 with 1 Axes>"
      ]
     },
     "metadata": {},
     "output_type": "display_data"
    },
    {
     "data": {
      "text/plain": [
       "<Figure size 1000x500 with 0 Axes>"
      ]
     },
     "metadata": {},
     "output_type": "display_data"
    }
   ],
   "source": [
    "import ant_class\n",
    "ant_class.run()"
   ]
  },
  {
   "cell_type": "markdown",
   "metadata": {},
   "source": [
    "**Question 10:** What are the disadvantages of using a class based approach?"
   ]
  },
  {
   "cell_type": "markdown",
   "metadata": {},
   "source": [
    "<font size=+3>&#9998;</font> Do This - Erase the contents of this cell and replace it with your answer to the above question!  (double-click on this text to edit this cell, and hit shift+enter to save the text)"
   ]
  },
  {
   "cell_type": "markdown",
   "metadata": {},
   "source": [
    "**Question 11:** What are the advantages of using a class based approach?"
   ]
  },
  {
   "cell_type": "markdown",
   "metadata": {},
   "source": [
    "<font size=+3>&#9998;</font> Do This - Erase the contents of this cell and replace it with your answer to the above question!  (double-click on this text to edit this cell, and hit shift+enter to save the text)"
   ]
  },
  {
   "cell_type": "markdown",
   "metadata": {},
   "source": [
    "### Making some minor modifications\n",
    "\n",
    "Now that you understand how the `ant_class.py` script works, you're going to try to modify the code a bit to make it visualize the model in a slightly different way.\n",
    "\n",
    "**&#9989;  Do This:** Using a **text editor** of your choosing, edit the ```ant_class.py``` file so that it visualizes the pheromones instead of the food. You should:\n",
    "\n",
    "* Use a different colormap for the pheromone visualization.\n",
    "* Add a colorbar to the visualize and label it \"pheromones.\"\n",
    "* Use a fixed colormap range so that it doesn't keep changing as the animation runs.\n",
    "\n",
    "**Important note**: Since your jupyter notebook has already imported `ant_class`, you can't just import the file again to incorporate your changes because Python doesn't like to import a module twice. You actually need to `reload` the class to get it to use your new version. The following cell takes care of this for you.\n",
    "\n",
    "**Make sure you understand how it works and then run your new version of the `ant_class.py` file.**"
   ]
  },
  {
   "cell_type": "code",
   "execution_count": 5,
   "metadata": {
    "pycharm": {
     "is_executing": true
    }
   },
   "outputs": [
    {
     "data": {
      "image/png": "[encoded data removed]",
      "text/plain": [
       "<Figure size 1000x500 with 1 Axes>"
      ]
     },
     "metadata": {},
     "output_type": "display_data"
    },
    {
     "data": {
      "text/plain": [
       "<Figure size 1000x500 with 0 Axes>"
      ]
     },
     "metadata": {},
     "output_type": "display_data"
    }
   ],
   "source": [
    "# Use the importlib module to access the \"reload()\" function to make sure changes to ant_class.py are used\n",
    "import importlib\n",
    "importlib.reload(ant_class)\n",
    "ant_class.run()"
   ]
  },
  {
   "cell_type": "markdown",
   "metadata": {},
   "source": [
    "**&#9989;  Do This:** Now that you've had a chance to review the code and modify it to visualizes the pheromones left by the ants. Can you find anything about the provided solution to the ant foraging model that you would change? Do you feel like the rules are implemented correctly? Do you feel like any of the rules should be change? Things you might want to think about:\n",
    "\n",
    "* What happens if an ant already has food but ends up in a location with food?\n",
    "* How are the ants detecting the pheromones around them? What sort of neighborhood are they searching in?\n",
    "\n",
    "Once you've had a chance to think about more ways that you might want to change the `ant_class.py` file feel free to try making those changes! You should be able to test your changes by re-running the cell above."
   ]
  },
  {
   "cell_type": "markdown",
   "metadata": {},
   "source": [
    "---\n",
    "<a id=\"part5\"></a>\n",
    "[Back to ToC](#toc)\n",
    "\n",
    "## 5. Python Docstrings\n",
    "\n",
    "One final Python related topic we want to introduce as you continue building your new Python skills is the concept of a \"Docstring\". Docstrings are a really useful way of adding descriptive information to your code so that it is easier for other folks to use and easier for you to remember what you were doing with your own code from the past! In fact, when you use the `?` functionality to understand what a Python method is doing, the information that you get back is from the docstring.\n",
    "\n",
    "Here is some information about what docstrings are and why they are useful: https://www.pythonforbeginners.com/basics/python-docstrings \n",
    "\n",
    "The `ant` class contained in `ant_class.py` include some docstrings, but others are missing.\n",
    "\n",
    "**&#9989;  Do This:** Read though the code and add appropriate docstrings to describe the parts of the class that have not yet been described. \n",
    "\n",
    "A docstring might look like:\n",
    "\n",
    "``` python\n",
    "'''\n",
    "This function does things and takes the following arguments.\n",
    "'''\n",
    "```\n",
    "\n",
    "Of course, you'll need to be a bit more descriptive than that!  Look at `ant_function.py` to get some ideas."
   ]
  },
  {
   "cell_type": "markdown",
   "metadata": {},
   "source": [
    "---\n",
    "<a id=\"part6\"></a>\n",
    "[Back to ToC](#toc)\n",
    "\n",
    "## Part 6: Follow-up Questions\n",
    "\n",
    "Copy and paste the following questions into the appropriate box in the assignment survey include below and answer them there. (Note: You'll have to fill out the assignment number and go to the \"NEXT\" section of the survey to paste in these questions.)\n",
    "\n",
    "1. In considering the various methods that one might use to solve this problem or others, what do you see as the advantages and disadvantages of each of these programming approaches:\n",
    "     1. Linear programming\n",
    "     2. Functional programming\n",
    "     3. Object oriented programming\n"
   ]
  },
  {
   "cell_type": "markdown",
   "metadata": {},
   "source": [
    "---\n",
    "<a id=\"survey\"></a>\n",
    "[Back to ToC](#toc)\n",
    "\n",
    "## Assignment wrap-up\n",
    "\n",
    "Please fill out the form that appears when you run the code below.  **You must completely fill this out in order to receive credit for the assignment!**"
   ]
  },
  {
   "cell_type": "code",
   "execution_count": 6,
   "metadata": {},
   "outputs": [
    {
     "data": {
      "text/html": [
       "\n",
       "<iframe \n",
       "\tsrc=\"https://cmse.msu.edu/cmse202-pc-survey\" \n",
       "\twidth=\"800\" \n",
       "\theight=\"800px\" \n",
       "\tframeborder=\"0\" \n",
       "\tmarginheight=\"0\" \n",
       "\tmarginwidth=\"0\">\n",
       "\tLoading...\n",
       "</iframe>\n"
      ],
      "text/plain": [
       "<IPython.core.display.HTML object>"
      ]
     },
     "execution_count": 6,
     "metadata": {},
     "output_type": "execute_result"
    }
   ],
   "source": [
    "from IPython.display import HTML\n",
    "HTML(\n",
    "\"\"\"\n",
    "<iframe \n",
    "\tsrc=\"https://cmse.msu.edu/cmse202-pc-survey\" \n",
    "\twidth=\"800\" \n",
    "\theight=\"800px\" \n",
    "\tframeborder=\"0\" \n",
    "\tmarginheight=\"0\" \n",
    "\tmarginwidth=\"0\">\n",
    "\tLoading...\n",
    "</iframe>\n",
    "\"\"\"\n",
    ")"
   ]
  },
  {
   "cell_type": "markdown",
   "metadata": {},
   "source": [
    "### Congratulations, you're done!\n",
    "\n",
    "Submit this assignment by uploading it to the course <a href=\"https://d2l.msu.edu/\">Desire2Learn</a> web page.  Go to the \"Pre-class assignments\" folder, find the appropriate dropbox link, and upload it there.\n",
    "\n",
    "See you in class!"
   ]
  },
  {
   "cell_type": "markdown",
   "metadata": {},
   "source": [
    "&#169; Copyright 2025,  Department of Computational Mathematics, Science and Engineering at Michigan State University"
   ]
  }
 ],
 "metadata": {
  "anaconda-cloud": {},
  "kernelspec": {
   "display_name": "Python 3.11 (default)",
   "language": "python",
   "name": "python3"
  },
  "language_info": {
   "codemirror_mode": {
    "name": "ipython",
    "version": 3
   },
   "file_extension": ".py",
   "mimetype": "text/x-python",
   "name": "python",
   "nbconvert_exporter": "python",
   "pygments_lexer": "ipython3",
   "version": "3.11.11"
  },
  "vscode": {
   "interpreter": {
    "hash": "31f2aee4e71d21fbe5cf8b01ff0e069b9275f58929596ceb00d14d90e3e16cd6"
   }
  },
  "widgets": {
   "application/vnd.jupyter.widget-state+json": {
    "state": {},
    "version_major": 2,
    "version_minor": 0
   }
  }
 },
 "nbformat": 4,
 "nbformat_minor": 4
}
