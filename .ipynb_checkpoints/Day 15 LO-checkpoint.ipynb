{
 "cells": [
  {
   "cell_type": "code",
   "execution_count": null,
   "id": "a350a6a2-d8c9-40d1-af33-5da7d624c95e",
   "metadata": {},
   "outputs": [],
   "source": [
    "HELLLO WORLD\n"
   ]
  }
 ],
 "metadata": {
  "kernelspec": {
   "display_name": "Python 3.11 (default)",
   "language": "python",
   "name": "python3"
  },
  "language_info": {
   "codemirror_mode": {
    "name": "ipython",
    "version": 3
   },
   "file_extension": ".py",
   "mimetype": "text/x-python",
   "name": "python",
   "nbconvert_exporter": "python",
   "pygments_lexer": "ipython3",
   "version": "3.11.11"
  }
 },
 "nbformat": 4,
 "nbformat_minor": 5
}
