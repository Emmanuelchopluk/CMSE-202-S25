{
 "cells": [
  {
   "cell_type": "code",
   "execution_count": null,
   "id": "12b3a633-eb1e-44d5-a295-ee187aeae16c",
   "metadata": {},
   "outputs": [],
   "source": [
    "#Day 13 Lo\n",
    "#Generate a variety of randomized data\n",
    "#Construct a 1-dimensional Linear Regression fit to these data\n",
    "#Explain how to judge the quality of a 1-dimensional Linear Regression fit"
   ]
  },
  {
   "cell_type": "code",
   "execution_count": 2,
   "id": "56c64b1b-f390-4999-b8d7-d7fad684c4cd",
   "metadata": {},
   "outputs": [],
   "source": [
    "import matplotlib.pyplot as plt\n",
    "import pandas as pd\n",
    "import numpy as np\n",
    "import random\n",
    "import statsmodels.api as sm\n",
    "from IPython.display import HTML"
   ]
  },
  {
   "cell_type": "code",
   "execution_count": 31,
   "id": "e3b37a61-8603-4606-b5a3-64f42ac9fe1d",
   "metadata": {},
   "outputs": [
    {
     "name": "stdout",
     "output_type": "stream",
     "text": [
      "[7, 4, 8, 9, 10, 10, 7, 2, 10, 3]\n",
      "[-1, -7, 1, 3, 5, 5, -1, -11, 5, -9]\n"
     ]
    }
   ],
   "source": [
    "#random seed\n",
    "random.seed()\n",
    "\n",
    "random.randint(1,10)\n",
    "#for loop appending to empty list\n",
    "emptydata=[]\n",
    "for i in range(10):\n",
    "    aryt1=random.randint(1,10)\n",
    "    emptydata.append(aryt1)\n",
    "print(emptydata)\n",
    "\n",
    "#plug x vals into function\n",
    "emptyy=[]\n",
    "for i in range(10):\n",
    "    yvals=2*emptydata[i]-15\n",
    "    emptyy.append(yvals)\n",
    "print(emptyy)"
   ]
  },
  {
   "cell_type": "code",
   "execution_count": 22,
   "id": "9c7b6330-e530-4a04-a79c-86f05426c2c7",
   "metadata": {},
   "outputs": [
    {
     "name": "stdout",
     "output_type": "stream",
     "text": [
      "[1 3 3 1 4 1 2 1 2 1]\n"
     ]
    }
   ],
   "source": [
    "#random seed\n",
    "rng = np.random.default_rng(seed = 123) \n",
    "#generate random numbers using numpy\n",
    "ary1 = rng.integers(1, 5, size = 10)\n",
    "\n",
    "print(ary1)"
   ]
  },
  {
   "cell_type": "code",
   "execution_count": 41,
   "id": "23a9e436-b6f0-411d-967c-1851e9def61a",
   "metadata": {},
   "outputs": [
    {
     "data": {
      "text/plain": [
       "[<matplotlib.lines.Line2D at 0x7feef3eaa210>]"
      ]
     },
     "execution_count": 41,
     "metadata": {},
     "output_type": "execute_result"
    },
    {
     "data": {
      "image/png": "[encoded data removed]",
      "text/plain": [
       "<Figure size 1000x700 with 1 Axes>"
      ]
     },
     "metadata": {},
     "output_type": "display_data"
    }
   ],
   "source": [
    "#plot random data\n",
    "fig = plt.figure(figsize = (10,7))\n",
    "plt.scatter(emptydata,emptyy)\n",
    "plt.plot(emptydata,line,color=\"red\")"
   ]
  },
  {
   "cell_type": "code",
   "execution_count": 34,
   "id": "1b18d56c-9eaa-4490-ba81-c9a6ed883cfe",
   "metadata": {},
   "outputs": [
    {
     "name": "stdout",
     "output_type": "stream",
     "text": [
      "[0.16433566]\n"
     ]
    }
   ],
   "source": [
    "model_perfect = sm.OLS(emptyy,emptydata)  # make the model\n",
    "results = model_perfect.fit()         # run the OLS fit\n",
    "print(results.params)       "
   ]
  },
  {
   "cell_type": "code",
   "execution_count": 45,
   "id": "648a0b96-2570-4006-b28a-dc073bf568ab",
   "metadata": {},
   "outputs": [
    {
     "name": "stdout",
     "output_type": "stream",
     "text": [
      "[[ 1.  7.]\n",
      " [ 1.  4.]\n",
      " [ 1.  8.]\n",
      " [ 1.  9.]\n",
      " [ 1. 10.]\n",
      " [ 1. 10.]\n",
      " [ 1.  7.]\n",
      " [ 1.  2.]\n",
      " [ 1. 10.]\n",
      " [ 1.  3.]]\n",
      "Intercept and slope are: [-15.   2.]\n",
      "[ -1.  -7.   1.   3.   5.   5.  -1. -11.   5.  -9.]\n"
     ]
    }
   ],
   "source": [
    "x_with_cnst = sm.add_constant(emptydata)\n",
    "print(x_with_cnst)\n",
    "model = sm.OLS(emptyy, x_with_cnst)\n",
    "results = model.fit()\n",
    "print(\"Intercept and slope are:\", results.params)\n",
    "print(results.predict())\n",
    "line=results.predict()"
   ]
  },
  {
   "cell_type": "code",
   "execution_count": 44,
   "id": "4b392c17-3d7f-46e9-8688-1b8cd2f83438",
   "metadata": {},
   "outputs": [],
   "source": [
    "# model.fit?"
   ]
  },
  {
   "cell_type": "code",
   "execution_count": null,
   "id": "9b5d36d2-ba59-458a-828a-206f30e6224f",
   "metadata": {},
   "outputs": [],
   "source": [
    "#HW2 Pt. 1 LO\n",
    "\n",
    "By the end of this assignment, you should be able to:\n",
    "\n",
    "- Define planet migration types\n",
    "- Compare orbit shapes, based on the mass of the planet/the star, the radius of the orbit, and the eccentricity\n",
    "- Be able to find the orbital period from orbit properties\n",
    "- Be able to write methods and attributes of a class, based on the description of the final needed result\n",
    "- Be able to define agents using classes in Python and interactions between them using methods of Python classes.\n",
    "- Describe an agent-based model that accurately presents the properties of a planetary system.\n",
    "- Implement the evolution of the agent-based model by correctly applying the rules for the model and updating the state of the agents in the model.\n",
    "- Be able to identify needed forces and their effect on modeling planet migration.\n",
    "- Be able to visualize and describe the results of planetary migration simulation."
   ]
  }
 ],
 "metadata": {
  "kernelspec": {
   "display_name": "Python 3.11 (default)",
   "language": "python",
   "name": "python3"
  },
  "language_info": {
   "codemirror_mode": {
    "name": "ipython",
    "version": 3
   },
   "file_extension": ".py",
   "mimetype": "text/x-python",
   "name": "python",
   "nbconvert_exporter": "python",
   "pygments_lexer": "ipython3",
   "version": "3.11.11"
  }
 },
 "nbformat": 4,
 "nbformat_minor": 5
}
