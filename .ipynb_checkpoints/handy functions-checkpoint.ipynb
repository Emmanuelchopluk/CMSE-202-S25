{
 "cells": [
  {
   "cell_type": "code",
   "execution_count": null,
   "id": "5d1612fa-7002-4b0a-8689-74c05f2b67a1",
   "metadata": {},
   "outputs": [],
   "source": [
    "#Handy functions "
   ]
  },
  {
   "cell_type": "code",
   "execution_count": 28,
   "id": "49012d30-f0af-4ca9-b117-8b3f4b89f03b",
   "metadata": {},
   "outputs": [
    {
     "ename": "AttributeError",
     "evalue": "'numpy.ndarray' object has no attribute 'append'",
     "output_type": "error",
     "traceback": [
      "\u001b[0;31m---------------------------------------------------------------------------\u001b[0m",
      "\u001b[0;31mAttributeError\u001b[0m                            Traceback (most recent call last)",
      "Cell \u001b[0;32mIn[28], line 6\u001b[0m\n\u001b[1;32m      4\u001b[0m \u001b[38;5;28mdict\u001b[39m\u001b[38;5;241m=\u001b[39m[]\n\u001b[1;32m      5\u001b[0m board  \u001b[38;5;241m=\u001b[39m np\u001b[38;5;241m.\u001b[39marange(\u001b[38;5;241m20\u001b[39m)\u001b[38;5;241m.\u001b[39mreshape(\u001b[38;5;241m4\u001b[39m,\u001b[38;5;241m5\u001b[39m)\n\u001b[0;32m----> 6\u001b[0m new\u001b[38;5;241m=\u001b[39m\u001b[43mboard\u001b[49m\u001b[38;5;241;43m.\u001b[39;49m\u001b[43mappend\u001b[49m\n",
      "\u001b[0;31mAttributeError\u001b[0m: 'numpy.ndarray' object has no attribute 'append'"
     ]
    }
   ],
   "source": [
    "#numpy\n",
    "import numpy as np\n",
    "\n",
    "dict=[]\n",
    "board  = np.arange(20).reshape(4,5)\n",
    "new=board.append"
   ]
  },
  {
   "cell_type": "code",
   "execution_count": 27,
   "id": "ee1c05f5-d0b7-47a6-8b85-377131ee9c82",
   "metadata": {},
   "outputs": [
    {
     "name": "stdout",
     "output_type": "stream",
     "text": [
      "{'Grades': array([89, 92, 73]), 'students': ['Sarah', 'Anika', 'Terry']}\n",
      "[('Sarah', 89), ('Anika', 92), ('Terry', 73)]\n"
     ]
    }
   ],
   "source": [
    "import numpy as np\n",
    "\n",
    "my_dict = {}\n",
    "arr = np.array([89, 92, 73])\n",
    "\n",
    "my_dict[\"Grades\"] = arr  # Adding NumPy array as a value\n",
    "\n",
    "students=[\"Sarah\", \"Anika\", \"Terry\"]\n",
    "my_dict[\"students\"]= students \n",
    "print(my_dict)"
   ]
  },
  {
   "cell_type": "code",
   "execution_count": null,
   "id": "40ab2331-bddd-490e-ab41-b87a752bdd6a",
   "metadata": {},
   "outputs": [],
   "source": [
    "#zip function\n",
    "students = [\"Sarah\", \"Anika\", \"Terry\"]\n",
    "grades = [89, 92, 73]\n",
    "\n",
    "paired = zip(students, grades)\n",
    "print(list(paired))\n"
   ]
  },
  {
   "cell_type": "code",
   "execution_count": null,
   "id": "9430736e-d6c4-45ee-951c-1028ee0dc1ee",
   "metadata": {},
   "outputs": [],
   "source": [
    "#Git hub\n",
    "\n",
    "#saves a copy of repo locally\n",
    "git clone <repository_url>\n",
    "\n",
    "#staging and commit \n",
    "\n",
    "git add <file>     # Stage a specific file\n",
    "git add .          # Stage all changes\n",
    "git commit -m \"Commit message\"\n",
    "\n",
    "#pulling from a repo \n",
    "\n",
    "git pull origin <branch_name>\n"
   ]
  },
  {
   "cell_type": "code",
   "execution_count": null,
   "id": "3ca78f37-f091-4e23-a615-984a8f28f379",
   "metadata": {},
   "outputs": [],
   "source": [
    "#pandas\n",
    "#create a dataframe\n",
    "data = {'Name': ['Alice', 'Bob', 'Charlie'], 'Age': [25, 30, 35]}\n",
    "df = pd.DataFrame(data)\n",
    "print(df)\n",
    "\n",
    "#load a dataset from csv\n",
    "df = pd.read_csv('data.csv')      \n",
    "\n",
    "#once you have the dataset \n",
    "\n",
    "df.head()     # Show first 5 rows\n",
    "df.tail()     # Show last 5 rows\n",
    "df.info()     # Summary of the DataFrame\n",
    "df.describe() # Statistics summary of numeric columns\n",
    "df.shape      # Get dimensions (rows, columns)\n",
    "df.columns    # List column names\n",
    "df.dtypes     # Check data types"
   ]
  },
  {
   "cell_type": "code",
   "execution_count": null,
   "id": "57398b81-7ac7-4ace-82bf-73f7601823a7",
   "metadata": {},
   "outputs": [],
   "source": [
    "#class\n",
    "class Car:\n",
    "    \"\"\"\n",
    "    A class representing a car with brand and model.\n",
    "    \"\"\"\n",
    "\n",
    "    wheels = 4  # Class attribute\n",
    "\n",
    "    def __init__(self, brand, model):\n",
    "        \"\"\"Constructor to initialize attributes\"\"\"\n",
    "        self.brand = brand  # Instance attribute\n",
    "        self.model = model\n",
    "\n",
    "    def display_info(self):\n",
    "        \"\"\"Method to display car information\"\"\"\n",
    "        print(f\"Car: {self.brand} {self.model}, Wheels: {Car.wheels}\")\n",
    "\n",
    "# Creating objects\n",
    "car1 = Car(\"Toyota\", \"Camry\")\n",
    "car2 = Car(\"Honda\", \"Civic\")\n",
    "\n",
    "# Using methods\n",
    "car1.display_info()\n",
    "car2.display_info()\n"
   ]
  },
  {
   "cell_type": "code",
   "execution_count": null,
   "id": "681f0602-3c0e-4c29-8b4d-119226d87d8f",
   "metadata": {},
   "outputs": [],
   "source": [
    "#matplotlib.pyplot"
   ]
  },
  {
   "cell_type": "code",
   "execution_count": null,
   "id": "3fbafe94-76f1-47d4-aefb-0873a914f9c6",
   "metadata": {},
   "outputs": [],
   "source": []
  }
 ],
 "metadata": {
  "kernelspec": {
   "display_name": "Python 3.11 (default)",
   "language": "python",
   "name": "python3"
  },
  "language_info": {
   "codemirror_mode": {
    "name": "ipython",
    "version": 3
   },
   "file_extension": ".py",
   "mimetype": "text/x-python",
   "name": "python",
   "nbconvert_exporter": "python",
   "pygments_lexer": "ipython3",
   "version": "3.11.11"
  }
 },
 "nbformat": 4,
 "nbformat_minor": 5
}
