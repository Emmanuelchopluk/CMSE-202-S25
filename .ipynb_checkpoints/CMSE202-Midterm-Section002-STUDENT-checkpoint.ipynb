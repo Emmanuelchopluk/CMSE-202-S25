{
 "cells": [
  {
   "cell_type": "markdown",
   "id": "d70b1917",
   "metadata": {},
   "source": [
    "### <p style=\"text-align: right;\"> &#9989; Emmanuel Luk.</p>\n",
    "### <p style=\"text-align: right;\"> &#9989; Emmanuelchopluk.</p>"
   ]
  },
  {
   "cell_type": "markdown",
   "id": "59201064",
   "metadata": {},
   "source": [
    "# CMSE 202 Midterm (Section 002 - SS25)\n",
    "\n",
    "\n",
    "# &#128721; READ EVERYTHING CAREFULLY\n",
    "\n",
    "\n",
    "The goal of this midterm is to give you the opportunity to test out some of the skills that you've developed thus far this semester. In particular, you'll practice setting up a GitHub repository, committing and pushing repository changes, downloading data with command line tools, performing some data analysis, possibly using a new Python package, and writing a python class. You should find that you have all of the skills necessary to complete this exam with even just eight weeks of CMSE 202 under your belt!\n",
    "\n",
    "You are encouraged to look through the entire exam before you get started so that you can appropriately budget your time and understand the broad goals of the exam. Once you've read through it, try doing Parts 1 and 2 first so that you have your repository set up and you download all necessary data files as they will be necessary to complete the assigned tasks. Let your instructor know right away if you have problems downloading the data!\n",
    "\n",
    "The exam is set up so that even if you get stuck on one part there are opportunities to get points on the other parts, so consider jumping ahead if you feel like you aren't making progress and then come back later if you have time.\n",
    "\n",
    "**Important note about using online resources**: This exam is **\"open internet\"**. That means that you can look up documentation, google how to accomplish certain Python tasks, reference and use your in-class assignments, pre-class assignments and homework, etc. Being able to effectively use the internet for computational modeling and data science is a very important skill, so we want to make sure you have the opportunity to exercise that skill. **However**: The use of any person-to-person communication software is absolutely not acceptable. If you are seen accessing your email, using a chat program (e.g. Slack), or any sort of collaborative cloud storage or document software (e.g. Google Documents), you will be at risk for receiving a zero on the exam.\n",
    "\n",
    "**Important Guidelines on AI Tool Usage**\n",
    "\n",
    "This exam allows the use of AI tools (such as ChatGPT, Claude, HiTA) with specific guidelines that mirror real-world professional practices. These tools should enhance your learning and problem-solving process, not replace your intellectual engagement. Here are the key requirements:\n",
    "\n",
    "1. **Appropriate Use of AI**:\n",
    "   - Use AI as a learning assistant to understand concepts, debug code, or get unstuck\n",
    "   - Use AI to improve your solution approach or verify your thinking\n",
    "   - Use AI to learn about new Python packages or functions you might need\n",
    "\n",
    "2. **Prohibited Uses**:\n",
    "   - Direct copying of AI-generated solutions without understanding\n",
    "   - Asking AI to complete entire questions without your intellectual input\n",
    "   - Using AI to modify provided starter code or test cases\n",
    "   - Using AI to circumvent learning objectives or problem requirements\n",
    "\n",
    "3. **Documentation Requirements**:\n",
    "   - You must cite any AI assistance received by adding a comment that includes:\n",
    "     * The AI tool used\n",
    "     * The specific question you asked\n",
    "     * How you modified or improved upon the AI's suggestion\n",
    "   - Example: \"# AI assistance: Used Claude to understand lmfit parameter initialization. Modified the suggested approach to include custom bounds.\"\n",
    "\n",
    "4. **Evaluation Implications**:\n",
    "   - Questions showing signs of direct AI solution copying will receive zero points\n",
    "   - Evidence of not following problem instructions, even if AI-suggested, will result in zero points\n",
    "   - Modified starter code or test cases will result in zero points for that question\n",
    "\n",
    "Remember: The goal is to demonstrate your understanding and problem-solving abilities. AI tools should support your learning, not replace your critical thinking and coding skills.\n",
    "\n",
    "**Note**: Traditional open internet resources (documentation, Stack Overflow, etc.) remain available, but person-to-person communication tools are not permitted.\"\n",
    "\n",
    "**Keep your eyes on your screen!** Unfortunately, there isn't enough space in the room for everyone to sit at their own table so please do your best to keep your eyes on your own screen. This exam is designed to give *you* the opportunity to show the instructor what you can do and you should hold yourself accountable for maintaining a high level of academic integrity. If any of the instructors observe suspicious behavior, you will, again, risk receiving a zero.\n",
    "\n",
    "The maximum number of points is: **88 Points**"
   ]
  },
  {
   "cell_type": "markdown",
   "id": "1134d11f",
   "metadata": {},
   "source": [
    "![star](https://media.giphy.com/media/xT9IgEYXCNqPZnqMuY/giphy.gif?cid=790b761114d73fop8879b63i6lpgjulam3sgmg7gib5vksnd&ep=v1_gifs_search&rid=giphy.gif&ct=g)"
   ]
  },
  {
   "cell_type": "markdown",
   "id": "1f1d868f",
   "metadata": {},
   "source": [
    "## Table of Contents\n",
    "\n",
    "Navigate through the midterm using these links:\n",
    "\n",
    "* [Part 0: Academic integrity statement (1 point)](#part-0-academic-integrity-statement-1-point)\n",
    "* [Part 1: Git and Command Line Interface (9 points)](#part-1-git-and-command-line-interface-9-points)\n",
    "* [Part 2: Working with a less familiar Python package (13 points)](#part-2-working-with-a-less-familiar-python-package-13-points)\n",
    "* [Part 3: Downloading and analyzing unfamiliar data (24 points)](#part-3-downloading-and-analyzing-unfamiliar-data-24-points)\n",
    "* [Part 4: Object-Oriented Programming (38 points)](#part-4-object-oriented-programming-38-points)\n",
    "* [Part 5. Conclusion (3 points)](#part-5-conclusion-3-points)"
   ]
  },
  {
   "cell_type": "markdown",
   "id": "b47a797c",
   "metadata": {},
   "source": [
    "---\n",
    "<a id=\"part-0-academic-integrity-statement-1-point\"></a>\n",
    "\n",
    "# Part 0: Academic integrity statement (1 point)\n",
    "\n",
    "[Back to Table of Contents](#Table-of-Contents)\n",
    "\n",
    "Read the following statement and edit the markdown text to put your name in the statement. This is your commitment to doing your own authentic work on this exam."
   ]
  },
  {
   "cell_type": "markdown",
   "id": "64f82697",
   "metadata": {},
   "source": [
    "> I, **Emmanuel Luk**, affirm that this exam represents my own authetic work, without the use of any unpermitted aids or resources or person-to-person communication. I understand that this exam an an opportunity to showcase my own progress in developing and improving my computational skills and have done my best to demonstrate those skills."
   ]
  },
  {
   "cell_type": "markdown",
   "id": "aade4f33",
   "metadata": {},
   "source": [
    "---\n",
    "<a id=\"part-1-git-and-command-line-interface-9-points\"></a>\n",
    "\n",
    "# Part 1: Git and Command Line Interface (9 points)\n",
    "\n",
    "[Back to Table of Contents](#Table-of-Contents)\n",
    "\n",
    "## Setup Instructions\n",
    "\n",
    "Before starting this section:\n",
    "1. Open a new terminal/powershell/command prompt window\n",
    "2. (Optional) Arrange your screen with this notebook on the left side and the terminal on the right side. This split-screen setup will help you work efficiently between the notebook and terminal\n",
    "\n",
    "**Important**: Even if your terminal opens in the correct directory, you must write out the full commands as if starting from your home directory."
   ]
  },
  {
   "cell_type": "markdown",
   "id": "4757287d",
   "metadata": {},
   "source": [
    "&#9989; **Question 1.1 (2 points)**: Move into your `cmse202-s25-turnin` folder and verify your location. This folder should be the local one you created for your homework on Github. If you do not have this folder, raise your hand and we will help you set it up.\n",
    "\n",
    "Write the commands you used below (minimum 2 lines):\n"
   ]
  },
  {
   "cell_type": "markdown",
   "id": "efa27a7b",
   "metadata": {
    "question_id": "P1Q1",
    "tags": [
     "student_answer"
    ]
   },
   "source": [
    "**<font size=+3>&#9998;</font> Do This**: *#move to correct folder\n",
    "!cd ~/new_repo/CMSE-202-S25\n",
    "#check location\n",
    "ls *"
   ]
  },
  {
   "cell_type": "markdown",
   "id": "2f2207da",
   "metadata": {},
   "source": [
    "&#9989; **Question 1.2 (2 points)**: Create the following directory structure in your repository:\n",
    "```\n",
    "cmse202-s25-turnin/\n",
    "    └── exams/\n",
    "        ├── midterm/\n",
    "        └── final/\n",
    "```\n",
    "Write the commands you used to create these folders:"
   ]
  },
  {
   "cell_type": "markdown",
   "id": "17cec07d",
   "metadata": {
    "question_id": "P1Q2",
    "tags": [
     "student_answer"
    ]
   },
   "source": [
    "**<font size=+3>&#9998;</font> Do This**: *1. navigate to the folder using cd /new_repo/CMSE-202-S25/\n",
    "2. Create a new folder using mkdir *file name* 3. do the same for \"final\"*"
   ]
  },
  {
   "cell_type": "markdown",
   "id": "9809047d",
   "metadata": {},
   "source": [
    "&#9989; **Question 1.3 (1 point)**: Write the commands to move this notebook into the `midterm` folder:"
   ]
  },
  {
   "cell_type": "markdown",
   "id": "b7c93a91",
   "metadata": {
    "question_id": "P1Q3",
    "tags": [
     "student_answer"
    ]
   },
   "source": [
    "**<font size=+3>&#9998;</font> Do This**: *mv CMSE202-Midterm-Section002-STUDENT.ipynb ~/new_repo/CMSE-202-S25/exams*"
   ]
  },
  {
   "cell_type": "markdown",
   "id": "359a1ad0",
   "metadata": {},
   "source": [
    "&#9989; **Question 1.4 (2 points)**: Check your repository status.\n",
    "\n",
    "Write the command you used:"
   ]
  },
  {
   "cell_type": "markdown",
   "id": "32452880",
   "metadata": {
    "question_id": "P1Q4",
    "tags": [
     "student_answer"
    ]
   },
   "source": [
    "**<font size=+3>&#9998;</font> Do This**: *!git status*"
   ]
  },
  {
   "cell_type": "markdown",
   "id": "a407b77c",
   "metadata": {},
   "source": [
    "Paste the output of the command:"
   ]
  },
  {
   "cell_type": "markdown",
   "id": "fefc1655",
   "metadata": {
    "question_id": "P1Q4",
    "tags": [
     "student_answer"
    ]
   },
   "source": [
    "**<font size=+3>&#9998;</font> Do This**: *On branch main\n",
    "Your branch is up to date with 'origin/main'.\n",
    "\n",
    "Changes not staged for commit:\n",
    "  (use \"git add <file>...\" to update what will be committed)\n",
    "  (use \"git restore <file>...\" to discard changes in working directory)\n",
    "        modified:   ../hw-01/.ipynb_checkpoints/HW-01_GitPracticeDebuggingPythonPackagesAndClasses-SS25-STUDENT-checkpoint.ipynb\n",
    "        modified:   ../hw-01/HW-01_GitPracticeDebuggingPythonPackagesAndClasses-SS25-STUDENT.ipynb\n",
    "\n",
    "Untracked files:\n",
    "  (use \"git add <file>...\" to include in what will be committed)\n",
    "        ./\n",
    "        ../hw-01/.ipynb_checkpoints/xy_dataset-checkpoint.csv\n",
    "        ../hw-01/Iris.csv.\n",
    "        ../hw-01/Pokemon.csv\n",
    "        ../hw-01/pyjokes/\n",
    "        ../hw-01/xy_dataset.csv\n",
    "\n",
    "no changes added to commit (use \"git add\" and/or \"git commit -a\")*"
   ]
  },
  {
   "cell_type": "markdown",
   "id": "29792cc2",
   "metadata": {},
   "source": [
    "&#9989; **Question 1.5 (1 point)**: Do you have any untracked files? Confirm you don't have any untracked files. The only file we want to track is CMSE202-Midterm-Section001-STUDENT. Write down the commands used to either confirm you don't have any untracked files, or the commands you used to track your file."
   ]
  },
  {
   "cell_type": "markdown",
   "id": "94c946d5",
   "metadata": {
    "question_id": "P1Q5",
    "tags": [
     "student_answer"
    ]
   },
   "source": [
    "**<font size=+3>&#9998;</font> Do This**: *-CHATGPT -how would I confirm any untracked files? -git status --untracked-files git status --untracked-files\n",
    "\n",
    "*"
   ]
  },
  {
   "cell_type": "markdown",
   "id": "6899637a",
   "metadata": {},
   "source": [
    "&#9989; **Question 1.6 (1 point)**: Commit your changes with the message \"Committing Part 1 of midterm\" and push to GitHub.\n",
    "\n",
    "Write the commands you used:"
   ]
  },
  {
   "cell_type": "markdown",
   "id": "106bd161",
   "metadata": {
    "question_id": "P1Q6",
    "tags": [
     "student_answer"
    ]
   },
   "source": [
    "**<font size=+3>&#9998;</font> Do This**: *!git commit -m\"Committing Part 1 of midterm\"\n",
    "!git push*"
   ]
  },
  {
   "cell_type": "markdown",
   "id": "3021170c",
   "metadata": {},
   "source": [
    "**Important**: Double check you've added your Professor and your TA as collaborators to your \"turnin\" respository (you should have done this in the previous homework assignment)"
   ]
  },
  {
   "cell_type": "markdown",
   "id": "990abf6b",
   "metadata": {},
   "source": [
    "**Also important**: Make sure that the version of this notebook that you are working on is the same one that you just added to your repository! If you are working on a different copy of the noteobok, none of your changes will be tracked!"
   ]
  },
  {
   "cell_type": "markdown",
   "id": "b41bfa88",
   "metadata": {},
   "source": [
    "--- \n",
    "<a id=\"part-2-working-with-a-less-familiar-python-package-13-points\"></a>\n",
    "\n",
    "# Part 2: Working with a less familiar Python package (13 points)\n",
    "\n",
    "[Back to Table of Contents](#Table-of-Contents)\n",
    "\n",
    "In this part of the exam you will need to review a bit of documentation from either a Python package that you've explored a bit this semester or a new one.\n",
    "\n",
    "Let's install and use the plotly package"
   ]
  },
  {
   "cell_type": "markdown",
   "id": "5ad13a1b",
   "metadata": {},
   "source": [
    "&#9989; **Question 2.1 (2 points)**: Install the package `plotly` using `pip`. Here is the link to the [documentation]( https://plotly.com/python/)\n"
   ]
  },
  {
   "cell_type": "code",
   "execution_count": 38,
   "id": "7cdc59fe",
   "metadata": {
    "question_id": "P1Q5",
    "tags": [
     "student_answer"
    ]
   },
   "outputs": [
    {
     "name": "stdout",
     "output_type": "stream",
     "text": [
      "Defaulting to user installation because normal site-packages is not writeable\n",
      "Requirement already satisfied: plotly in ./.local/lib/python3.11/site-packages (5.24.1)\n",
      "Requirement already satisfied: tenacity>=6.2.0 in ./.local/lib/python3.11/site-packages (from plotly) (9.0.0)\n",
      "Requirement already satisfied: packaging in /opt/miniconda3/lib/python3.11/site-packages (from plotly) (24.2)\n",
      "Note: you may need to restart the kernel to use updated packages.\n"
     ]
    }
   ],
   "source": [
    "# Put your code/commands here.\n",
    "%pip install plotly"
   ]
  },
  {
   "cell_type": "markdown",
   "id": "53fd0b11",
   "metadata": {},
   "source": [
    "&#9989; **Question 2.2 (2 points)**: Load in any dataset of your choice from [here]( https://plotly.com/python-api-reference/generated/plotly.data.html ). Assign this data as the variable \"my_plotly_data\" and then display this data."
   ]
  },
  {
   "cell_type": "code",
   "execution_count": 50,
   "id": "32d1b3d8",
   "metadata": {
    "question_id": "P1Q5",
    "tags": [
     "student_answer"
    ]
   },
   "outputs": [
    {
     "name": "stdout",
     "output_type": "stream",
     "text": [
      "     sepal_length  sepal_width  petal_length  petal_width    species  \\\n",
      "0             5.1          3.5           1.4          0.2     setosa   \n",
      "1             4.9          3.0           1.4          0.2     setosa   \n",
      "2             4.7          3.2           1.3          0.2     setosa   \n",
      "3             4.6          3.1           1.5          0.2     setosa   \n",
      "4             5.0          3.6           1.4          0.2     setosa   \n",
      "..            ...          ...           ...          ...        ...   \n",
      "145           6.7          3.0           5.2          2.3  virginica   \n",
      "146           6.3          2.5           5.0          1.9  virginica   \n",
      "147           6.5          3.0           5.2          2.0  virginica   \n",
      "148           6.2          3.4           5.4          2.3  virginica   \n",
      "149           5.9          3.0           5.1          1.8  virginica   \n",
      "\n",
      "     species_id  \n",
      "0             1  \n",
      "1             1  \n",
      "2             1  \n",
      "3             1  \n",
      "4             1  \n",
      "..          ...  \n",
      "145           3  \n",
      "146           3  \n",
      "147           3  \n",
      "148           3  \n",
      "149           3  \n",
      "\n",
      "[150 rows x 6 columns]\n"
     ]
    }
   ],
   "source": [
    "# Put your code here\n",
    "import plotly as px\n",
    "import pandas as pd\n",
    "my_plotly_data=plotly.data.iris()\n",
    "\n",
    "print(my_plotly_data)\n",
    "#chatgpt\n",
    "#what are the main functions of plotly\n",
    "#I adjust to import plotly as px "
   ]
  },
  {
   "cell_type": "markdown",
   "id": "76e7442e",
   "metadata": {},
   "source": [
    "#### &#9989; **Question 2.3 (6 points)**: Using plotly, create a figure that visualizes your data (or at least some parts of your data). Make sure there are appropriate labels like title, x-axis, and y-axis, etc. "
   ]
  },
  {
   "cell_type": "code",
   "execution_count": 51,
   "id": "cebca85c",
   "metadata": {
    "question_id": "P1Q5",
    "tags": [
     "student_answer"
    ]
   },
   "outputs": [
    {
     "data": {
      "application/vnd.plotly.v1+json": {
       "config": {
        "plotlyServerURL": "https://plot.ly"
       },
       "data": [
        {
         "customdata": [
          [
           0.2
          ],
          [
           0.2
          ],
          [
           0.2
          ],
          [
           0.2
          ],
          [
           0.2
          ],
          [
           0.4
          ],
          [
           0.3
          ],
          [
           0.2
          ],
          [
           0.2
          ],
          [
           0.1
          ],
          [
           0.2
          ],
          [
           0.2
          ],
          [
           0.1
          ],
          [
           0.1
          ],
          [
           0.2
          ],
          [
           0.4
          ],
          [
           0.4
          ],
          [
           0.3
          ],
          [
           0.3
          ],
          [
           0.3
          ],
          [
           0.2
          ],
          [
           0.4
          ],
          [
           0.2
          ],
          [
           0.5
          ],
          [
           0.2
          ],
          [
           0.2
          ],
          [
           0.4
          ],
          [
           0.2
          ],
          [
           0.2
          ],
          [
           0.2
          ],
          [
           0.2
          ],
          [
           0.4
          ],
          [
           0.1
          ],
          [
           0.2
          ],
          [
           0.1
          ],
          [
           0.2
          ],
          [
           0.2
          ],
          [
           0.1
          ],
          [
           0.2
          ],
          [
           0.2
          ],
          [
           0.3
          ],
          [
           0.3
          ],
          [
           0.2
          ],
          [
           0.6
          ],
          [
           0.4
          ],
          [
           0.3
          ],
          [
           0.2
          ],
          [
           0.2
          ],
          [
           0.2
          ],
          [
           0.2
          ]
         ],
         "hovertemplate": "species=setosa<br>sepal_width=%{x}<br>sepal_length=%{y}<br>petal_length=%{marker.size}<br>petal_width=%{customdata[0]}<extra></extra>",
         "legendgroup": "setosa",
         "marker": {
          "color": "#636efa",
          "size": [
           1.4,
           1.4,
           1.3,
           1.5,
           1.4,
           1.7,
           1.4,
           1.5,
           1.4,
           1.5,
           1.5,
           1.6,
           1.4,
           1.1,
           1.2,
           1.5,
           1.3,
           1.4,
           1.7,
           1.5,
           1.7,
           1.5,
           1,
           1.7,
           1.9,
           1.6,
           1.6,
           1.5,
           1.4,
           1.6,
           1.6,
           1.5,
           1.5,
           1.4,
           1.5,
           1.2,
           1.3,
           1.5,
           1.3,
           1.5,
           1.3,
           1.3,
           1.3,
           1.6,
           1.9,
           1.4,
           1.6,
           1.4,
           1.5,
           1.4
          ],
          "sizemode": "area",
          "sizeref": 0.01725,
          "symbol": "circle"
         },
         "mode": "markers",
         "name": "setosa",
         "orientation": "v",
         "showlegend": true,
         "type": "scatter",
         "x": [
          3.5,
          3,
          3.2,
          3.1,
          3.6,
          3.9,
          3.4,
          3.4,
          2.9,
          3.1,
          3.7,
          3.4,
          3,
          3,
          4,
          4.4,
          3.9,
          3.5,
          3.8,
          3.8,
          3.4,
          3.7,
          3.6,
          3.3,
          3.4,
          3,
          3.4,
          3.5,
          3.4,
          3.2,
          3.1,
          3.4,
          4.1,
          4.2,
          3.1,
          3.2,
          3.5,
          3.1,
          3,
          3.4,
          3.5,
          2.3,
          3.2,
          3.5,
          3.8,
          3,
          3.8,
          3.2,
          3.7,
          3.3
         ],
         "xaxis": "x",
         "y": [
          5.1,
          4.9,
          4.7,
          4.6,
          5,
          5.4,
          4.6,
          5,
          4.4,
          4.9,
          5.4,
          4.8,
          4.8,
          4.3,
          5.8,
          5.7,
          5.4,
          5.1,
          5.7,
          5.1,
          5.4,
          5.1,
          4.6,
          5.1,
          4.8,
          5,
          5,
          5.2,
          5.2,
          4.7,
          4.8,
          5.4,
          5.2,
          5.5,
          4.9,
          5,
          5.5,
          4.9,
          4.4,
          5.1,
          5,
          4.5,
          4.4,
          5,
          5.1,
          4.8,
          5.1,
          4.6,
          5.3,
          5
         ],
         "yaxis": "y"
        },
        {
         "customdata": [
          [
           1.4
          ],
          [
           1.5
          ],
          [
           1.5
          ],
          [
           1.3
          ],
          [
           1.5
          ],
          [
           1.3
          ],
          [
           1.6
          ],
          [
           1
          ],
          [
           1.3
          ],
          [
           1.4
          ],
          [
           1
          ],
          [
           1.5
          ],
          [
           1
          ],
          [
           1.4
          ],
          [
           1.3
          ],
          [
           1.4
          ],
          [
           1.5
          ],
          [
           1
          ],
          [
           1.5
          ],
          [
           1.1
          ],
          [
           1.8
          ],
          [
           1.3
          ],
          [
           1.5
          ],
          [
           1.2
          ],
          [
           1.3
          ],
          [
           1.4
          ],
          [
           1.4
          ],
          [
           1.7
          ],
          [
           1.5
          ],
          [
           1
          ],
          [
           1.1
          ],
          [
           1
          ],
          [
           1.2
          ],
          [
           1.6
          ],
          [
           1.5
          ],
          [
           1.6
          ],
          [
           1.5
          ],
          [
           1.3
          ],
          [
           1.3
          ],
          [
           1.3
          ],
          [
           1.2
          ],
          [
           1.4
          ],
          [
           1.2
          ],
          [
           1
          ],
          [
           1.3
          ],
          [
           1.2
          ],
          [
           1.3
          ],
          [
           1.3
          ],
          [
           1.1
          ],
          [
           1.3
          ]
         ],
         "hovertemplate": "species=versicolor<br>sepal_width=%{x}<br>sepal_length=%{y}<br>petal_length=%{marker.size}<br>petal_width=%{customdata[0]}<extra></extra>",
         "legendgroup": "versicolor",
         "marker": {
          "color": "#EF553B",
          "size": [
           4.7,
           4.5,
           4.9,
           4,
           4.6,
           4.5,
           4.7,
           3.3,
           4.6,
           3.9,
           3.5,
           4.2,
           4,
           4.7,
           3.6,
           4.4,
           4.5,
           4.1,
           4.5,
           3.9,
           4.8,
           4,
           4.9,
           4.7,
           4.3,
           4.4,
           4.8,
           5,
           4.5,
           3.5,
           3.8,
           3.7,
           3.9,
           5.1,
           4.5,
           4.5,
           4.7,
           4.4,
           4.1,
           4,
           4.4,
           4.6,
           4,
           3.3,
           4.2,
           4.2,
           4.2,
           4.3,
           3,
           4.1
          ],
          "sizemode": "area",
          "sizeref": 0.01725,
          "symbol": "circle"
         },
         "mode": "markers",
         "name": "versicolor",
         "orientation": "v",
         "showlegend": true,
         "type": "scatter",
         "x": [
          3.2,
          3.2,
          3.1,
          2.3,
          2.8,
          2.8,
          3.3,
          2.4,
          2.9,
          2.7,
          2,
          3,
          2.2,
          2.9,
          2.9,
          3.1,
          3,
          2.7,
          2.2,
          2.5,
          3.2,
          2.8,
          2.5,
          2.8,
          2.9,
          3,
          2.8,
          3,
          2.9,
          2.6,
          2.4,
          2.4,
          2.7,
          2.7,
          3,
          3.4,
          3.1,
          2.3,
          3,
          2.5,
          2.6,
          3,
          2.6,
          2.3,
          2.7,
          3,
          2.9,
          2.9,
          2.5,
          2.8
         ],
         "xaxis": "x",
         "y": [
          7,
          6.4,
          6.9,
          5.5,
          6.5,
          5.7,
          6.3,
          4.9,
          6.6,
          5.2,
          5,
          5.9,
          6,
          6.1,
          5.6,
          6.7,
          5.6,
          5.8,
          6.2,
          5.6,
          5.9,
          6.1,
          6.3,
          6.1,
          6.4,
          6.6,
          6.8,
          6.7,
          6,
          5.7,
          5.5,
          5.5,
          5.8,
          6,
          5.4,
          6,
          6.7,
          6.3,
          5.6,
          5.5,
          5.5,
          6.1,
          5.8,
          5,
          5.6,
          5.7,
          5.7,
          6.2,
          5.1,
          5.7
         ],
         "yaxis": "y"
        },
        {
         "customdata": [
          [
           2.5
          ],
          [
           1.9
          ],
          [
           2.1
          ],
          [
           1.8
          ],
          [
           2.2
          ],
          [
           2.1
          ],
          [
           1.7
          ],
          [
           1.8
          ],
          [
           1.8
          ],
          [
           2.5
          ],
          [
           2
          ],
          [
           1.9
          ],
          [
           2.1
          ],
          [
           2
          ],
          [
           2.4
          ],
          [
           2.3
          ],
          [
           1.8
          ],
          [
           2.2
          ],
          [
           2.3
          ],
          [
           1.5
          ],
          [
           2.3
          ],
          [
           2
          ],
          [
           2
          ],
          [
           1.8
          ],
          [
           2.1
          ],
          [
           1.8
          ],
          [
           1.8
          ],
          [
           1.8
          ],
          [
           2.1
          ],
          [
           1.6
          ],
          [
           1.9
          ],
          [
           2
          ],
          [
           2.2
          ],
          [
           1.5
          ],
          [
           1.4
          ],
          [
           2.3
          ],
          [
           2.4
          ],
          [
           1.8
          ],
          [
           1.8
          ],
          [
           2.1
          ],
          [
           2.4
          ],
          [
           2.3
          ],
          [
           1.9
          ],
          [
           2.3
          ],
          [
           2.5
          ],
          [
           2.3
          ],
          [
           1.9
          ],
          [
           2
          ],
          [
           2.3
          ],
          [
           1.8
          ]
         ],
         "hovertemplate": "species=virginica<br>sepal_width=%{x}<br>sepal_length=%{y}<br>petal_length=%{marker.size}<br>petal_width=%{customdata[0]}<extra></extra>",
         "legendgroup": "virginica",
         "marker": {
          "color": "#00cc96",
          "size": [
           6,
           5.1,
           5.9,
           5.6,
           5.8,
           6.6,
           4.5,
           6.3,
           5.8,
           6.1,
           5.1,
           5.3,
           5.5,
           5,
           5.1,
           5.3,
           5.5,
           6.7,
           6.9,
           5,
           5.7,
           4.9,
           6.7,
           4.9,
           5.7,
           6,
           4.8,
           4.9,
           5.6,
           5.8,
           6.1,
           6.4,
           5.6,
           5.1,
           5.6,
           6.1,
           5.6,
           5.5,
           4.8,
           5.4,
           5.6,
           5.1,
           5.1,
           5.9,
           5.7,
           5.2,
           5,
           5.2,
           5.4,
           5.1
          ],
          "sizemode": "area",
          "sizeref": 0.01725,
          "symbol": "circle"
         },
         "mode": "markers",
         "name": "virginica",
         "orientation": "v",
         "showlegend": true,
         "type": "scatter",
         "x": [
          3.3,
          2.7,
          3,
          2.9,
          3,
          3,
          2.5,
          2.9,
          2.5,
          3.6,
          3.2,
          2.7,
          3,
          2.5,
          2.8,
          3.2,
          3,
          3.8,
          2.6,
          2.2,
          3.2,
          2.8,
          2.8,
          2.7,
          3.3,
          3.2,
          2.8,
          3,
          2.8,
          3,
          2.8,
          3.8,
          2.8,
          2.8,
          2.6,
          3,
          3.4,
          3.1,
          3,
          3.1,
          3.1,
          3.1,
          2.7,
          3.2,
          3.3,
          3,
          2.5,
          3,
          3.4,
          3
         ],
         "xaxis": "x",
         "y": [
          6.3,
          5.8,
          7.1,
          6.3,
          6.5,
          7.6,
          4.9,
          7.3,
          6.7,
          7.2,
          6.5,
          6.4,
          6.8,
          5.7,
          5.8,
          6.4,
          6.5,
          7.7,
          7.7,
          6,
          6.9,
          5.6,
          7.7,
          6.3,
          6.7,
          7.2,
          6.2,
          6.1,
          6.4,
          7.2,
          7.4,
          7.9,
          6.4,
          6.3,
          6.1,
          7.7,
          6.3,
          6.4,
          6,
          6.9,
          6.7,
          6.9,
          5.8,
          6.8,
          6.7,
          6.7,
          6.3,
          6.5,
          6.2,
          5.9
         ],
         "yaxis": "y"
        }
       ],
       "layout": {
        "legend": {
         "itemsizing": "constant",
         "title": {
          "text": "species"
         },
         "tracegroupgap": 0
        },
        "template": {
         "data": {
          "bar": [
           {
            "error_x": {
             "color": "#2a3f5f"
            },
            "error_y": {
             "color": "#2a3f5f"
            },
            "marker": {
             "line": {
              "color": "#E5ECF6",
              "width": 0.5
             },
             "pattern": {
              "fillmode": "overlay",
              "size": 10,
              "solidity": 0.2
             }
            },
            "type": "bar"
           }
          ],
          "barpolar": [
           {
            "marker": {
             "line": {
              "color": "#E5ECF6",
              "width": 0.5
             },
             "pattern": {
              "fillmode": "overlay",
              "size": 10,
              "solidity": 0.2
             }
            },
            "type": "barpolar"
           }
          ],
          "carpet": [
           {
            "aaxis": {
             "endlinecolor": "#2a3f5f",
             "gridcolor": "white",
             "linecolor": "white",
             "minorgridcolor": "white",
             "startlinecolor": "#2a3f5f"
            },
            "baxis": {
             "endlinecolor": "#2a3f5f",
             "gridcolor": "white",
             "linecolor": "white",
             "minorgridcolor": "white",
             "startlinecolor": "#2a3f5f"
            },
            "type": "carpet"
           }
          ],
          "choropleth": [
           {
            "colorbar": {
             "outlinewidth": 0,
             "ticks": ""
            },
            "type": "choropleth"
           }
          ],
          "contour": [
           {
            "colorbar": {
             "outlinewidth": 0,
             "ticks": ""
            },
            "colorscale": [
             [
              0,
              "#0d0887"
             ],
             [
              0.1111111111111111,
              "#46039f"
             ],
             [
              0.2222222222222222,
              "#7201a8"
             ],
             [
              0.3333333333333333,
              "#9c179e"
             ],
             [
              0.4444444444444444,
              "#bd3786"
             ],
             [
              0.5555555555555556,
              "#d8576b"
             ],
             [
              0.6666666666666666,
              "#ed7953"
             ],
             [
              0.7777777777777778,
              "#fb9f3a"
             ],
             [
              0.8888888888888888,
              "#fdca26"
             ],
             [
              1,
              "#f0f921"
             ]
            ],
            "type": "contour"
           }
          ],
          "contourcarpet": [
           {
            "colorbar": {
             "outlinewidth": 0,
             "ticks": ""
            },
            "type": "contourcarpet"
           }
          ],
          "heatmap": [
           {
            "colorbar": {
             "outlinewidth": 0,
             "ticks": ""
            },
            "colorscale": [
             [
              0,
              "#0d0887"
             ],
             [
              0.1111111111111111,
              "#46039f"
             ],
             [
              0.2222222222222222,
              "#7201a8"
             ],
             [
              0.3333333333333333,
              "#9c179e"
             ],
             [
              0.4444444444444444,
              "#bd3786"
             ],
             [
              0.5555555555555556,
              "#d8576b"
             ],
             [
              0.6666666666666666,
              "#ed7953"
             ],
             [
              0.7777777777777778,
              "#fb9f3a"
             ],
             [
              0.8888888888888888,
              "#fdca26"
             ],
             [
              1,
              "#f0f921"
             ]
            ],
            "type": "heatmap"
           }
          ],
          "heatmapgl": [
           {
            "colorbar": {
             "outlinewidth": 0,
             "ticks": ""
            },
            "colorscale": [
             [
              0,
              "#0d0887"
             ],
             [
              0.1111111111111111,
              "#46039f"
             ],
             [
              0.2222222222222222,
              "#7201a8"
             ],
             [
              0.3333333333333333,
              "#9c179e"
             ],
             [
              0.4444444444444444,
              "#bd3786"
             ],
             [
              0.5555555555555556,
              "#d8576b"
             ],
             [
              0.6666666666666666,
              "#ed7953"
             ],
             [
              0.7777777777777778,
              "#fb9f3a"
             ],
             [
              0.8888888888888888,
              "#fdca26"
             ],
             [
              1,
              "#f0f921"
             ]
            ],
            "type": "heatmapgl"
           }
          ],
          "histogram": [
           {
            "marker": {
             "pattern": {
              "fillmode": "overlay",
              "size": 10,
              "solidity": 0.2
             }
            },
            "type": "histogram"
           }
          ],
          "histogram2d": [
           {
            "colorbar": {
             "outlinewidth": 0,
             "ticks": ""
            },
            "colorscale": [
             [
              0,
              "#0d0887"
             ],
             [
              0.1111111111111111,
              "#46039f"
             ],
             [
              0.2222222222222222,
              "#7201a8"
             ],
             [
              0.3333333333333333,
              "#9c179e"
             ],
             [
              0.4444444444444444,
              "#bd3786"
             ],
             [
              0.5555555555555556,
              "#d8576b"
             ],
             [
              0.6666666666666666,
              "#ed7953"
             ],
             [
              0.7777777777777778,
              "#fb9f3a"
             ],
             [
              0.8888888888888888,
              "#fdca26"
             ],
             [
              1,
              "#f0f921"
             ]
            ],
            "type": "histogram2d"
           }
          ],
          "histogram2dcontour": [
           {
            "colorbar": {
             "outlinewidth": 0,
             "ticks": ""
            },
            "colorscale": [
             [
              0,
              "#0d0887"
             ],
             [
              0.1111111111111111,
              "#46039f"
             ],
             [
              0.2222222222222222,
              "#7201a8"
             ],
             [
              0.3333333333333333,
              "#9c179e"
             ],
             [
              0.4444444444444444,
              "#bd3786"
             ],
             [
              0.5555555555555556,
              "#d8576b"
             ],
             [
              0.6666666666666666,
              "#ed7953"
             ],
             [
              0.7777777777777778,
              "#fb9f3a"
             ],
             [
              0.8888888888888888,
              "#fdca26"
             ],
             [
              1,
              "#f0f921"
             ]
            ],
            "type": "histogram2dcontour"
           }
          ],
          "mesh3d": [
           {
            "colorbar": {
             "outlinewidth": 0,
             "ticks": ""
            },
            "type": "mesh3d"
           }
          ],
          "parcoords": [
           {
            "line": {
             "colorbar": {
              "outlinewidth": 0,
              "ticks": ""
             }
            },
            "type": "parcoords"
           }
          ],
          "pie": [
           {
            "automargin": true,
            "type": "pie"
           }
          ],
          "scatter": [
           {
            "fillpattern": {
             "fillmode": "overlay",
             "size": 10,
             "solidity": 0.2
            },
            "type": "scatter"
           }
          ],
          "scatter3d": [
           {
            "line": {
             "colorbar": {
              "outlinewidth": 0,
              "ticks": ""
             }
            },
            "marker": {
             "colorbar": {
              "outlinewidth": 0,
              "ticks": ""
             }
            },
            "type": "scatter3d"
           }
          ],
          "scattercarpet": [
           {
            "marker": {
             "colorbar": {
              "outlinewidth": 0,
              "ticks": ""
             }
            },
            "type": "scattercarpet"
           }
          ],
          "scattergeo": [
           {
            "marker": {
             "colorbar": {
              "outlinewidth": 0,
              "ticks": ""
             }
            },
            "type": "scattergeo"
           }
          ],
          "scattergl": [
           {
            "marker": {
             "colorbar": {
              "outlinewidth": 0,
              "ticks": ""
             }
            },
            "type": "scattergl"
           }
          ],
          "scattermapbox": [
           {
            "marker": {
             "colorbar": {
              "outlinewidth": 0,
              "ticks": ""
             }
            },
            "type": "scattermapbox"
           }
          ],
          "scatterpolar": [
           {
            "marker": {
             "colorbar": {
              "outlinewidth": 0,
              "ticks": ""
             }
            },
            "type": "scatterpolar"
           }
          ],
          "scatterpolargl": [
           {
            "marker": {
             "colorbar": {
              "outlinewidth": 0,
              "ticks": ""
             }
            },
            "type": "scatterpolargl"
           }
          ],
          "scatterternary": [
           {
            "marker": {
             "colorbar": {
              "outlinewidth": 0,
              "ticks": ""
             }
            },
            "type": "scatterternary"
           }
          ],
          "surface": [
           {
            "colorbar": {
             "outlinewidth": 0,
             "ticks": ""
            },
            "colorscale": [
             [
              0,
              "#0d0887"
             ],
             [
              0.1111111111111111,
              "#46039f"
             ],
             [
              0.2222222222222222,
              "#7201a8"
             ],
             [
              0.3333333333333333,
              "#9c179e"
             ],
             [
              0.4444444444444444,
              "#bd3786"
             ],
             [
              0.5555555555555556,
              "#d8576b"
             ],
             [
              0.6666666666666666,
              "#ed7953"
             ],
             [
              0.7777777777777778,
              "#fb9f3a"
             ],
             [
              0.8888888888888888,
              "#fdca26"
             ],
             [
              1,
              "#f0f921"
             ]
            ],
            "type": "surface"
           }
          ],
          "table": [
           {
            "cells": {
             "fill": {
              "color": "#EBF0F8"
             },
             "line": {
              "color": "white"
             }
            },
            "header": {
             "fill": {
              "color": "#C8D4E3"
             },
             "line": {
              "color": "white"
             }
            },
            "type": "table"
           }
          ]
         },
         "layout": {
          "annotationdefaults": {
           "arrowcolor": "#2a3f5f",
           "arrowhead": 0,
           "arrowwidth": 1
          },
          "autotypenumbers": "strict",
          "coloraxis": {
           "colorbar": {
            "outlinewidth": 0,
            "ticks": ""
           }
          },
          "colorscale": {
           "diverging": [
            [
             0,
             "#8e0152"
            ],
            [
             0.1,
             "#c51b7d"
            ],
            [
             0.2,
             "#de77ae"
            ],
            [
             0.3,
             "#f1b6da"
            ],
            [
             0.4,
             "#fde0ef"
            ],
            [
             0.5,
             "#f7f7f7"
            ],
            [
             0.6,
             "#e6f5d0"
            ],
            [
             0.7,
             "#b8e186"
            ],
            [
             0.8,
             "#7fbc41"
            ],
            [
             0.9,
             "#4d9221"
            ],
            [
             1,
             "#276419"
            ]
           ],
           "sequential": [
            [
             0,
             "#0d0887"
            ],
            [
             0.1111111111111111,
             "#46039f"
            ],
            [
             0.2222222222222222,
             "#7201a8"
            ],
            [
             0.3333333333333333,
             "#9c179e"
            ],
            [
             0.4444444444444444,
             "#bd3786"
            ],
            [
             0.5555555555555556,
             "#d8576b"
            ],
            [
             0.6666666666666666,
             "#ed7953"
            ],
            [
             0.7777777777777778,
             "#fb9f3a"
            ],
            [
             0.8888888888888888,
             "#fdca26"
            ],
            [
             1,
             "#f0f921"
            ]
           ],
           "sequentialminus": [
            [
             0,
             "#0d0887"
            ],
            [
             0.1111111111111111,
             "#46039f"
            ],
            [
             0.2222222222222222,
             "#7201a8"
            ],
            [
             0.3333333333333333,
             "#9c179e"
            ],
            [
             0.4444444444444444,
             "#bd3786"
            ],
            [
             0.5555555555555556,
             "#d8576b"
            ],
            [
             0.6666666666666666,
             "#ed7953"
            ],
            [
             0.7777777777777778,
             "#fb9f3a"
            ],
            [
             0.8888888888888888,
             "#fdca26"
            ],
            [
             1,
             "#f0f921"
            ]
           ]
          },
          "colorway": [
           "#636efa",
           "#EF553B",
           "#00cc96",
           "#ab63fa",
           "#FFA15A",
           "#19d3f3",
           "#FF6692",
           "#B6E880",
           "#FF97FF",
           "#FECB52"
          ],
          "font": {
           "color": "#2a3f5f"
          },
          "geo": {
           "bgcolor": "white",
           "lakecolor": "white",
           "landcolor": "#E5ECF6",
           "showlakes": true,
           "showland": true,
           "subunitcolor": "white"
          },
          "hoverlabel": {
           "align": "left"
          },
          "hovermode": "closest",
          "mapbox": {
           "style": "light"
          },
          "paper_bgcolor": "white",
          "plot_bgcolor": "#E5ECF6",
          "polar": {
           "angularaxis": {
            "gridcolor": "white",
            "linecolor": "white",
            "ticks": ""
           },
           "bgcolor": "#E5ECF6",
           "radialaxis": {
            "gridcolor": "white",
            "linecolor": "white",
            "ticks": ""
           }
          },
          "scene": {
           "xaxis": {
            "backgroundcolor": "#E5ECF6",
            "gridcolor": "white",
            "gridwidth": 2,
            "linecolor": "white",
            "showbackground": true,
            "ticks": "",
            "zerolinecolor": "white"
           },
           "yaxis": {
            "backgroundcolor": "#E5ECF6",
            "gridcolor": "white",
            "gridwidth": 2,
            "linecolor": "white",
            "showbackground": true,
            "ticks": "",
            "zerolinecolor": "white"
           },
           "zaxis": {
            "backgroundcolor": "#E5ECF6",
            "gridcolor": "white",
            "gridwidth": 2,
            "linecolor": "white",
            "showbackground": true,
            "ticks": "",
            "zerolinecolor": "white"
           }
          },
          "shapedefaults": {
           "line": {
            "color": "#2a3f5f"
           }
          },
          "ternary": {
           "aaxis": {
            "gridcolor": "white",
            "linecolor": "white",
            "ticks": ""
           },
           "baxis": {
            "gridcolor": "white",
            "linecolor": "white",
            "ticks": ""
           },
           "bgcolor": "#E5ECF6",
           "caxis": {
            "gridcolor": "white",
            "linecolor": "white",
            "ticks": ""
           }
          },
          "title": {
           "x": 0.05
          },
          "xaxis": {
           "automargin": true,
           "gridcolor": "white",
           "linecolor": "white",
           "ticks": "",
           "title": {
            "standoff": 15
           },
           "zerolinecolor": "white",
           "zerolinewidth": 2
          },
          "yaxis": {
           "automargin": true,
           "gridcolor": "white",
           "linecolor": "white",
           "ticks": "",
           "title": {
            "standoff": 15
           },
           "zerolinecolor": "white",
           "zerolinewidth": 2
          }
         }
        },
        "title": {
         "text": "Iris Dataset Scatter Plot"
        },
        "xaxis": {
         "anchor": "y",
         "domain": [
          0,
          1
         ],
         "title": {
          "text": "sepal_width"
         }
        },
        "yaxis": {
         "anchor": "x",
         "domain": [
          0,
          1
         ],
         "title": {
          "text": "sepal_length"
         }
        }
       }
      },
      "image/png": "[encoded data removed]",
      "text/html": [
       "<div>                            <div id=\"a053f6d2-c860-4e87-a644-2b18cc16c88f\" class=\"plotly-graph-div\" style=\"height:525px; width:100%;\"></div>            <script type=\"text/javascript\">                require([\"plotly\"], function(Plotly) {                    window.PLOTLYENV=window.PLOTLYENV || {};                                    if (document.getElementById(\"a053f6d2-c860-4e87-a644-2b18cc16c88f\")) {                    Plotly.newPlot(                        \"a053f6d2-c860-4e87-a644-2b18cc16c88f\",                        [{\"customdata\":[[0.2],[0.2],[0.2],[0.2],[0.2],[0.4],[0.3],[0.2],[0.2],[0.1],[0.2],[0.2],[0.1],[0.1],[0.2],[0.4],[0.4],[0.3],[0.3],[0.3],[0.2],[0.4],[0.2],[0.5],[0.2],[0.2],[0.4],[0.2],[0.2],[0.2],[0.2],[0.4],[0.1],[0.2],[0.1],[0.2],[0.2],[0.1],[0.2],[0.2],[0.3],[0.3],[0.2],[0.6],[0.4],[0.3],[0.2],[0.2],[0.2],[0.2]],\"hovertemplate\":\"species=setosa\\u003cbr\\u003esepal_width=%{x}\\u003cbr\\u003esepal_length=%{y}\\u003cbr\\u003epetal_length=%{marker.size}\\u003cbr\\u003epetal_width=%{customdata[0]}\\u003cextra\\u003e\\u003c\\u002fextra\\u003e\",\"legendgroup\":\"setosa\",\"marker\":{\"color\":\"#636efa\",\"size\":[1.4,1.4,1.3,1.5,1.4,1.7,1.4,1.5,1.4,1.5,1.5,1.6,1.4,1.1,1.2,1.5,1.3,1.4,1.7,1.5,1.7,1.5,1.0,1.7,1.9,1.6,1.6,1.5,1.4,1.6,1.6,1.5,1.5,1.4,1.5,1.2,1.3,1.5,1.3,1.5,1.3,1.3,1.3,1.6,1.9,1.4,1.6,1.4,1.5,1.4],\"sizemode\":\"area\",\"sizeref\":0.01725,\"symbol\":\"circle\"},\"mode\":\"markers\",\"name\":\"setosa\",\"orientation\":\"v\",\"showlegend\":true,\"x\":[3.5,3.0,3.2,3.1,3.6,3.9,3.4,3.4,2.9,3.1,3.7,3.4,3.0,3.0,4.0,4.4,3.9,3.5,3.8,3.8,3.4,3.7,3.6,3.3,3.4,3.0,3.4,3.5,3.4,3.2,3.1,3.4,4.1,4.2,3.1,3.2,3.5,3.1,3.0,3.4,3.5,2.3,3.2,3.5,3.8,3.0,3.8,3.2,3.7,3.3],\"xaxis\":\"x\",\"y\":[5.1,4.9,4.7,4.6,5.0,5.4,4.6,5.0,4.4,4.9,5.4,4.8,4.8,4.3,5.8,5.7,5.4,5.1,5.7,5.1,5.4,5.1,4.6,5.1,4.8,5.0,5.0,5.2,5.2,4.7,4.8,5.4,5.2,5.5,4.9,5.0,5.5,4.9,4.4,5.1,5.0,4.5,4.4,5.0,5.1,4.8,5.1,4.6,5.3,5.0],\"yaxis\":\"y\",\"type\":\"scatter\"},{\"customdata\":[[1.4],[1.5],[1.5],[1.3],[1.5],[1.3],[1.6],[1.0],[1.3],[1.4],[1.0],[1.5],[1.0],[1.4],[1.3],[1.4],[1.5],[1.0],[1.5],[1.1],[1.8],[1.3],[1.5],[1.2],[1.3],[1.4],[1.4],[1.7],[1.5],[1.0],[1.1],[1.0],[1.2],[1.6],[1.5],[1.6],[1.5],[1.3],[1.3],[1.3],[1.2],[1.4],[1.2],[1.0],[1.3],[1.2],[1.3],[1.3],[1.1],[1.3]],\"hovertemplate\":\"species=versicolor\\u003cbr\\u003esepal_width=%{x}\\u003cbr\\u003esepal_length=%{y}\\u003cbr\\u003epetal_length=%{marker.size}\\u003cbr\\u003epetal_width=%{customdata[0]}\\u003cextra\\u003e\\u003c\\u002fextra\\u003e\",\"legendgroup\":\"versicolor\",\"marker\":{\"color\":\"#EF553B\",\"size\":[4.7,4.5,4.9,4.0,4.6,4.5,4.7,3.3,4.6,3.9,3.5,4.2,4.0,4.7,3.6,4.4,4.5,4.1,4.5,3.9,4.8,4.0,4.9,4.7,4.3,4.4,4.8,5.0,4.5,3.5,3.8,3.7,3.9,5.1,4.5,4.5,4.7,4.4,4.1,4.0,4.4,4.6,4.0,3.3,4.2,4.2,4.2,4.3,3.0,4.1],\"sizemode\":\"area\",\"sizeref\":0.01725,\"symbol\":\"circle\"},\"mode\":\"markers\",\"name\":\"versicolor\",\"orientation\":\"v\",\"showlegend\":true,\"x\":[3.2,3.2,3.1,2.3,2.8,2.8,3.3,2.4,2.9,2.7,2.0,3.0,2.2,2.9,2.9,3.1,3.0,2.7,2.2,2.5,3.2,2.8,2.5,2.8,2.9,3.0,2.8,3.0,2.9,2.6,2.4,2.4,2.7,2.7,3.0,3.4,3.1,2.3,3.0,2.5,2.6,3.0,2.6,2.3,2.7,3.0,2.9,2.9,2.5,2.8],\"xaxis\":\"x\",\"y\":[7.0,6.4,6.9,5.5,6.5,5.7,6.3,4.9,6.6,5.2,5.0,5.9,6.0,6.1,5.6,6.7,5.6,5.8,6.2,5.6,5.9,6.1,6.3,6.1,6.4,6.6,6.8,6.7,6.0,5.7,5.5,5.5,5.8,6.0,5.4,6.0,6.7,6.3,5.6,5.5,5.5,6.1,5.8,5.0,5.6,5.7,5.7,6.2,5.1,5.7],\"yaxis\":\"y\",\"type\":\"scatter\"},{\"customdata\":[[2.5],[1.9],[2.1],[1.8],[2.2],[2.1],[1.7],[1.8],[1.8],[2.5],[2.0],[1.9],[2.1],[2.0],[2.4],[2.3],[1.8],[2.2],[2.3],[1.5],[2.3],[2.0],[2.0],[1.8],[2.1],[1.8],[1.8],[1.8],[2.1],[1.6],[1.9],[2.0],[2.2],[1.5],[1.4],[2.3],[2.4],[1.8],[1.8],[2.1],[2.4],[2.3],[1.9],[2.3],[2.5],[2.3],[1.9],[2.0],[2.3],[1.8]],\"hovertemplate\":\"species=virginica\\u003cbr\\u003esepal_width=%{x}\\u003cbr\\u003esepal_length=%{y}\\u003cbr\\u003epetal_length=%{marker.size}\\u003cbr\\u003epetal_width=%{customdata[0]}\\u003cextra\\u003e\\u003c\\u002fextra\\u003e\",\"legendgroup\":\"virginica\",\"marker\":{\"color\":\"#00cc96\",\"size\":[6.0,5.1,5.9,5.6,5.8,6.6,4.5,6.3,5.8,6.1,5.1,5.3,5.5,5.0,5.1,5.3,5.5,6.7,6.9,5.0,5.7,4.9,6.7,4.9,5.7,6.0,4.8,4.9,5.6,5.8,6.1,6.4,5.6,5.1,5.6,6.1,5.6,5.5,4.8,5.4,5.6,5.1,5.1,5.9,5.7,5.2,5.0,5.2,5.4,5.1],\"sizemode\":\"area\",\"sizeref\":0.01725,\"symbol\":\"circle\"},\"mode\":\"markers\",\"name\":\"virginica\",\"orientation\":\"v\",\"showlegend\":true,\"x\":[3.3,2.7,3.0,2.9,3.0,3.0,2.5,2.9,2.5,3.6,3.2,2.7,3.0,2.5,2.8,3.2,3.0,3.8,2.6,2.2,3.2,2.8,2.8,2.7,3.3,3.2,2.8,3.0,2.8,3.0,2.8,3.8,2.8,2.8,2.6,3.0,3.4,3.1,3.0,3.1,3.1,3.1,2.7,3.2,3.3,3.0,2.5,3.0,3.4,3.0],\"xaxis\":\"x\",\"y\":[6.3,5.8,7.1,6.3,6.5,7.6,4.9,7.3,6.7,7.2,6.5,6.4,6.8,5.7,5.8,6.4,6.5,7.7,7.7,6.0,6.9,5.6,7.7,6.3,6.7,7.2,6.2,6.1,6.4,7.2,7.4,7.9,6.4,6.3,6.1,7.7,6.3,6.4,6.0,6.9,6.7,6.9,5.8,6.8,6.7,6.7,6.3,6.5,6.2,5.9],\"yaxis\":\"y\",\"type\":\"scatter\"}],                        {\"template\":{\"data\":{\"histogram2dcontour\":[{\"type\":\"histogram2dcontour\",\"colorbar\":{\"outlinewidth\":0,\"ticks\":\"\"},\"colorscale\":[[0.0,\"#0d0887\"],[0.1111111111111111,\"#46039f\"],[0.2222222222222222,\"#7201a8\"],[0.3333333333333333,\"#9c179e\"],[0.4444444444444444,\"#bd3786\"],[0.5555555555555556,\"#d8576b\"],[0.6666666666666666,\"#ed7953\"],[0.7777777777777778,\"#fb9f3a\"],[0.8888888888888888,\"#fdca26\"],[1.0,\"#f0f921\"]]}],\"choropleth\":[{\"type\":\"choropleth\",\"colorbar\":{\"outlinewidth\":0,\"ticks\":\"\"}}],\"histogram2d\":[{\"type\":\"histogram2d\",\"colorbar\":{\"outlinewidth\":0,\"ticks\":\"\"},\"colorscale\":[[0.0,\"#0d0887\"],[0.1111111111111111,\"#46039f\"],[0.2222222222222222,\"#7201a8\"],[0.3333333333333333,\"#9c179e\"],[0.4444444444444444,\"#bd3786\"],[0.5555555555555556,\"#d8576b\"],[0.6666666666666666,\"#ed7953\"],[0.7777777777777778,\"#fb9f3a\"],[0.8888888888888888,\"#fdca26\"],[1.0,\"#f0f921\"]]}],\"heatmap\":[{\"type\":\"heatmap\",\"colorbar\":{\"outlinewidth\":0,\"ticks\":\"\"},\"colorscale\":[[0.0,\"#0d0887\"],[0.1111111111111111,\"#46039f\"],[0.2222222222222222,\"#7201a8\"],[0.3333333333333333,\"#9c179e\"],[0.4444444444444444,\"#bd3786\"],[0.5555555555555556,\"#d8576b\"],[0.6666666666666666,\"#ed7953\"],[0.7777777777777778,\"#fb9f3a\"],[0.8888888888888888,\"#fdca26\"],[1.0,\"#f0f921\"]]}],\"heatmapgl\":[{\"type\":\"heatmapgl\",\"colorbar\":{\"outlinewidth\":0,\"ticks\":\"\"},\"colorscale\":[[0.0,\"#0d0887\"],[0.1111111111111111,\"#46039f\"],[0.2222222222222222,\"#7201a8\"],[0.3333333333333333,\"#9c179e\"],[0.4444444444444444,\"#bd3786\"],[0.5555555555555556,\"#d8576b\"],[0.6666666666666666,\"#ed7953\"],[0.7777777777777778,\"#fb9f3a\"],[0.8888888888888888,\"#fdca26\"],[1.0,\"#f0f921\"]]}],\"contourcarpet\":[{\"type\":\"contourcarpet\",\"colorbar\":{\"outlinewidth\":0,\"ticks\":\"\"}}],\"contour\":[{\"type\":\"contour\",\"colorbar\":{\"outlinewidth\":0,\"ticks\":\"\"},\"colorscale\":[[0.0,\"#0d0887\"],[0.1111111111111111,\"#46039f\"],[0.2222222222222222,\"#7201a8\"],[0.3333333333333333,\"#9c179e\"],[0.4444444444444444,\"#bd3786\"],[0.5555555555555556,\"#d8576b\"],[0.6666666666666666,\"#ed7953\"],[0.7777777777777778,\"#fb9f3a\"],[0.8888888888888888,\"#fdca26\"],[1.0,\"#f0f921\"]]}],\"surface\":[{\"type\":\"surface\",\"colorbar\":{\"outlinewidth\":0,\"ticks\":\"\"},\"colorscale\":[[0.0,\"#0d0887\"],[0.1111111111111111,\"#46039f\"],[0.2222222222222222,\"#7201a8\"],[0.3333333333333333,\"#9c179e\"],[0.4444444444444444,\"#bd3786\"],[0.5555555555555556,\"#d8576b\"],[0.6666666666666666,\"#ed7953\"],[0.7777777777777778,\"#fb9f3a\"],[0.8888888888888888,\"#fdca26\"],[1.0,\"#f0f921\"]]}],\"mesh3d\":[{\"type\":\"mesh3d\",\"colorbar\":{\"outlinewidth\":0,\"ticks\":\"\"}}],\"scatter\":[{\"fillpattern\":{\"fillmode\":\"overlay\",\"size\":10,\"solidity\":0.2},\"type\":\"scatter\"}],\"parcoords\":[{\"type\":\"parcoords\",\"line\":{\"colorbar\":{\"outlinewidth\":0,\"ticks\":\"\"}}}],\"scatterpolargl\":[{\"type\":\"scatterpolargl\",\"marker\":{\"colorbar\":{\"outlinewidth\":0,\"ticks\":\"\"}}}],\"bar\":[{\"error_x\":{\"color\":\"#2a3f5f\"},\"error_y\":{\"color\":\"#2a3f5f\"},\"marker\":{\"line\":{\"color\":\"#E5ECF6\",\"width\":0.5},\"pattern\":{\"fillmode\":\"overlay\",\"size\":10,\"solidity\":0.2}},\"type\":\"bar\"}],\"scattergeo\":[{\"type\":\"scattergeo\",\"marker\":{\"colorbar\":{\"outlinewidth\":0,\"ticks\":\"\"}}}],\"scatterpolar\":[{\"type\":\"scatterpolar\",\"marker\":{\"colorbar\":{\"outlinewidth\":0,\"ticks\":\"\"}}}],\"histogram\":[{\"marker\":{\"pattern\":{\"fillmode\":\"overlay\",\"size\":10,\"solidity\":0.2}},\"type\":\"histogram\"}],\"scattergl\":[{\"type\":\"scattergl\",\"marker\":{\"colorbar\":{\"outlinewidth\":0,\"ticks\":\"\"}}}],\"scatter3d\":[{\"type\":\"scatter3d\",\"line\":{\"colorbar\":{\"outlinewidth\":0,\"ticks\":\"\"}},\"marker\":{\"colorbar\":{\"outlinewidth\":0,\"ticks\":\"\"}}}],\"scattermapbox\":[{\"type\":\"scattermapbox\",\"marker\":{\"colorbar\":{\"outlinewidth\":0,\"ticks\":\"\"}}}],\"scatterternary\":[{\"type\":\"scatterternary\",\"marker\":{\"colorbar\":{\"outlinewidth\":0,\"ticks\":\"\"}}}],\"scattercarpet\":[{\"type\":\"scattercarpet\",\"marker\":{\"colorbar\":{\"outlinewidth\":0,\"ticks\":\"\"}}}],\"carpet\":[{\"aaxis\":{\"endlinecolor\":\"#2a3f5f\",\"gridcolor\":\"white\",\"linecolor\":\"white\",\"minorgridcolor\":\"white\",\"startlinecolor\":\"#2a3f5f\"},\"baxis\":{\"endlinecolor\":\"#2a3f5f\",\"gridcolor\":\"white\",\"linecolor\":\"white\",\"minorgridcolor\":\"white\",\"startlinecolor\":\"#2a3f5f\"},\"type\":\"carpet\"}],\"table\":[{\"cells\":{\"fill\":{\"color\":\"#EBF0F8\"},\"line\":{\"color\":\"white\"}},\"header\":{\"fill\":{\"color\":\"#C8D4E3\"},\"line\":{\"color\":\"white\"}},\"type\":\"table\"}],\"barpolar\":[{\"marker\":{\"line\":{\"color\":\"#E5ECF6\",\"width\":0.5},\"pattern\":{\"fillmode\":\"overlay\",\"size\":10,\"solidity\":0.2}},\"type\":\"barpolar\"}],\"pie\":[{\"automargin\":true,\"type\":\"pie\"}]},\"layout\":{\"autotypenumbers\":\"strict\",\"colorway\":[\"#636efa\",\"#EF553B\",\"#00cc96\",\"#ab63fa\",\"#FFA15A\",\"#19d3f3\",\"#FF6692\",\"#B6E880\",\"#FF97FF\",\"#FECB52\"],\"font\":{\"color\":\"#2a3f5f\"},\"hovermode\":\"closest\",\"hoverlabel\":{\"align\":\"left\"},\"paper_bgcolor\":\"white\",\"plot_bgcolor\":\"#E5ECF6\",\"polar\":{\"bgcolor\":\"#E5ECF6\",\"angularaxis\":{\"gridcolor\":\"white\",\"linecolor\":\"white\",\"ticks\":\"\"},\"radialaxis\":{\"gridcolor\":\"white\",\"linecolor\":\"white\",\"ticks\":\"\"}},\"ternary\":{\"bgcolor\":\"#E5ECF6\",\"aaxis\":{\"gridcolor\":\"white\",\"linecolor\":\"white\",\"ticks\":\"\"},\"baxis\":{\"gridcolor\":\"white\",\"linecolor\":\"white\",\"ticks\":\"\"},\"caxis\":{\"gridcolor\":\"white\",\"linecolor\":\"white\",\"ticks\":\"\"}},\"coloraxis\":{\"colorbar\":{\"outlinewidth\":0,\"ticks\":\"\"}},\"colorscale\":{\"sequential\":[[0.0,\"#0d0887\"],[0.1111111111111111,\"#46039f\"],[0.2222222222222222,\"#7201a8\"],[0.3333333333333333,\"#9c179e\"],[0.4444444444444444,\"#bd3786\"],[0.5555555555555556,\"#d8576b\"],[0.6666666666666666,\"#ed7953\"],[0.7777777777777778,\"#fb9f3a\"],[0.8888888888888888,\"#fdca26\"],[1.0,\"#f0f921\"]],\"sequentialminus\":[[0.0,\"#0d0887\"],[0.1111111111111111,\"#46039f\"],[0.2222222222222222,\"#7201a8\"],[0.3333333333333333,\"#9c179e\"],[0.4444444444444444,\"#bd3786\"],[0.5555555555555556,\"#d8576b\"],[0.6666666666666666,\"#ed7953\"],[0.7777777777777778,\"#fb9f3a\"],[0.8888888888888888,\"#fdca26\"],[1.0,\"#f0f921\"]],\"diverging\":[[0,\"#8e0152\"],[0.1,\"#c51b7d\"],[0.2,\"#de77ae\"],[0.3,\"#f1b6da\"],[0.4,\"#fde0ef\"],[0.5,\"#f7f7f7\"],[0.6,\"#e6f5d0\"],[0.7,\"#b8e186\"],[0.8,\"#7fbc41\"],[0.9,\"#4d9221\"],[1,\"#276419\"]]},\"xaxis\":{\"gridcolor\":\"white\",\"linecolor\":\"white\",\"ticks\":\"\",\"title\":{\"standoff\":15},\"zerolinecolor\":\"white\",\"automargin\":true,\"zerolinewidth\":2},\"yaxis\":{\"gridcolor\":\"white\",\"linecolor\":\"white\",\"ticks\":\"\",\"title\":{\"standoff\":15},\"zerolinecolor\":\"white\",\"automargin\":true,\"zerolinewidth\":2},\"scene\":{\"xaxis\":{\"backgroundcolor\":\"#E5ECF6\",\"gridcolor\":\"white\",\"linecolor\":\"white\",\"showbackground\":true,\"ticks\":\"\",\"zerolinecolor\":\"white\",\"gridwidth\":2},\"yaxis\":{\"backgroundcolor\":\"#E5ECF6\",\"gridcolor\":\"white\",\"linecolor\":\"white\",\"showbackground\":true,\"ticks\":\"\",\"zerolinecolor\":\"white\",\"gridwidth\":2},\"zaxis\":{\"backgroundcolor\":\"#E5ECF6\",\"gridcolor\":\"white\",\"linecolor\":\"white\",\"showbackground\":true,\"ticks\":\"\",\"zerolinecolor\":\"white\",\"gridwidth\":2}},\"shapedefaults\":{\"line\":{\"color\":\"#2a3f5f\"}},\"annotationdefaults\":{\"arrowcolor\":\"#2a3f5f\",\"arrowhead\":0,\"arrowwidth\":1},\"geo\":{\"bgcolor\":\"white\",\"landcolor\":\"#E5ECF6\",\"subunitcolor\":\"white\",\"showland\":true,\"showlakes\":true,\"lakecolor\":\"white\"},\"title\":{\"x\":0.05},\"mapbox\":{\"style\":\"light\"}}},\"xaxis\":{\"anchor\":\"y\",\"domain\":[0.0,1.0],\"title\":{\"text\":\"sepal_width\"}},\"yaxis\":{\"anchor\":\"x\",\"domain\":[0.0,1.0],\"title\":{\"text\":\"sepal_length\"}},\"legend\":{\"title\":{\"text\":\"species\"},\"tracegroupgap\":0,\"itemsizing\":\"constant\"},\"title\":{\"text\":\"Iris Dataset Scatter Plot\"}},                        {\"responsive\": true}                    ).then(function(){\n",
       "                            \n",
       "var gd = document.getElementById('a053f6d2-c860-4e87-a644-2b18cc16c88f');\n",
       "var x = new MutationObserver(function (mutations, observer) {{\n",
       "        var display = window.getComputedStyle(gd).display;\n",
       "        if (!display || display === 'none') {{\n",
       "            console.log([gd, 'removed!']);\n",
       "            Plotly.purge(gd);\n",
       "            observer.disconnect();\n",
       "        }}\n",
       "}});\n",
       "\n",
       "// Listen for the removal of the full notebook cells\n",
       "var notebookContainer = gd.closest('#notebook-container');\n",
       "if (notebookContainer) {{\n",
       "    x.observe(notebookContainer, {childList: true});\n",
       "}}\n",
       "\n",
       "// Listen for the clearing of the current output cell\n",
       "var outputEl = gd.closest('.output');\n",
       "if (outputEl) {{\n",
       "    x.observe(outputEl, {childList: true});\n",
       "}}\n",
       "\n",
       "                        })                };                });            </script>        </div>"
      ]
     },
     "metadata": {},
     "output_type": "display_data"
    }
   ],
   "source": [
    "# Put your code here  \n",
    "# fig=px.scatter(my_plotly_data)\n",
    "import plotly.express as px\n",
    "\n",
    "# Load a Plotly dataset (e.g., iris dataset)\n",
    "df = px.data.iris()\n",
    "\n",
    "# Create scatter plot\n",
    "fig = px.scatter(df, x=\"sepal_width\", y=\"sepal_length\", color=\"species\",\n",
    "                 size=\"petal_length\", hover_data=[\"petal_width\"],\n",
    "                 title=\"Iris Dataset Scatter Plot\")\n",
    "\n",
    "# Show plot\n",
    "fig.show()\n",
    "\n",
    "\n",
    "#CHATGPT \n",
    "# how to create a scatter plot from a plotly dataset\n",
    "#i ddjusted the variables to align with my selected dataset\n"
   ]
  },
  {
   "cell_type": "markdown",
   "id": "30af3464",
   "metadata": {},
   "source": [
    "#### &#9989; **Question 2.4 (2 points)**: How does your plot look? If you had more time to clean up this visualization, what changes would you make to it?"
   ]
  },
  {
   "cell_type": "markdown",
   "id": "4c3a05af",
   "metadata": {},
   "source": [
    "**I would try and visualize one species at a time **"
   ]
  },
  {
   "cell_type": "markdown",
   "id": "da4fb42d",
   "metadata": {},
   "source": [
    "---\n",
    "### &#128721; STOP\n",
    "**Pause to commit your changes to your Git repository! (1 point)**\n",
    "\n",
    "Take a moment to save your notebook, commit the changes to your Git repository using the commit message \"**Committing Part 2**\", and push the changes to GitHub."
   ]
  },
  {
   "cell_type": "code",
   "execution_count": 52,
   "id": "f87989d7-99da-4c75-9806-9ca7330ead03",
   "metadata": {},
   "outputs": [
    {
     "name": "stdout",
     "output_type": "stream",
     "text": [
      "On branch master\n",
      "\n",
      "Initial commit\n",
      "\n",
      "Untracked files:\n",
      "  (use \"git add <file>...\" to include in what will be committed)\n",
      "\t\u001b[31m.bash_history\u001b[m\n",
      "\t\u001b[31m.bash_profile\u001b[m\n",
      "\t\u001b[31m.bashrc\u001b[m\n",
      "\t\u001b[31m.cache/\u001b[m\n",
      "\t\u001b[31m.cshrc\u001b[m\n",
      "\t\u001b[31m.ipynb_checkpoints/\u001b[m\n",
      "\t\u001b[31m.ipython/\u001b[m\n",
      "\t\u001b[31m.jupyter/\u001b[m\n",
      "\t\u001b[31m.local/\u001b[m\n",
      "\t\u001b[31m.login\u001b[m\n",
      "\t\u001b[31m.logout\u001b[m\n",
      "\t\u001b[31m.wget-hsts\u001b[m\n",
      "\t\u001b[31mCMSE202-Midterm-Section002-STUDENT.ipynb\u001b[m\n",
      "\t\u001b[31mCMSE202/\u001b[m\n",
      "\t\u001b[31mUntitled.ipynb\u001b[m\n",
      "\t\u001b[31mhandy functions.ipynb\u001b[m\n",
      "\t\u001b[31mnew_repo/\u001b[m\n",
      "\t\u001b[31mscience-journal-demo\u001b[m\n",
      "\n",
      "nothing added to commit but untracked files present (use \"git add\" to track)\n"
     ]
    }
   ],
   "source": [
    "!git commit -m\"Committing Part 2\""
   ]
  },
  {
   "cell_type": "markdown",
   "id": "c5db3757",
   "metadata": {},
   "source": [
    "----\n",
    "----\n",
    "\n",
    "<a id=\"part-3-downloading-and-analyzing-unfamiliar-data-24-points\"></a>\n",
    "\n",
    "# Part 3: Downloading and Analyzing unfamiliar data (24 points)\n",
    "\n",
    "[Back to Table of Contents](#Table-of-Contents)\n",
    "\n",
    "For this part of the exam, you're to download and analyze a dataset that you've likely not looked at before. You'll perform some simple, exploratorary analysis and create basic visualizations.\n",
    "\n",
    "In particular, you're going to be working with a dataset that contains data on 100 different animes.\n",
    "\n",
    "There are 9 columns; here we will be concerned with those described in the table below.\n",
    "\n",
    "| Column      | Description                                                                           |\n",
    "|-------------|---------------------------------------------------------------------------------------|\n",
    "|  Anime name       | The title of the anime series or movie that is the most watched in a given country.   |\n",
    "|Most watched in country|The country where the specified anime has the highest viewership or popularity.  |\n",
    "| Ratings    | The average viewer rating for the anime, typically on a scale of 1 to 10                |\n",
    "| Number of episodes     | The total number of episodes produced for the anime series.                       |\n",
    "| Studio name      | The name of the production studio responsible for creating the anime               |\n",
    "| Budget | The estimated production budget for the anime, expressed in millions of U.S. dollars.    |\n",
    "| Release year | The year the anime was first released or aired.                                    |\n",
    "| Genre      | The genre or category of the anime                                                |\n",
    "| Duration per episode| The average duration of each episode in minutes for the anime series.             |\n",
    "\n",
    "The link to the full dataset is [here](https://www.kaggle.com/datasets/samikshadalvi/100-most-watched-anime-in-the-world/data)\n",
    "\n"
   ]
  },
  {
   "cell_type": "markdown",
   "id": "7b7bf6af",
   "metadata": {},
   "source": [
    "&#9989; **Question 3.1.1 (1 point)**: To get started, use the curl command to download the data set using this link (https://raw.githubusercontent.com/gambre11/CMSE202/refs/heads/main/most_watched_anime_dataset_100_entries.csv) "
   ]
  },
  {
   "cell_type": "code",
   "execution_count": 54,
   "id": "5c22a4c2",
   "metadata": {},
   "outputs": [],
   "source": [
    "# Put your code here\n",
    "#!curl https://raw.githubusercontent.com/gambre11/CMSE202/refs/heads/main/most_watched_anime_dataset_100_entries.csv"
   ]
  },
  {
   "cell_type": "markdown",
   "id": "de98c0c0",
   "metadata": {},
   "source": [
    "&#9989; **Question 3.1.2 (2 points)**: Now **read in the dataset** and then display the first 20 rows of the data using **Pandas**."
   ]
  },
  {
   "cell_type": "code",
   "execution_count": 57,
   "id": "a70d19d8",
   "metadata": {
    "question_id": "P2Q3",
    "tags": [
     "student_answer"
    ]
   },
   "outputs": [
    {
     "name": "stdout",
     "output_type": "stream",
     "text": [
      "  % Total    % Received % Xferd  Average Speed   Time    Time     Time  Current\n",
      "                                 Dload  Upload   Total   Spent    Left  Speed\n",
      "100  6519  100  6519    0     0  98930      0 --:--:-- --:--:-- --:--:--   97k\n"
     ]
    }
   ],
   "source": [
    "# Put your code here\n",
    "!curl -O https://raw.githubusercontent.com/gambre11/CMSE202/refs/heads/main/most_watched_anime_dataset_100_entries.csv"
   ]
  },
  {
   "cell_type": "code",
   "execution_count": 102,
   "id": "3b23be34-9093-498d-b6b5-f87a574a8982",
   "metadata": {},
   "outputs": [
    {
     "data": {
      "text/html": [
       "<div>\n",
       "<style scoped>\n",
       "    .dataframe tbody tr th:only-of-type {\n",
       "        vertical-align: middle;\n",
       "    }\n",
       "\n",
       "    .dataframe tbody tr th {\n",
       "        vertical-align: top;\n",
       "    }\n",
       "\n",
       "    .dataframe thead th {\n",
       "        text-align: right;\n",
       "    }\n",
       "</style>\n",
       "<table border=\"1\" class=\"dataframe\">\n",
       "  <thead>\n",
       "    <tr style=\"text-align: right;\">\n",
       "      <th></th>\n",
       "      <th>Anime Name</th>\n",
       "      <th>Most Watched in Country</th>\n",
       "      <th>Ratings</th>\n",
       "      <th>Number of Episodes</th>\n",
       "      <th>Animation Studio Name</th>\n",
       "      <th>Budget (in Million USD)</th>\n",
       "      <th>Release Year</th>\n",
       "      <th>Genre</th>\n",
       "      <th>Duration per Episode (minutes)</th>\n",
       "    </tr>\n",
       "  </thead>\n",
       "  <tbody>\n",
       "    <tr>\n",
       "      <th>0</th>\n",
       "      <td>Fullmetal Alchemist</td>\n",
       "      <td>Brazil</td>\n",
       "      <td>8.8</td>\n",
       "      <td>317.0</td>\n",
       "      <td>Ufotable</td>\n",
       "      <td>80.61</td>\n",
       "      <td>1998.0</td>\n",
       "      <td>Fantasy</td>\n",
       "      <td>NaN</td>\n",
       "    </tr>\n",
       "    <tr>\n",
       "      <th>1</th>\n",
       "      <td>Haikyuu!!</td>\n",
       "      <td>Mexico</td>\n",
       "      <td>9.2</td>\n",
       "      <td>420.0</td>\n",
       "      <td>MAPPA</td>\n",
       "      <td>74.99</td>\n",
       "      <td>2022.0</td>\n",
       "      <td>Adventure</td>\n",
       "      <td>59.0</td>\n",
       "    </tr>\n",
       "    <tr>\n",
       "      <th>2</th>\n",
       "      <td>NaN</td>\n",
       "      <td>South Korea</td>\n",
       "      <td>7.4</td>\n",
       "      <td>419.0</td>\n",
       "      <td>A-1 Pictures</td>\n",
       "      <td>59.05</td>\n",
       "      <td>2009.0</td>\n",
       "      <td>Mystery</td>\n",
       "      <td>56.0</td>\n",
       "    </tr>\n",
       "    <tr>\n",
       "      <th>3</th>\n",
       "      <td>Bleach</td>\n",
       "      <td>Brazil</td>\n",
       "      <td>6.4</td>\n",
       "      <td>NaN</td>\n",
       "      <td>Ufotable</td>\n",
       "      <td>45.35</td>\n",
       "      <td>2002.0</td>\n",
       "      <td>Fantasy</td>\n",
       "      <td>55.0</td>\n",
       "    </tr>\n",
       "    <tr>\n",
       "      <th>4</th>\n",
       "      <td>Sword Art Online</td>\n",
       "      <td>NaN</td>\n",
       "      <td>9.8</td>\n",
       "      <td>327.0</td>\n",
       "      <td>Madhouse</td>\n",
       "      <td>15.90</td>\n",
       "      <td>2017.0</td>\n",
       "      <td>NaN</td>\n",
       "      <td>43.0</td>\n",
       "    </tr>\n",
       "    <tr>\n",
       "      <th>5</th>\n",
       "      <td>Fullmetal Alchemist</td>\n",
       "      <td>Brazil</td>\n",
       "      <td>NaN</td>\n",
       "      <td>402.0</td>\n",
       "      <td>NaN</td>\n",
       "      <td>8.97</td>\n",
       "      <td>2018.0</td>\n",
       "      <td>NaN</td>\n",
       "      <td>50.0</td>\n",
       "    </tr>\n",
       "    <tr>\n",
       "      <th>6</th>\n",
       "      <td>Black Clover</td>\n",
       "      <td>France</td>\n",
       "      <td>8.1</td>\n",
       "      <td>NaN</td>\n",
       "      <td>Madhouse</td>\n",
       "      <td>NaN</td>\n",
       "      <td>2002.0</td>\n",
       "      <td>NaN</td>\n",
       "      <td>25.0</td>\n",
       "    </tr>\n",
       "    <tr>\n",
       "      <th>7</th>\n",
       "      <td>Bleach</td>\n",
       "      <td>China</td>\n",
       "      <td>9.4</td>\n",
       "      <td>47.0</td>\n",
       "      <td>MAPPA</td>\n",
       "      <td>127.22</td>\n",
       "      <td>1995.0</td>\n",
       "      <td>Adventure</td>\n",
       "      <td>21.0</td>\n",
       "    </tr>\n",
       "    <tr>\n",
       "      <th>8</th>\n",
       "      <td>NaN</td>\n",
       "      <td>Spain</td>\n",
       "      <td>8.7</td>\n",
       "      <td>184.0</td>\n",
       "      <td>A-1 Pictures</td>\n",
       "      <td>53.88</td>\n",
       "      <td>2007.0</td>\n",
       "      <td>Mystery</td>\n",
       "      <td>39.0</td>\n",
       "    </tr>\n",
       "    <tr>\n",
       "      <th>9</th>\n",
       "      <td>Demon Slayer</td>\n",
       "      <td>NaN</td>\n",
       "      <td>8.9</td>\n",
       "      <td>31.0</td>\n",
       "      <td>Pierrot</td>\n",
       "      <td>NaN</td>\n",
       "      <td>1994.0</td>\n",
       "      <td>Supernatural</td>\n",
       "      <td>47.0</td>\n",
       "    </tr>\n",
       "    <tr>\n",
       "      <th>10</th>\n",
       "      <td>Sword Art Online</td>\n",
       "      <td>NaN</td>\n",
       "      <td>6.8</td>\n",
       "      <td>332.0</td>\n",
       "      <td>NaN</td>\n",
       "      <td>101.84</td>\n",
       "      <td>2014.0</td>\n",
       "      <td>Comedy</td>\n",
       "      <td>NaN</td>\n",
       "    </tr>\n",
       "    <tr>\n",
       "      <th>11</th>\n",
       "      <td>One Piece</td>\n",
       "      <td>NaN</td>\n",
       "      <td>8.2</td>\n",
       "      <td>275.0</td>\n",
       "      <td>NaN</td>\n",
       "      <td>72.90</td>\n",
       "      <td>1991.0</td>\n",
       "      <td>Supernatural</td>\n",
       "      <td>23.0</td>\n",
       "    </tr>\n",
       "    <tr>\n",
       "      <th>12</th>\n",
       "      <td>Attack on Titan</td>\n",
       "      <td>Spain</td>\n",
       "      <td>8.8</td>\n",
       "      <td>NaN</td>\n",
       "      <td>Bones</td>\n",
       "      <td>74.46</td>\n",
       "      <td>1999.0</td>\n",
       "      <td>Action</td>\n",
       "      <td>34.0</td>\n",
       "    </tr>\n",
       "    <tr>\n",
       "      <th>13</th>\n",
       "      <td>Tokyo Ghoul</td>\n",
       "      <td>United Kingdom</td>\n",
       "      <td>6.9</td>\n",
       "      <td>153.0</td>\n",
       "      <td>MAPPA</td>\n",
       "      <td>13.41</td>\n",
       "      <td>2019.0</td>\n",
       "      <td>Comedy</td>\n",
       "      <td>25.0</td>\n",
       "    </tr>\n",
       "    <tr>\n",
       "      <th>14</th>\n",
       "      <td>Dragon Ball Z</td>\n",
       "      <td>Canada</td>\n",
       "      <td>NaN</td>\n",
       "      <td>471.0</td>\n",
       "      <td>Trigger</td>\n",
       "      <td>14.66</td>\n",
       "      <td>1994.0</td>\n",
       "      <td>Thriller</td>\n",
       "      <td>49.0</td>\n",
       "    </tr>\n",
       "    <tr>\n",
       "      <th>15</th>\n",
       "      <td>Attack on Titan</td>\n",
       "      <td>China</td>\n",
       "      <td>9.9</td>\n",
       "      <td>NaN</td>\n",
       "      <td>Trigger</td>\n",
       "      <td>90.76</td>\n",
       "      <td>NaN</td>\n",
       "      <td>Mystery</td>\n",
       "      <td>57.0</td>\n",
       "    </tr>\n",
       "    <tr>\n",
       "      <th>16</th>\n",
       "      <td>Naruto</td>\n",
       "      <td>China</td>\n",
       "      <td>8.1</td>\n",
       "      <td>482.0</td>\n",
       "      <td>MAPPA</td>\n",
       "      <td>83.50</td>\n",
       "      <td>1990.0</td>\n",
       "      <td>Adventure</td>\n",
       "      <td>21.0</td>\n",
       "    </tr>\n",
       "    <tr>\n",
       "      <th>17</th>\n",
       "      <td>Tokyo Ghoul</td>\n",
       "      <td>Australia</td>\n",
       "      <td>7.0</td>\n",
       "      <td>154.0</td>\n",
       "      <td>Ufotable</td>\n",
       "      <td>32.70</td>\n",
       "      <td>2007.0</td>\n",
       "      <td>Action</td>\n",
       "      <td>34.0</td>\n",
       "    </tr>\n",
       "    <tr>\n",
       "      <th>18</th>\n",
       "      <td>NaN</td>\n",
       "      <td>Italy</td>\n",
       "      <td>10.0</td>\n",
       "      <td>103.0</td>\n",
       "      <td>Bones</td>\n",
       "      <td>141.98</td>\n",
       "      <td>NaN</td>\n",
       "      <td>Mystery</td>\n",
       "      <td>30.0</td>\n",
       "    </tr>\n",
       "    <tr>\n",
       "      <th>19</th>\n",
       "      <td>Mob Psycho 100</td>\n",
       "      <td>Thailand</td>\n",
       "      <td>9.9</td>\n",
       "      <td>365.0</td>\n",
       "      <td>Studio Ghibli</td>\n",
       "      <td>117.41</td>\n",
       "      <td>2000.0</td>\n",
       "      <td>Thriller</td>\n",
       "      <td>27.0</td>\n",
       "    </tr>\n",
       "    <tr>\n",
       "      <th>20</th>\n",
       "      <td>Spirited Away</td>\n",
       "      <td>United Kingdom</td>\n",
       "      <td>8.2</td>\n",
       "      <td>333.0</td>\n",
       "      <td>NaN</td>\n",
       "      <td>17.91</td>\n",
       "      <td>2010.0</td>\n",
       "      <td>Mystery</td>\n",
       "      <td>45.0</td>\n",
       "    </tr>\n",
       "  </tbody>\n",
       "</table>\n",
       "</div>"
      ],
      "text/plain": [
       "             Anime Name Most Watched in Country  Ratings  Number of Episodes  \\\n",
       "0   Fullmetal Alchemist                  Brazil      8.8               317.0   \n",
       "1             Haikyuu!!                  Mexico      9.2               420.0   \n",
       "2                   NaN             South Korea      7.4               419.0   \n",
       "3                Bleach                  Brazil      6.4                 NaN   \n",
       "4      Sword Art Online                     NaN      9.8               327.0   \n",
       "5   Fullmetal Alchemist                  Brazil      NaN               402.0   \n",
       "6          Black Clover                  France      8.1                 NaN   \n",
       "7                Bleach                   China      9.4                47.0   \n",
       "8                   NaN                   Spain      8.7               184.0   \n",
       "9          Demon Slayer                     NaN      8.9                31.0   \n",
       "10     Sword Art Online                     NaN      6.8               332.0   \n",
       "11            One Piece                     NaN      8.2               275.0   \n",
       "12      Attack on Titan                   Spain      8.8                 NaN   \n",
       "13          Tokyo Ghoul          United Kingdom      6.9               153.0   \n",
       "14        Dragon Ball Z                  Canada      NaN               471.0   \n",
       "15      Attack on Titan                   China      9.9                 NaN   \n",
       "16               Naruto                   China      8.1               482.0   \n",
       "17          Tokyo Ghoul               Australia      7.0               154.0   \n",
       "18                  NaN                   Italy     10.0               103.0   \n",
       "19       Mob Psycho 100                Thailand      9.9               365.0   \n",
       "20        Spirited Away          United Kingdom      8.2               333.0   \n",
       "\n",
       "   Animation Studio Name  Budget (in Million USD)  Release Year         Genre  \\\n",
       "0               Ufotable                    80.61        1998.0       Fantasy   \n",
       "1                  MAPPA                    74.99        2022.0     Adventure   \n",
       "2           A-1 Pictures                    59.05        2009.0       Mystery   \n",
       "3               Ufotable                    45.35        2002.0       Fantasy   \n",
       "4               Madhouse                    15.90        2017.0           NaN   \n",
       "5                    NaN                     8.97        2018.0           NaN   \n",
       "6               Madhouse                      NaN        2002.0           NaN   \n",
       "7                  MAPPA                   127.22        1995.0     Adventure   \n",
       "8           A-1 Pictures                    53.88        2007.0       Mystery   \n",
       "9                Pierrot                      NaN        1994.0  Supernatural   \n",
       "10                   NaN                   101.84        2014.0        Comedy   \n",
       "11                   NaN                    72.90        1991.0  Supernatural   \n",
       "12                 Bones                    74.46        1999.0        Action   \n",
       "13                 MAPPA                    13.41        2019.0        Comedy   \n",
       "14               Trigger                    14.66        1994.0      Thriller   \n",
       "15               Trigger                    90.76           NaN       Mystery   \n",
       "16                 MAPPA                    83.50        1990.0     Adventure   \n",
       "17              Ufotable                    32.70        2007.0        Action   \n",
       "18                 Bones                   141.98           NaN       Mystery   \n",
       "19         Studio Ghibli                   117.41        2000.0      Thriller   \n",
       "20                   NaN                    17.91        2010.0       Mystery   \n",
       "\n",
       "    Duration per Episode (minutes)  \n",
       "0                              NaN  \n",
       "1                             59.0  \n",
       "2                             56.0  \n",
       "3                             55.0  \n",
       "4                             43.0  \n",
       "5                             50.0  \n",
       "6                             25.0  \n",
       "7                             21.0  \n",
       "8                             39.0  \n",
       "9                             47.0  \n",
       "10                             NaN  \n",
       "11                            23.0  \n",
       "12                            34.0  \n",
       "13                            25.0  \n",
       "14                            49.0  \n",
       "15                            57.0  \n",
       "16                            21.0  \n",
       "17                            34.0  \n",
       "18                            30.0  \n",
       "19                            27.0  \n",
       "20                            45.0  "
      ]
     },
     "execution_count": 102,
     "metadata": {},
     "output_type": "execute_result"
    }
   ],
   "source": [
    "most_watched_data=pd.read_csv(\"most_watched_anime_dataset_100_entries.csv\")\n",
    "\n",
    "most_watched_data.head(21)"
   ]
  },
  {
   "cell_type": "markdown",
   "id": "2c863d2b",
   "metadata": {},
   "source": [
    "This dataset contains more information that we care about at the moment. \n",
    "\n",
    "&#9989; **Question 3.2 (3 pts)**: Remove/Drop the columns ''Genre, Duration per Episode (minutes), Most Watched in Country''\n"
   ]
  },
  {
   "cell_type": "code",
   "execution_count": 95,
   "id": "169ed088",
   "metadata": {
    "question_id": "P2Q3",
    "tags": [
     "student_answer"
    ]
   },
   "outputs": [
    {
     "data": {
      "text/html": [
       "<div>\n",
       "<style scoped>\n",
       "    .dataframe tbody tr th:only-of-type {\n",
       "        vertical-align: middle;\n",
       "    }\n",
       "\n",
       "    .dataframe tbody tr th {\n",
       "        vertical-align: top;\n",
       "    }\n",
       "\n",
       "    .dataframe thead th {\n",
       "        text-align: right;\n",
       "    }\n",
       "</style>\n",
       "<table border=\"1\" class=\"dataframe\">\n",
       "  <thead>\n",
       "    <tr style=\"text-align: right;\">\n",
       "      <th></th>\n",
       "      <th>Anime Name</th>\n",
       "      <th>Ratings</th>\n",
       "      <th>Number of Episodes</th>\n",
       "      <th>Animation Studio Name</th>\n",
       "      <th>Budget (in Million USD)</th>\n",
       "      <th>Release Year</th>\n",
       "    </tr>\n",
       "  </thead>\n",
       "  <tbody>\n",
       "    <tr>\n",
       "      <th>0</th>\n",
       "      <td>Fullmetal Alchemist</td>\n",
       "      <td>8.8</td>\n",
       "      <td>317.0</td>\n",
       "      <td>Ufotable</td>\n",
       "      <td>80.61</td>\n",
       "      <td>1998.0</td>\n",
       "    </tr>\n",
       "    <tr>\n",
       "      <th>1</th>\n",
       "      <td>Haikyuu!!</td>\n",
       "      <td>9.2</td>\n",
       "      <td>420.0</td>\n",
       "      <td>MAPPA</td>\n",
       "      <td>74.99</td>\n",
       "      <td>2022.0</td>\n",
       "    </tr>\n",
       "    <tr>\n",
       "      <th>2</th>\n",
       "      <td>NaN</td>\n",
       "      <td>7.4</td>\n",
       "      <td>419.0</td>\n",
       "      <td>A-1 Pictures</td>\n",
       "      <td>59.05</td>\n",
       "      <td>2009.0</td>\n",
       "    </tr>\n",
       "    <tr>\n",
       "      <th>3</th>\n",
       "      <td>Bleach</td>\n",
       "      <td>6.4</td>\n",
       "      <td>NaN</td>\n",
       "      <td>Ufotable</td>\n",
       "      <td>45.35</td>\n",
       "      <td>2002.0</td>\n",
       "    </tr>\n",
       "    <tr>\n",
       "      <th>4</th>\n",
       "      <td>Sword Art Online</td>\n",
       "      <td>9.8</td>\n",
       "      <td>327.0</td>\n",
       "      <td>Madhouse</td>\n",
       "      <td>15.90</td>\n",
       "      <td>2017.0</td>\n",
       "    </tr>\n",
       "    <tr>\n",
       "      <th>...</th>\n",
       "      <td>...</td>\n",
       "      <td>...</td>\n",
       "      <td>...</td>\n",
       "      <td>...</td>\n",
       "      <td>...</td>\n",
       "      <td>...</td>\n",
       "    </tr>\n",
       "    <tr>\n",
       "      <th>95</th>\n",
       "      <td>Tokyo Ghoul</td>\n",
       "      <td>6.5</td>\n",
       "      <td>499.0</td>\n",
       "      <td>NaN</td>\n",
       "      <td>40.62</td>\n",
       "      <td>NaN</td>\n",
       "    </tr>\n",
       "    <tr>\n",
       "      <th>96</th>\n",
       "      <td>Attack on Titan</td>\n",
       "      <td>8.8</td>\n",
       "      <td>248.0</td>\n",
       "      <td>Pierrot</td>\n",
       "      <td>54.69</td>\n",
       "      <td>1993.0</td>\n",
       "    </tr>\n",
       "    <tr>\n",
       "      <th>97</th>\n",
       "      <td>NaN</td>\n",
       "      <td>8.2</td>\n",
       "      <td>384.0</td>\n",
       "      <td>Madhouse</td>\n",
       "      <td>39.73</td>\n",
       "      <td>2014.0</td>\n",
       "    </tr>\n",
       "    <tr>\n",
       "      <th>98</th>\n",
       "      <td>Jujutsu Kaisen</td>\n",
       "      <td>7.2</td>\n",
       "      <td>396.0</td>\n",
       "      <td>Pierrot</td>\n",
       "      <td>68.53</td>\n",
       "      <td>1992.0</td>\n",
       "    </tr>\n",
       "    <tr>\n",
       "      <th>99</th>\n",
       "      <td>My Hero Academia</td>\n",
       "      <td>7.7</td>\n",
       "      <td>283.0</td>\n",
       "      <td>Studio Ghibli</td>\n",
       "      <td>5.82</td>\n",
       "      <td>2021.0</td>\n",
       "    </tr>\n",
       "  </tbody>\n",
       "</table>\n",
       "<p>100 rows × 6 columns</p>\n",
       "</div>"
      ],
      "text/plain": [
       "             Anime Name  Ratings  Number of Episodes Animation Studio Name  \\\n",
       "0   Fullmetal Alchemist      8.8               317.0              Ufotable   \n",
       "1             Haikyuu!!      9.2               420.0                 MAPPA   \n",
       "2                   NaN      7.4               419.0          A-1 Pictures   \n",
       "3                Bleach      6.4                 NaN              Ufotable   \n",
       "4      Sword Art Online      9.8               327.0              Madhouse   \n",
       "..                  ...      ...                 ...                   ...   \n",
       "95          Tokyo Ghoul      6.5               499.0                   NaN   \n",
       "96      Attack on Titan      8.8               248.0               Pierrot   \n",
       "97                  NaN      8.2               384.0              Madhouse   \n",
       "98       Jujutsu Kaisen      7.2               396.0               Pierrot   \n",
       "99     My Hero Academia      7.7               283.0         Studio Ghibli   \n",
       "\n",
       "    Budget (in Million USD)  Release Year  \n",
       "0                     80.61        1998.0  \n",
       "1                     74.99        2022.0  \n",
       "2                     59.05        2009.0  \n",
       "3                     45.35        2002.0  \n",
       "4                     15.90        2017.0  \n",
       "..                      ...           ...  \n",
       "95                    40.62           NaN  \n",
       "96                    54.69        1993.0  \n",
       "97                    39.73        2014.0  \n",
       "98                    68.53        1992.0  \n",
       "99                     5.82        2021.0  \n",
       "\n",
       "[100 rows x 6 columns]"
      ]
     },
     "execution_count": 95,
     "metadata": {},
     "output_type": "execute_result"
    }
   ],
   "source": [
    "# Put your code here\n",
    "\n",
    "drop=most_watched_data.drop(columns=([\"Genre\", \"Duration per Episode (minutes)\", \"Most Watched in Country\"]))\n",
    "\n",
    "drop"
   ]
  },
  {
   "cell_type": "markdown",
   "id": "a088b448",
   "metadata": {},
   "source": [
    "&#9989; **Question 3.3 (5 points)**: Use built-in Pandas functions to get a quick statistical summary of your data (e.g. the mean, standard deviation, min, max, etc) **divided by Animation studio name .**"
   ]
  },
  {
   "cell_type": "code",
   "execution_count": 101,
   "id": "3e915f6b",
   "metadata": {
    "question_id": "P2Q3",
    "tags": [
     "student_answer"
    ]
   },
   "outputs": [
    {
     "data": {
      "text/html": [
       "<div>\n",
       "<style scoped>\n",
       "    .dataframe tbody tr th:only-of-type {\n",
       "        vertical-align: middle;\n",
       "    }\n",
       "\n",
       "    .dataframe tbody tr th {\n",
       "        vertical-align: top;\n",
       "    }\n",
       "\n",
       "    .dataframe thead th {\n",
       "        text-align: right;\n",
       "    }\n",
       "</style>\n",
       "<table border=\"1\" class=\"dataframe\">\n",
       "  <thead>\n",
       "    <tr style=\"text-align: right;\">\n",
       "      <th></th>\n",
       "      <th>Ratings</th>\n",
       "      <th>Number of Episodes</th>\n",
       "      <th>Budget (in Million USD)</th>\n",
       "      <th>Release Year</th>\n",
       "      <th>Duration per Episode (minutes)</th>\n",
       "    </tr>\n",
       "  </thead>\n",
       "  <tbody>\n",
       "    <tr>\n",
       "      <th>count</th>\n",
       "      <td>90.000000</td>\n",
       "      <td>90.000000</td>\n",
       "      <td>90.000000</td>\n",
       "      <td>90.000000</td>\n",
       "      <td>90.000000</td>\n",
       "    </tr>\n",
       "    <tr>\n",
       "      <th>mean</th>\n",
       "      <td>8.222222</td>\n",
       "      <td>250.722222</td>\n",
       "      <td>74.260778</td>\n",
       "      <td>2005.133333</td>\n",
       "      <td>39.888889</td>\n",
       "    </tr>\n",
       "    <tr>\n",
       "      <th>std</th>\n",
       "      <td>1.114035</td>\n",
       "      <td>138.047462</td>\n",
       "      <td>43.209005</td>\n",
       "      <td>9.967588</td>\n",
       "      <td>12.466084</td>\n",
       "    </tr>\n",
       "    <tr>\n",
       "      <th>min</th>\n",
       "      <td>6.200000</td>\n",
       "      <td>12.000000</td>\n",
       "      <td>5.820000</td>\n",
       "      <td>1990.000000</td>\n",
       "      <td>20.000000</td>\n",
       "    </tr>\n",
       "    <tr>\n",
       "      <th>25%</th>\n",
       "      <td>7.200000</td>\n",
       "      <td>131.500000</td>\n",
       "      <td>38.220000</td>\n",
       "      <td>1995.500000</td>\n",
       "      <td>29.250000</td>\n",
       "    </tr>\n",
       "    <tr>\n",
       "      <th>50%</th>\n",
       "      <td>8.200000</td>\n",
       "      <td>275.000000</td>\n",
       "      <td>67.270000</td>\n",
       "      <td>2005.500000</td>\n",
       "      <td>39.000000</td>\n",
       "    </tr>\n",
       "    <tr>\n",
       "      <th>75%</th>\n",
       "      <td>9.350000</td>\n",
       "      <td>360.000000</td>\n",
       "      <td>110.827500</td>\n",
       "      <td>2014.000000</td>\n",
       "      <td>52.000000</td>\n",
       "    </tr>\n",
       "    <tr>\n",
       "      <th>max</th>\n",
       "      <td>10.000000</td>\n",
       "      <td>499.000000</td>\n",
       "      <td>149.390000</td>\n",
       "      <td>2022.000000</td>\n",
       "      <td>59.000000</td>\n",
       "    </tr>\n",
       "  </tbody>\n",
       "</table>\n",
       "</div>"
      ],
      "text/plain": [
       "         Ratings  Number of Episodes  Budget (in Million USD)  Release Year  \\\n",
       "count  90.000000           90.000000                90.000000     90.000000   \n",
       "mean    8.222222          250.722222                74.260778   2005.133333   \n",
       "std     1.114035          138.047462                43.209005      9.967588   \n",
       "min     6.200000           12.000000                 5.820000   1990.000000   \n",
       "25%     7.200000          131.500000                38.220000   1995.500000   \n",
       "50%     8.200000          275.000000                67.270000   2005.500000   \n",
       "75%     9.350000          360.000000               110.827500   2014.000000   \n",
       "max    10.000000          499.000000               149.390000   2022.000000   \n",
       "\n",
       "       Duration per Episode (minutes)  \n",
       "count                       90.000000  \n",
       "mean                        39.888889  \n",
       "std                         12.466084  \n",
       "min                         20.000000  \n",
       "25%                         29.250000  \n",
       "50%                         39.000000  \n",
       "75%                         52.000000  \n",
       "max                         59.000000  "
      ]
     },
     "execution_count": 101,
     "metadata": {},
     "output_type": "execute_result"
    }
   ],
   "source": [
    "# Put your code here\n",
    "\n",
    "#note this code may make dispalying your whole dataframe easier. uncomment to use\n",
    "#with pd.option_context('display.max_rows', None, 'display.max_columns', None): \n",
    "    #print(df)\n",
    "most_watched_data.describe()\n"
   ]
  },
  {
   "cell_type": "markdown",
   "id": "120ed4ef",
   "metadata": {},
   "source": [
    "&#9989; **Question 3.4 (2 points)**: Looking at the above output, answer the following questions: \n",
    "\n",
    "1. Which studio(s) had the lowest budget in this dataset?\n",
    "Studio Ghibli\t\n",
    "3. Which studio(s) had the latest release year?\n",
    "   MAPA\n",
    "4. Which studio(s) had the least entries in this dataset?\n",
    "Ufotable\t\n",
    "5. Which studio(s) had the lowest average rating in this dataset?\n",
    "Ufotable"
   ]
  },
  {
   "cell_type": "markdown",
   "id": "9c8b55c9",
   "metadata": {
    "question_id": "P2Q3",
    "tags": [
     "student_answer"
    ]
   },
   "source": [
    "**<font size=+3>&#9998;</font> Do This**: *Record your answers here.*\n",
    "\n"
   ]
  },
  {
   "cell_type": "markdown",
   "id": "1042f9f9",
   "metadata": {},
   "source": [
    "&#9989; **Question 3.5 (8 points)**: Using `plotly` make a figure with boxplots showing each animation studio and their number of episodes : \n",
    "\n",
    "1. Make sure the `Animation Studio Name` is the  x-axis and it's labeled\n",
    "\n",
    "2. Give the plot a title\n",
    "\n",
    "3. Set a horizontal line on this plot at y = 190\n",
    "\n",
    "4. Set the background of the plot to be white instead of blue\n",
    "\n",
    "5. **Optional** Can you center the title and/or make each box plot a different color?"
   ]
  },
  {
   "cell_type": "code",
   "execution_count": 104,
   "id": "37b6a904",
   "metadata": {},
   "outputs": [
    {
     "data": {
      "application/vnd.plotly.v1+json": {
       "config": {
        "plotlyServerURL": "https://plot.ly"
       },
       "data": [
        {
         "alignmentgroup": "True",
         "hovertemplate": "Animation Studio Name=%{x}<br>Number of Episodes=%{y}<extra></extra>",
         "legendgroup": "",
         "marker": {
          "color": "#636efa"
         },
         "name": "",
         "notched": false,
         "offsetgroup": "",
         "orientation": "v",
         "showlegend": false,
         "type": "box",
         "x": [
          "Ufotable",
          "MAPPA",
          "A-1 Pictures",
          "Ufotable",
          "Madhouse",
          null,
          "Madhouse",
          "MAPPA",
          "A-1 Pictures",
          "Pierrot",
          null,
          null,
          "Bones",
          "MAPPA",
          "Trigger",
          "Trigger",
          "MAPPA",
          "Ufotable",
          "Bones",
          "Studio Ghibli",
          null,
          "Ufotable",
          "Trigger",
          "Trigger",
          "A-1 Pictures",
          "MAPPA",
          "Bones",
          "Toei Animation",
          "Bones",
          "Trigger",
          "Trigger",
          "Madhouse",
          "Trigger",
          "Studio Ghibli",
          "Wit Studio",
          "MAPPA",
          "Bones",
          null,
          "Ufotable",
          "Toei Animation",
          "Studio Ghibli",
          "Bones",
          "Wit Studio",
          "Toei Animation",
          "Madhouse",
          "Studio Ghibli",
          "Studio Ghibli",
          "Madhouse",
          "MAPPA",
          "Madhouse",
          "Studio Ghibli",
          null,
          "Wit Studio",
          "Trigger",
          "Toei Animation",
          "Madhouse",
          "Toei Animation",
          "Madhouse",
          "Ufotable",
          "Studio Ghibli",
          "Trigger",
          "Wit Studio",
          "Trigger",
          "Trigger",
          "Trigger",
          "Toei Animation",
          "Madhouse",
          null,
          "Ufotable",
          "Bones",
          "Trigger",
          "MAPPA",
          null,
          "Wit Studio",
          "Bones",
          "Pierrot",
          "MAPPA",
          "Pierrot",
          "Bones",
          null,
          "MAPPA",
          "Pierrot",
          "Wit Studio",
          "Madhouse",
          "Studio Ghibli",
          "Madhouse",
          "Bones",
          "Toei Animation",
          "Studio Ghibli",
          "Ufotable",
          "Wit Studio",
          "Ufotable",
          "MAPPA",
          "Studio Ghibli",
          "Ufotable",
          null,
          "Pierrot",
          "Madhouse",
          "Pierrot",
          "Studio Ghibli"
         ],
         "x0": " ",
         "xaxis": "x",
         "y": [
          317,
          420,
          419,
          null,
          327,
          402,
          null,
          47,
          184,
          31,
          332,
          275,
          null,
          153,
          471,
          null,
          482,
          154,
          103,
          365,
          333,
          299,
          226,
          458,
          353,
          62,
          164,
          197,
          74,
          201,
          136,
          161,
          325,
          69,
          353,
          316,
          191,
          null,
          337,
          282,
          null,
          455,
          112,
          492,
          275,
          64,
          71,
          119,
          16,
          114,
          207,
          null,
          376,
          491,
          383,
          361,
          58,
          366,
          322,
          435,
          319,
          155,
          280,
          381,
          135,
          117,
          null,
          158,
          156,
          131,
          330,
          286,
          103,
          69,
          450,
          357,
          240,
          485,
          128,
          329,
          290,
          138,
          404,
          407,
          140,
          69,
          133,
          12,
          250,
          301,
          107,
          null,
          null,
          59,
          100,
          499,
          248,
          384,
          396,
          283
         ],
         "y0": " ",
         "yaxis": "y"
        }
       ],
       "layout": {
        "boxmode": "group",
        "legend": {
         "tracegroupgap": 0
        },
        "margin": {
         "t": 60
        },
        "template": {
         "data": {
          "bar": [
           {
            "error_x": {
             "color": "#2a3f5f"
            },
            "error_y": {
             "color": "#2a3f5f"
            },
            "marker": {
             "line": {
              "color": "#E5ECF6",
              "width": 0.5
             },
             "pattern": {
              "fillmode": "overlay",
              "size": 10,
              "solidity": 0.2
             }
            },
            "type": "bar"
           }
          ],
          "barpolar": [
           {
            "marker": {
             "line": {
              "color": "#E5ECF6",
              "width": 0.5
             },
             "pattern": {
              "fillmode": "overlay",
              "size": 10,
              "solidity": 0.2
             }
            },
            "type": "barpolar"
           }
          ],
          "carpet": [
           {
            "aaxis": {
             "endlinecolor": "#2a3f5f",
             "gridcolor": "white",
             "linecolor": "white",
             "minorgridcolor": "white",
             "startlinecolor": "#2a3f5f"
            },
            "baxis": {
             "endlinecolor": "#2a3f5f",
             "gridcolor": "white",
             "linecolor": "white",
             "minorgridcolor": "white",
             "startlinecolor": "#2a3f5f"
            },
            "type": "carpet"
           }
          ],
          "choropleth": [
           {
            "colorbar": {
             "outlinewidth": 0,
             "ticks": ""
            },
            "type": "choropleth"
           }
          ],
          "contour": [
           {
            "colorbar": {
             "outlinewidth": 0,
             "ticks": ""
            },
            "colorscale": [
             [
              0,
              "#0d0887"
             ],
             [
              0.1111111111111111,
              "#46039f"
             ],
             [
              0.2222222222222222,
              "#7201a8"
             ],
             [
              0.3333333333333333,
              "#9c179e"
             ],
             [
              0.4444444444444444,
              "#bd3786"
             ],
             [
              0.5555555555555556,
              "#d8576b"
             ],
             [
              0.6666666666666666,
              "#ed7953"
             ],
             [
              0.7777777777777778,
              "#fb9f3a"
             ],
             [
              0.8888888888888888,
              "#fdca26"
             ],
             [
              1,
              "#f0f921"
             ]
            ],
            "type": "contour"
           }
          ],
          "contourcarpet": [
           {
            "colorbar": {
             "outlinewidth": 0,
             "ticks": ""
            },
            "type": "contourcarpet"
           }
          ],
          "heatmap": [
           {
            "colorbar": {
             "outlinewidth": 0,
             "ticks": ""
            },
            "colorscale": [
             [
              0,
              "#0d0887"
             ],
             [
              0.1111111111111111,
              "#46039f"
             ],
             [
              0.2222222222222222,
              "#7201a8"
             ],
             [
              0.3333333333333333,
              "#9c179e"
             ],
             [
              0.4444444444444444,
              "#bd3786"
             ],
             [
              0.5555555555555556,
              "#d8576b"
             ],
             [
              0.6666666666666666,
              "#ed7953"
             ],
             [
              0.7777777777777778,
              "#fb9f3a"
             ],
             [
              0.8888888888888888,
              "#fdca26"
             ],
             [
              1,
              "#f0f921"
             ]
            ],
            "type": "heatmap"
           }
          ],
          "heatmapgl": [
           {
            "colorbar": {
             "outlinewidth": 0,
             "ticks": ""
            },
            "colorscale": [
             [
              0,
              "#0d0887"
             ],
             [
              0.1111111111111111,
              "#46039f"
             ],
             [
              0.2222222222222222,
              "#7201a8"
             ],
             [
              0.3333333333333333,
              "#9c179e"
             ],
             [
              0.4444444444444444,
              "#bd3786"
             ],
             [
              0.5555555555555556,
              "#d8576b"
             ],
             [
              0.6666666666666666,
              "#ed7953"
             ],
             [
              0.7777777777777778,
              "#fb9f3a"
             ],
             [
              0.8888888888888888,
              "#fdca26"
             ],
             [
              1,
              "#f0f921"
             ]
            ],
            "type": "heatmapgl"
           }
          ],
          "histogram": [
           {
            "marker": {
             "pattern": {
              "fillmode": "overlay",
              "size": 10,
              "solidity": 0.2
             }
            },
            "type": "histogram"
           }
          ],
          "histogram2d": [
           {
            "colorbar": {
             "outlinewidth": 0,
             "ticks": ""
            },
            "colorscale": [
             [
              0,
              "#0d0887"
             ],
             [
              0.1111111111111111,
              "#46039f"
             ],
             [
              0.2222222222222222,
              "#7201a8"
             ],
             [
              0.3333333333333333,
              "#9c179e"
             ],
             [
              0.4444444444444444,
              "#bd3786"
             ],
             [
              0.5555555555555556,
              "#d8576b"
             ],
             [
              0.6666666666666666,
              "#ed7953"
             ],
             [
              0.7777777777777778,
              "#fb9f3a"
             ],
             [
              0.8888888888888888,
              "#fdca26"
             ],
             [
              1,
              "#f0f921"
             ]
            ],
            "type": "histogram2d"
           }
          ],
          "histogram2dcontour": [
           {
            "colorbar": {
             "outlinewidth": 0,
             "ticks": ""
            },
            "colorscale": [
             [
              0,
              "#0d0887"
             ],
             [
              0.1111111111111111,
              "#46039f"
             ],
             [
              0.2222222222222222,
              "#7201a8"
             ],
             [
              0.3333333333333333,
              "#9c179e"
             ],
             [
              0.4444444444444444,
              "#bd3786"
             ],
             [
              0.5555555555555556,
              "#d8576b"
             ],
             [
              0.6666666666666666,
              "#ed7953"
             ],
             [
              0.7777777777777778,
              "#fb9f3a"
             ],
             [
              0.8888888888888888,
              "#fdca26"
             ],
             [
              1,
              "#f0f921"
             ]
            ],
            "type": "histogram2dcontour"
           }
          ],
          "mesh3d": [
           {
            "colorbar": {
             "outlinewidth": 0,
             "ticks": ""
            },
            "type": "mesh3d"
           }
          ],
          "parcoords": [
           {
            "line": {
             "colorbar": {
              "outlinewidth": 0,
              "ticks": ""
             }
            },
            "type": "parcoords"
           }
          ],
          "pie": [
           {
            "automargin": true,
            "type": "pie"
           }
          ],
          "scatter": [
           {
            "fillpattern": {
             "fillmode": "overlay",
             "size": 10,
             "solidity": 0.2
            },
            "type": "scatter"
           }
          ],
          "scatter3d": [
           {
            "line": {
             "colorbar": {
              "outlinewidth": 0,
              "ticks": ""
             }
            },
            "marker": {
             "colorbar": {
              "outlinewidth": 0,
              "ticks": ""
             }
            },
            "type": "scatter3d"
           }
          ],
          "scattercarpet": [
           {
            "marker": {
             "colorbar": {
              "outlinewidth": 0,
              "ticks": ""
             }
            },
            "type": "scattercarpet"
           }
          ],
          "scattergeo": [
           {
            "marker": {
             "colorbar": {
              "outlinewidth": 0,
              "ticks": ""
             }
            },
            "type": "scattergeo"
           }
          ],
          "scattergl": [
           {
            "marker": {
             "colorbar": {
              "outlinewidth": 0,
              "ticks": ""
             }
            },
            "type": "scattergl"
           }
          ],
          "scattermapbox": [
           {
            "marker": {
             "colorbar": {
              "outlinewidth": 0,
              "ticks": ""
             }
            },
            "type": "scattermapbox"
           }
          ],
          "scatterpolar": [
           {
            "marker": {
             "colorbar": {
              "outlinewidth": 0,
              "ticks": ""
             }
            },
            "type": "scatterpolar"
           }
          ],
          "scatterpolargl": [
           {
            "marker": {
             "colorbar": {
              "outlinewidth": 0,
              "ticks": ""
             }
            },
            "type": "scatterpolargl"
           }
          ],
          "scatterternary": [
           {
            "marker": {
             "colorbar": {
              "outlinewidth": 0,
              "ticks": ""
             }
            },
            "type": "scatterternary"
           }
          ],
          "surface": [
           {
            "colorbar": {
             "outlinewidth": 0,
             "ticks": ""
            },
            "colorscale": [
             [
              0,
              "#0d0887"
             ],
             [
              0.1111111111111111,
              "#46039f"
             ],
             [
              0.2222222222222222,
              "#7201a8"
             ],
             [
              0.3333333333333333,
              "#9c179e"
             ],
             [
              0.4444444444444444,
              "#bd3786"
             ],
             [
              0.5555555555555556,
              "#d8576b"
             ],
             [
              0.6666666666666666,
              "#ed7953"
             ],
             [
              0.7777777777777778,
              "#fb9f3a"
             ],
             [
              0.8888888888888888,
              "#fdca26"
             ],
             [
              1,
              "#f0f921"
             ]
            ],
            "type": "surface"
           }
          ],
          "table": [
           {
            "cells": {
             "fill": {
              "color": "#EBF0F8"
             },
             "line": {
              "color": "white"
             }
            },
            "header": {
             "fill": {
              "color": "#C8D4E3"
             },
             "line": {
              "color": "white"
             }
            },
            "type": "table"
           }
          ]
         },
         "layout": {
          "annotationdefaults": {
           "arrowcolor": "#2a3f5f",
           "arrowhead": 0,
           "arrowwidth": 1
          },
          "autotypenumbers": "strict",
          "coloraxis": {
           "colorbar": {
            "outlinewidth": 0,
            "ticks": ""
           }
          },
          "colorscale": {
           "diverging": [
            [
             0,
             "#8e0152"
            ],
            [
             0.1,
             "#c51b7d"
            ],
            [
             0.2,
             "#de77ae"
            ],
            [
             0.3,
             "#f1b6da"
            ],
            [
             0.4,
             "#fde0ef"
            ],
            [
             0.5,
             "#f7f7f7"
            ],
            [
             0.6,
             "#e6f5d0"
            ],
            [
             0.7,
             "#b8e186"
            ],
            [
             0.8,
             "#7fbc41"
            ],
            [
             0.9,
             "#4d9221"
            ],
            [
             1,
             "#276419"
            ]
           ],
           "sequential": [
            [
             0,
             "#0d0887"
            ],
            [
             0.1111111111111111,
             "#46039f"
            ],
            [
             0.2222222222222222,
             "#7201a8"
            ],
            [
             0.3333333333333333,
             "#9c179e"
            ],
            [
             0.4444444444444444,
             "#bd3786"
            ],
            [
             0.5555555555555556,
             "#d8576b"
            ],
            [
             0.6666666666666666,
             "#ed7953"
            ],
            [
             0.7777777777777778,
             "#fb9f3a"
            ],
            [
             0.8888888888888888,
             "#fdca26"
            ],
            [
             1,
             "#f0f921"
            ]
           ],
           "sequentialminus": [
            [
             0,
             "#0d0887"
            ],
            [
             0.1111111111111111,
             "#46039f"
            ],
            [
             0.2222222222222222,
             "#7201a8"
            ],
            [
             0.3333333333333333,
             "#9c179e"
            ],
            [
             0.4444444444444444,
             "#bd3786"
            ],
            [
             0.5555555555555556,
             "#d8576b"
            ],
            [
             0.6666666666666666,
             "#ed7953"
            ],
            [
             0.7777777777777778,
             "#fb9f3a"
            ],
            [
             0.8888888888888888,
             "#fdca26"
            ],
            [
             1,
             "#f0f921"
            ]
           ]
          },
          "colorway": [
           "#636efa",
           "#EF553B",
           "#00cc96",
           "#ab63fa",
           "#FFA15A",
           "#19d3f3",
           "#FF6692",
           "#B6E880",
           "#FF97FF",
           "#FECB52"
          ],
          "font": {
           "color": "#2a3f5f"
          },
          "geo": {
           "bgcolor": "white",
           "lakecolor": "white",
           "landcolor": "#E5ECF6",
           "showlakes": true,
           "showland": true,
           "subunitcolor": "white"
          },
          "hoverlabel": {
           "align": "left"
          },
          "hovermode": "closest",
          "mapbox": {
           "style": "light"
          },
          "paper_bgcolor": "white",
          "plot_bgcolor": "#E5ECF6",
          "polar": {
           "angularaxis": {
            "gridcolor": "white",
            "linecolor": "white",
            "ticks": ""
           },
           "bgcolor": "#E5ECF6",
           "radialaxis": {
            "gridcolor": "white",
            "linecolor": "white",
            "ticks": ""
           }
          },
          "scene": {
           "xaxis": {
            "backgroundcolor": "#E5ECF6",
            "gridcolor": "white",
            "gridwidth": 2,
            "linecolor": "white",
            "showbackground": true,
            "ticks": "",
            "zerolinecolor": "white"
           },
           "yaxis": {
            "backgroundcolor": "#E5ECF6",
            "gridcolor": "white",
            "gridwidth": 2,
            "linecolor": "white",
            "showbackground": true,
            "ticks": "",
            "zerolinecolor": "white"
           },
           "zaxis": {
            "backgroundcolor": "#E5ECF6",
            "gridcolor": "white",
            "gridwidth": 2,
            "linecolor": "white",
            "showbackground": true,
            "ticks": "",
            "zerolinecolor": "white"
           }
          },
          "shapedefaults": {
           "line": {
            "color": "#2a3f5f"
           }
          },
          "ternary": {
           "aaxis": {
            "gridcolor": "white",
            "linecolor": "white",
            "ticks": ""
           },
           "baxis": {
            "gridcolor": "white",
            "linecolor": "white",
            "ticks": ""
           },
           "bgcolor": "#E5ECF6",
           "caxis": {
            "gridcolor": "white",
            "linecolor": "white",
            "ticks": ""
           }
          },
          "title": {
           "x": 0.05
          },
          "xaxis": {
           "automargin": true,
           "gridcolor": "white",
           "linecolor": "white",
           "ticks": "",
           "title": {
            "standoff": 15
           },
           "zerolinecolor": "white",
           "zerolinewidth": 2
          },
          "yaxis": {
           "automargin": true,
           "gridcolor": "white",
           "linecolor": "white",
           "ticks": "",
           "title": {
            "standoff": 15
           },
           "zerolinecolor": "white",
           "zerolinewidth": 2
          }
         }
        },
        "xaxis": {
         "anchor": "y",
         "domain": [
          0,
          1
         ],
         "title": {
          "text": "Animation Studio Name"
         }
        },
        "yaxis": {
         "anchor": "x",
         "domain": [
          0,
          1
         ],
         "title": {
          "text": "Number of Episodes"
         }
        }
       }
      },
      "image/png": "[encoded data removed]",
      "text/html": [
       "<div>                            <div id=\"5b6b52cd-b54c-4499-8812-21a486c47dae\" class=\"plotly-graph-div\" style=\"height:525px; width:100%;\"></div>            <script type=\"text/javascript\">                require([\"plotly\"], function(Plotly) {                    window.PLOTLYENV=window.PLOTLYENV || {};                                    if (document.getElementById(\"5b6b52cd-b54c-4499-8812-21a486c47dae\")) {                    Plotly.newPlot(                        \"5b6b52cd-b54c-4499-8812-21a486c47dae\",                        [{\"alignmentgroup\":\"True\",\"hovertemplate\":\"Animation Studio Name=%{x}\\u003cbr\\u003eNumber of Episodes=%{y}\\u003cextra\\u003e\\u003c\\u002fextra\\u003e\",\"legendgroup\":\"\",\"marker\":{\"color\":\"#636efa\"},\"name\":\"\",\"notched\":false,\"offsetgroup\":\"\",\"orientation\":\"v\",\"showlegend\":false,\"x\":[\"Ufotable\",\"MAPPA\",\"A-1 Pictures\",\"Ufotable\",\"Madhouse\",null,\"Madhouse\",\"MAPPA\",\"A-1 Pictures\",\"Pierrot\",null,null,\"Bones\",\"MAPPA\",\"Trigger\",\"Trigger\",\"MAPPA\",\"Ufotable\",\"Bones\",\"Studio Ghibli\",null,\"Ufotable\",\"Trigger\",\"Trigger\",\"A-1 Pictures\",\"MAPPA\",\"Bones\",\"Toei Animation\",\"Bones\",\"Trigger\",\"Trigger\",\"Madhouse\",\"Trigger\",\"Studio Ghibli\",\"Wit Studio\",\"MAPPA\",\"Bones\",null,\"Ufotable\",\"Toei Animation\",\"Studio Ghibli\",\"Bones\",\"Wit Studio\",\"Toei Animation\",\"Madhouse\",\"Studio Ghibli\",\"Studio Ghibli\",\"Madhouse\",\"MAPPA\",\"Madhouse\",\"Studio Ghibli\",null,\"Wit Studio\",\"Trigger\",\"Toei Animation\",\"Madhouse\",\"Toei Animation\",\"Madhouse\",\"Ufotable\",\"Studio Ghibli\",\"Trigger\",\"Wit Studio\",\"Trigger\",\"Trigger\",\"Trigger\",\"Toei Animation\",\"Madhouse\",null,\"Ufotable\",\"Bones\",\"Trigger\",\"MAPPA\",null,\"Wit Studio\",\"Bones\",\"Pierrot\",\"MAPPA\",\"Pierrot\",\"Bones\",null,\"MAPPA\",\"Pierrot\",\"Wit Studio\",\"Madhouse\",\"Studio Ghibli\",\"Madhouse\",\"Bones\",\"Toei Animation\",\"Studio Ghibli\",\"Ufotable\",\"Wit Studio\",\"Ufotable\",\"MAPPA\",\"Studio Ghibli\",\"Ufotable\",null,\"Pierrot\",\"Madhouse\",\"Pierrot\",\"Studio Ghibli\"],\"x0\":\" \",\"xaxis\":\"x\",\"y\":[317.0,420.0,419.0,null,327.0,402.0,null,47.0,184.0,31.0,332.0,275.0,null,153.0,471.0,null,482.0,154.0,103.0,365.0,333.0,299.0,226.0,458.0,353.0,62.0,164.0,197.0,74.0,201.0,136.0,161.0,325.0,69.0,353.0,316.0,191.0,null,337.0,282.0,null,455.0,112.0,492.0,275.0,64.0,71.0,119.0,16.0,114.0,207.0,null,376.0,491.0,383.0,361.0,58.0,366.0,322.0,435.0,319.0,155.0,280.0,381.0,135.0,117.0,null,158.0,156.0,131.0,330.0,286.0,103.0,69.0,450.0,357.0,240.0,485.0,128.0,329.0,290.0,138.0,404.0,407.0,140.0,69.0,133.0,12.0,250.0,301.0,107.0,null,null,59.0,100.0,499.0,248.0,384.0,396.0,283.0],\"y0\":\" \",\"yaxis\":\"y\",\"type\":\"box\"}],                        {\"template\":{\"data\":{\"histogram2dcontour\":[{\"type\":\"histogram2dcontour\",\"colorbar\":{\"outlinewidth\":0,\"ticks\":\"\"},\"colorscale\":[[0.0,\"#0d0887\"],[0.1111111111111111,\"#46039f\"],[0.2222222222222222,\"#7201a8\"],[0.3333333333333333,\"#9c179e\"],[0.4444444444444444,\"#bd3786\"],[0.5555555555555556,\"#d8576b\"],[0.6666666666666666,\"#ed7953\"],[0.7777777777777778,\"#fb9f3a\"],[0.8888888888888888,\"#fdca26\"],[1.0,\"#f0f921\"]]}],\"choropleth\":[{\"type\":\"choropleth\",\"colorbar\":{\"outlinewidth\":0,\"ticks\":\"\"}}],\"histogram2d\":[{\"type\":\"histogram2d\",\"colorbar\":{\"outlinewidth\":0,\"ticks\":\"\"},\"colorscale\":[[0.0,\"#0d0887\"],[0.1111111111111111,\"#46039f\"],[0.2222222222222222,\"#7201a8\"],[0.3333333333333333,\"#9c179e\"],[0.4444444444444444,\"#bd3786\"],[0.5555555555555556,\"#d8576b\"],[0.6666666666666666,\"#ed7953\"],[0.7777777777777778,\"#fb9f3a\"],[0.8888888888888888,\"#fdca26\"],[1.0,\"#f0f921\"]]}],\"heatmap\":[{\"type\":\"heatmap\",\"colorbar\":{\"outlinewidth\":0,\"ticks\":\"\"},\"colorscale\":[[0.0,\"#0d0887\"],[0.1111111111111111,\"#46039f\"],[0.2222222222222222,\"#7201a8\"],[0.3333333333333333,\"#9c179e\"],[0.4444444444444444,\"#bd3786\"],[0.5555555555555556,\"#d8576b\"],[0.6666666666666666,\"#ed7953\"],[0.7777777777777778,\"#fb9f3a\"],[0.8888888888888888,\"#fdca26\"],[1.0,\"#f0f921\"]]}],\"heatmapgl\":[{\"type\":\"heatmapgl\",\"colorbar\":{\"outlinewidth\":0,\"ticks\":\"\"},\"colorscale\":[[0.0,\"#0d0887\"],[0.1111111111111111,\"#46039f\"],[0.2222222222222222,\"#7201a8\"],[0.3333333333333333,\"#9c179e\"],[0.4444444444444444,\"#bd3786\"],[0.5555555555555556,\"#d8576b\"],[0.6666666666666666,\"#ed7953\"],[0.7777777777777778,\"#fb9f3a\"],[0.8888888888888888,\"#fdca26\"],[1.0,\"#f0f921\"]]}],\"contourcarpet\":[{\"type\":\"contourcarpet\",\"colorbar\":{\"outlinewidth\":0,\"ticks\":\"\"}}],\"contour\":[{\"type\":\"contour\",\"colorbar\":{\"outlinewidth\":0,\"ticks\":\"\"},\"colorscale\":[[0.0,\"#0d0887\"],[0.1111111111111111,\"#46039f\"],[0.2222222222222222,\"#7201a8\"],[0.3333333333333333,\"#9c179e\"],[0.4444444444444444,\"#bd3786\"],[0.5555555555555556,\"#d8576b\"],[0.6666666666666666,\"#ed7953\"],[0.7777777777777778,\"#fb9f3a\"],[0.8888888888888888,\"#fdca26\"],[1.0,\"#f0f921\"]]}],\"surface\":[{\"type\":\"surface\",\"colorbar\":{\"outlinewidth\":0,\"ticks\":\"\"},\"colorscale\":[[0.0,\"#0d0887\"],[0.1111111111111111,\"#46039f\"],[0.2222222222222222,\"#7201a8\"],[0.3333333333333333,\"#9c179e\"],[0.4444444444444444,\"#bd3786\"],[0.5555555555555556,\"#d8576b\"],[0.6666666666666666,\"#ed7953\"],[0.7777777777777778,\"#fb9f3a\"],[0.8888888888888888,\"#fdca26\"],[1.0,\"#f0f921\"]]}],\"mesh3d\":[{\"type\":\"mesh3d\",\"colorbar\":{\"outlinewidth\":0,\"ticks\":\"\"}}],\"scatter\":[{\"fillpattern\":{\"fillmode\":\"overlay\",\"size\":10,\"solidity\":0.2},\"type\":\"scatter\"}],\"parcoords\":[{\"type\":\"parcoords\",\"line\":{\"colorbar\":{\"outlinewidth\":0,\"ticks\":\"\"}}}],\"scatterpolargl\":[{\"type\":\"scatterpolargl\",\"marker\":{\"colorbar\":{\"outlinewidth\":0,\"ticks\":\"\"}}}],\"bar\":[{\"error_x\":{\"color\":\"#2a3f5f\"},\"error_y\":{\"color\":\"#2a3f5f\"},\"marker\":{\"line\":{\"color\":\"#E5ECF6\",\"width\":0.5},\"pattern\":{\"fillmode\":\"overlay\",\"size\":10,\"solidity\":0.2}},\"type\":\"bar\"}],\"scattergeo\":[{\"type\":\"scattergeo\",\"marker\":{\"colorbar\":{\"outlinewidth\":0,\"ticks\":\"\"}}}],\"scatterpolar\":[{\"type\":\"scatterpolar\",\"marker\":{\"colorbar\":{\"outlinewidth\":0,\"ticks\":\"\"}}}],\"histogram\":[{\"marker\":{\"pattern\":{\"fillmode\":\"overlay\",\"size\":10,\"solidity\":0.2}},\"type\":\"histogram\"}],\"scattergl\":[{\"type\":\"scattergl\",\"marker\":{\"colorbar\":{\"outlinewidth\":0,\"ticks\":\"\"}}}],\"scatter3d\":[{\"type\":\"scatter3d\",\"line\":{\"colorbar\":{\"outlinewidth\":0,\"ticks\":\"\"}},\"marker\":{\"colorbar\":{\"outlinewidth\":0,\"ticks\":\"\"}}}],\"scattermapbox\":[{\"type\":\"scattermapbox\",\"marker\":{\"colorbar\":{\"outlinewidth\":0,\"ticks\":\"\"}}}],\"scatterternary\":[{\"type\":\"scatterternary\",\"marker\":{\"colorbar\":{\"outlinewidth\":0,\"ticks\":\"\"}}}],\"scattercarpet\":[{\"type\":\"scattercarpet\",\"marker\":{\"colorbar\":{\"outlinewidth\":0,\"ticks\":\"\"}}}],\"carpet\":[{\"aaxis\":{\"endlinecolor\":\"#2a3f5f\",\"gridcolor\":\"white\",\"linecolor\":\"white\",\"minorgridcolor\":\"white\",\"startlinecolor\":\"#2a3f5f\"},\"baxis\":{\"endlinecolor\":\"#2a3f5f\",\"gridcolor\":\"white\",\"linecolor\":\"white\",\"minorgridcolor\":\"white\",\"startlinecolor\":\"#2a3f5f\"},\"type\":\"carpet\"}],\"table\":[{\"cells\":{\"fill\":{\"color\":\"#EBF0F8\"},\"line\":{\"color\":\"white\"}},\"header\":{\"fill\":{\"color\":\"#C8D4E3\"},\"line\":{\"color\":\"white\"}},\"type\":\"table\"}],\"barpolar\":[{\"marker\":{\"line\":{\"color\":\"#E5ECF6\",\"width\":0.5},\"pattern\":{\"fillmode\":\"overlay\",\"size\":10,\"solidity\":0.2}},\"type\":\"barpolar\"}],\"pie\":[{\"automargin\":true,\"type\":\"pie\"}]},\"layout\":{\"autotypenumbers\":\"strict\",\"colorway\":[\"#636efa\",\"#EF553B\",\"#00cc96\",\"#ab63fa\",\"#FFA15A\",\"#19d3f3\",\"#FF6692\",\"#B6E880\",\"#FF97FF\",\"#FECB52\"],\"font\":{\"color\":\"#2a3f5f\"},\"hovermode\":\"closest\",\"hoverlabel\":{\"align\":\"left\"},\"paper_bgcolor\":\"white\",\"plot_bgcolor\":\"#E5ECF6\",\"polar\":{\"bgcolor\":\"#E5ECF6\",\"angularaxis\":{\"gridcolor\":\"white\",\"linecolor\":\"white\",\"ticks\":\"\"},\"radialaxis\":{\"gridcolor\":\"white\",\"linecolor\":\"white\",\"ticks\":\"\"}},\"ternary\":{\"bgcolor\":\"#E5ECF6\",\"aaxis\":{\"gridcolor\":\"white\",\"linecolor\":\"white\",\"ticks\":\"\"},\"baxis\":{\"gridcolor\":\"white\",\"linecolor\":\"white\",\"ticks\":\"\"},\"caxis\":{\"gridcolor\":\"white\",\"linecolor\":\"white\",\"ticks\":\"\"}},\"coloraxis\":{\"colorbar\":{\"outlinewidth\":0,\"ticks\":\"\"}},\"colorscale\":{\"sequential\":[[0.0,\"#0d0887\"],[0.1111111111111111,\"#46039f\"],[0.2222222222222222,\"#7201a8\"],[0.3333333333333333,\"#9c179e\"],[0.4444444444444444,\"#bd3786\"],[0.5555555555555556,\"#d8576b\"],[0.6666666666666666,\"#ed7953\"],[0.7777777777777778,\"#fb9f3a\"],[0.8888888888888888,\"#fdca26\"],[1.0,\"#f0f921\"]],\"sequentialminus\":[[0.0,\"#0d0887\"],[0.1111111111111111,\"#46039f\"],[0.2222222222222222,\"#7201a8\"],[0.3333333333333333,\"#9c179e\"],[0.4444444444444444,\"#bd3786\"],[0.5555555555555556,\"#d8576b\"],[0.6666666666666666,\"#ed7953\"],[0.7777777777777778,\"#fb9f3a\"],[0.8888888888888888,\"#fdca26\"],[1.0,\"#f0f921\"]],\"diverging\":[[0,\"#8e0152\"],[0.1,\"#c51b7d\"],[0.2,\"#de77ae\"],[0.3,\"#f1b6da\"],[0.4,\"#fde0ef\"],[0.5,\"#f7f7f7\"],[0.6,\"#e6f5d0\"],[0.7,\"#b8e186\"],[0.8,\"#7fbc41\"],[0.9,\"#4d9221\"],[1,\"#276419\"]]},\"xaxis\":{\"gridcolor\":\"white\",\"linecolor\":\"white\",\"ticks\":\"\",\"title\":{\"standoff\":15},\"zerolinecolor\":\"white\",\"automargin\":true,\"zerolinewidth\":2},\"yaxis\":{\"gridcolor\":\"white\",\"linecolor\":\"white\",\"ticks\":\"\",\"title\":{\"standoff\":15},\"zerolinecolor\":\"white\",\"automargin\":true,\"zerolinewidth\":2},\"scene\":{\"xaxis\":{\"backgroundcolor\":\"#E5ECF6\",\"gridcolor\":\"white\",\"linecolor\":\"white\",\"showbackground\":true,\"ticks\":\"\",\"zerolinecolor\":\"white\",\"gridwidth\":2},\"yaxis\":{\"backgroundcolor\":\"#E5ECF6\",\"gridcolor\":\"white\",\"linecolor\":\"white\",\"showbackground\":true,\"ticks\":\"\",\"zerolinecolor\":\"white\",\"gridwidth\":2},\"zaxis\":{\"backgroundcolor\":\"#E5ECF6\",\"gridcolor\":\"white\",\"linecolor\":\"white\",\"showbackground\":true,\"ticks\":\"\",\"zerolinecolor\":\"white\",\"gridwidth\":2}},\"shapedefaults\":{\"line\":{\"color\":\"#2a3f5f\"}},\"annotationdefaults\":{\"arrowcolor\":\"#2a3f5f\",\"arrowhead\":0,\"arrowwidth\":1},\"geo\":{\"bgcolor\":\"white\",\"landcolor\":\"#E5ECF6\",\"subunitcolor\":\"white\",\"showland\":true,\"showlakes\":true,\"lakecolor\":\"white\"},\"title\":{\"x\":0.05},\"mapbox\":{\"style\":\"light\"}}},\"xaxis\":{\"anchor\":\"y\",\"domain\":[0.0,1.0],\"title\":{\"text\":\"Animation Studio Name\"}},\"yaxis\":{\"anchor\":\"x\",\"domain\":[0.0,1.0],\"title\":{\"text\":\"Number of Episodes\"}},\"legend\":{\"tracegroupgap\":0},\"margin\":{\"t\":60},\"boxmode\":\"group\"},                        {\"responsive\": true}                    ).then(function(){\n",
       "                            \n",
       "var gd = document.getElementById('5b6b52cd-b54c-4499-8812-21a486c47dae');\n",
       "var x = new MutationObserver(function (mutations, observer) {{\n",
       "        var display = window.getComputedStyle(gd).display;\n",
       "        if (!display || display === 'none') {{\n",
       "            console.log([gd, 'removed!']);\n",
       "            Plotly.purge(gd);\n",
       "            observer.disconnect();\n",
       "        }}\n",
       "}});\n",
       "\n",
       "// Listen for the removal of the full notebook cells\n",
       "var notebookContainer = gd.closest('#notebook-container');\n",
       "if (notebookContainer) {{\n",
       "    x.observe(notebookContainer, {childList: true});\n",
       "}}\n",
       "\n",
       "// Listen for the clearing of the current output cell\n",
       "var outputEl = gd.closest('.output');\n",
       "if (outputEl) {{\n",
       "    x.observe(outputEl, {childList: true});\n",
       "}}\n",
       "\n",
       "                        })                };                });            </script>        </div>"
      ]
     },
     "metadata": {},
     "output_type": "display_data"
    }
   ],
   "source": [
    "#Put your code here!\n",
    "\n",
    "fig = px.box(most_watched_data, x=\"Animation Studio Name\",y=\"Number of Episodes\")\n",
    "\n",
    "# Show plot\n",
    "fig.show()"
   ]
  },
  {
   "cell_type": "markdown",
   "id": "f73653ac",
   "metadata": {},
   "source": [
    "&#9989; **Question 3.6 (2 points)**: Looking at the above output, answer the following questions: \n",
    "\n",
    "1. Which studio has the highest median value for episodes to watch?\n",
    "2. Which studios have a median number of episodes under 190?\n"
   ]
  },
  {
   "cell_type": "markdown",
   "id": "3504aa6e",
   "metadata": {
    "question_id": "P2Q3",
    "tags": [
     "student_answer"
    ]
   },
   "source": [
    "**<font size=+3>&#9998;</font> Do This**: *Record your answers here.*"
   ]
  },
  {
   "cell_type": "markdown",
   "id": "d272b234",
   "metadata": {},
   "source": [
    "---\n",
    "### &#128721; STOP\n",
    "**Pause to commit your changes to your Git repository! (1 point)**\n",
    "\n",
    "Take a moment to save your notebook, commit the changes to your Git repository using the commit message \"**Committing Part 3**\", and push the changes to GitHub."
   ]
  },
  {
   "cell_type": "markdown",
   "id": "d59e4ea7",
   "metadata": {},
   "source": [
    "![keepgoing](https://media.giphy.com/media/XcAa52ejGuNqdb5SFQ/giphy.gif?cid=790b761114d73fop8879b63i6lpgjulam3sgmg7gib5vksnd&ep=v1_gifs_search&rid=giphy.gif&ct=g)"
   ]
  },
  {
   "cell_type": "markdown",
   "id": "e0e87d61",
   "metadata": {},
   "source": [
    "---\n",
    "<a id=\"part-4-object-oriented-programming-38-points\"></a>\n",
    "\n",
    "# Part 4: Object-Oriented Programming (38 points)\n",
    "\n",
    "[Back to Table of Contents](#Table-of-Contents)\n"
   ]
  },
  {
   "cell_type": "markdown",
   "id": "97cead65",
   "metadata": {},
   "source": [
    "&#9989; **Question 4.1 (9 points)**: The following cell contains a draft of a class called `Freezer` with only the `__init__` constructor. Complete the `__init__` constructor so that it:\n",
    "\n",
    "- Takes in these arguments: `size`,`color`,`location`,`temperature`, and `plugged_in` with default values on `temperature` and `plugged_in`. These arguments correspond to attributes of the same name. \n",
    "\n",
    "- The default value of `plugged_in`should be set to `True`. The default value of `temperature` should be set to an appropriate temperature of a freezer that is on. \n"
   ]
  },
  {
   "cell_type": "code",
   "execution_count": 34,
   "id": "e8bb368c",
   "metadata": {
    "question_id": "P3Q8",
    "tags": [
     "student_answer"
    ]
   },
   "outputs": [],
   "source": [
    "#Finish this code by adding to it and completing it! Change any places with a ??\n",
    "class Freezer:\n",
    "    \"\"\"Base class for freezers. \n",
    "    \n",
    "    Attributes\n",
    "    ----------\n",
    "    size : str\n",
    "        The size of the freezer. \n",
    "    \n",
    "    color : str\n",
    "        The color of the freezer. \n",
    "    \n",
    "    location : str\n",
    "        The location of the freezer. Could be 'kitchen', 'basement', 'garage' etc..\n",
    "    \n",
    "    temperature : float\n",
    "        The temperature of the freezer. By default should be temperature of a freezer that is on.\n",
    "    \n",
    "    plugged_in : boolean\n",
    "        If the freezer is plugged in or not. By default set to 'True' meaning it is plugged in and on.\n",
    "    \"\"\"\n",
    "    def __init__(self,size,color,location,temperature=30 ,plugged_in=True): \n",
    "        \"\"\"Initialize the freezer with its attributes \n",
    "        and set the initial temperature and plugged_in.\n",
    "        \n",
    "        Input Parameter\n",
    "        ---------------\n",
    "        size : str\n",
    "            The size of the freezer. \n",
    "        \n",
    "        color : str\n",
    "            The color of the freezer. \n",
    "    \n",
    "        location : str\n",
    "            The location of the freezer. Could be 'kitchen', 'basement', 'garage' etc..\n",
    "        \n",
    "        Default Parameter\n",
    "        -----------------\n",
    "        temperature : float\n",
    "            The temperature of the freezer. By default should be temperature of a freezer that is on.\n",
    "    \n",
    "        plugged_in : boolean\n",
    "            If the freezer is plugged in or not. By default set to 'True' meaning it is plugged in and on.\"\"\"\n",
    "        \n",
    "        # Put your code here\n",
    "        \n",
    "        self.size = size\n",
    "        self.color = color\n",
    "        self.location = location\n",
    "        self.temperature = (temperature,\"degrees Fahrenheit\")\n",
    "        self.plugged_in = True\n",
    "        \n",
    "    \n",
    "    \n",
    "    \n",
    "    #########################\n",
    "    #complete this later\n",
    "    \n",
    "    \n",
    "    def temp_convert(self,new_temp_unit):\n",
    "        \n",
    "       self.new_temp_unit=Fahrenheight\n"
   ]
  },
  {
   "cell_type": "markdown",
   "id": "8ea7bbcf",
   "metadata": {},
   "source": [
    "## Test your code\n",
    "\n",
    "Let's check that the code works. Run the following cells. If an error is returned, go back and debug your code."
   ]
  },
  {
   "cell_type": "code",
   "execution_count": 35,
   "id": "b0155fe2",
   "metadata": {
    "question_id": "P3Q8",
    "tags": [
     "student_answer"
    ]
   },
   "outputs": [
    {
     "name": "stdout",
     "output_type": "stream",
     "text": [
      "full\n"
     ]
    },
    {
     "data": {
      "text/plain": [
       "(30, 'degrees Fahrenheit')"
      ]
     },
     "execution_count": 35,
     "metadata": {},
     "output_type": "execute_result"
    }
   ],
   "source": [
    "#\n",
    "my_freezer = Freezer(color = \"white\", location = 'kitchen', size = \"full\")\n",
    "\n",
    "print(my_freezer.size)\n",
    "my_freezer.temperature"
   ]
  },
  {
   "cell_type": "markdown",
   "id": "1898d751",
   "metadata": {},
   "source": [
    "&#9989; **Question 4.1.2 (1 point):** Oh no! We did not specify our unit of temperature when creating this class. Go back to your `Freezer` class and update your doc string to include information detailing which unit of temperature your `Freezer` class defaults to. After you have updated your doc string, paste your text that you added into the cell below.\n",
    "\n"
   ]
  },
  {
   "cell_type": "markdown",
   "id": "fc968cc2",
   "metadata": {},
   "source": [
    "Paste your added doc string text here"
   ]
  },
  {
   "cell_type": "markdown",
   "id": "84dfc2e7",
   "metadata": {},
   "source": [
    "&#9989; **Question 4.1.3 (5 points):** Now go back and add an additional attribute to your `Freezer` class inside of your `__init__` constructor called `temp_unit` that specifies your default temperature unit as a string. ('Celcius', 'Fahrenheight', or 'Kelvin'). make sure you update your doc string to reflect this change as well."
   ]
  },
  {
   "cell_type": "code",
   "execution_count": 36,
   "id": "5d091bff",
   "metadata": {},
   "outputs": [],
   "source": [
    "#paste your updated Freezer class code here\n",
    "#Finish this code by adding to it and completing it! Change any places with a ??\n",
    "class Freezer:\n",
    "    \"\"\"Base class for freezers. \n",
    "    \n",
    "    Attributes\n",
    "    ----------\n",
    "    size : str\n",
    "        The size of the freezer. \n",
    "    \n",
    "    color : str\n",
    "        The color of the freezer. \n",
    "    \n",
    "    location : str\n",
    "        The location of the freezer. Could be 'kitchen', 'basement', 'garage' etc..\n",
    "    \n",
    "    temperature : float\n",
    "        The temperature of the freezer. By default should be temperature of a freezer that is on.\n",
    "    \n",
    "    plugged_in : boolean\n",
    "        If the freezer is plugged in or not. By default set to 'True' meaning it is plugged in and on.\n",
    "    \"\"\"\n",
    "    def __init__(self,size,color,location,temperature=30 ,plugged_in=True): \n",
    "        \"\"\"Initialize the freezer with its attributes \n",
    "        and set the initial temperature and plugged_in.\n",
    "        \n",
    "        Input Parameter\n",
    "        ---------------\n",
    "        size : str\n",
    "            The size of the freezer. \n",
    "        \n",
    "        color : str\n",
    "            The color of the freezer. \n",
    "    \n",
    "        location : str\n",
    "            The location of the freezer. Could be 'kitchen', 'basement', 'garage' etc..\n",
    "        \n",
    "        Default Parameter\n",
    "        -----------------\n",
    "        temperature : float\n",
    "            The temperature of the freezer. By default should be temperature of a freezer that is on.\n",
    "    \n",
    "        plugged_in : boolean\n",
    "            If the freezer is plugged in or not. By default set to 'True' meaning it is plugged in and on.\"\"\"\n",
    "        \n",
    "        # Put your code here\n",
    "        \n",
    "        self.size = size\n",
    "        self.color = color\n",
    "        self.location = location\n",
    "        self.temperature = (temperature,\"degrees Fahrenheit\")\n",
    "        self.plugged_in = True\n",
    "        \n",
    "    \n",
    "    \n",
    "    \n",
    "    #########################\n",
    "    #complete this later\n",
    "    \n",
    "    \n",
    "    def temp_convert(self,new_temp_unit):\n",
    "        \n",
    "       self.new_temp_unit=Fahrenheight\n"
   ]
  },
  {
   "cell_type": "markdown",
   "id": "54fa1889",
   "metadata": {},
   "source": [
    "## Test your code\n",
    "\n",
    "Let's check that the code works. Run the following cells. "
   ]
  },
  {
   "cell_type": "code",
   "execution_count": null,
   "id": "acb8fa7d",
   "metadata": {},
   "outputs": [],
   "source": [
    "my_freezer = Freezer(color = \"white\", location = 'kitchen', size = \"full\")\n",
    "my_freezer.temp_unit"
   ]
  },
  {
   "cell_type": "markdown",
   "id": "42e509f8",
   "metadata": {},
   "source": [
    "---\n",
    "&#9989; **Question 4.2 (20 points)**: Now let's work on a method in our `Freezer` class that focuses on the temperature. Modify the method in the `Freezer` class called `temp_convert` so that it takes the temperature attribute and converts it to a different temperature unit (either Celsius, Fahrenheight, or Kelvin).  \n",
    "\n",
    "- This `temp_convert` method should have one input parameter, as a string. This string paremeter will be the temperature unit to be converted to. \n",
    "\n",
    "- This `temp_convert` method should be able to convert from any of the three starting temperature units to another. \n",
    "\n",
    "- `temp_convert` should update the float value of the `temperature` attribute and the string value of the `temp_unit` as well. \n",
    "\n",
    "- `temp_convert` needs its doc string to be updated as well. Make sure you update the filler doc string to reflect what the method does/accomplishes along with information on the input parameters (what their data type is and what the data is).\n",
    "\n",
    "- **OPTIONAL** Can you include an output that says 'successful conversion' if both the `temperature` and `temp_unit` are changed, and an output that says 'unsuccessful conversion: either unit of temperature did not change from original, or unit of temperature does not exist (maybe check your spelling)' if both the `temperature` and `temp_unit` are not changed.\n",
    "        "
   ]
  },
  {
   "cell_type": "code",
   "execution_count": 86,
   "id": "0fd92830",
   "metadata": {
    "question_id": "P3Q8",
    "tags": [
     "student_answer"
    ]
   },
   "outputs": [],
   "source": [
    "#Finish this code by adding to it and completing it! Change any places with a ??\n",
    "class Freezer:\n",
    "    \"\"\"Base class for freezers. \n",
    "    \n",
    "    Attributes\n",
    "    ----------\n",
    "    size : str\n",
    "        The size of the freezer. \n",
    "    \n",
    "    color : str\n",
    "        The color of the freezer. \n",
    "    \n",
    "    location : str\n",
    "        The location of the freezer. Could be 'kitchen', 'basement', 'garage' etc..\n",
    "    \n",
    "    temperature : float\n",
    "        The temperature of the freezer. By default should be temperature of a freezer that is on.\n",
    "    \n",
    "    plugged_in : boolean\n",
    "        If the freezer is plugged in or not. By default set to 'True' meaning it is plugged in and on.\n",
    "    \"\"\"\n",
    "    def __init__(self,size,color,location,temperature=30 ,plugged_in=True): \n",
    "        \"\"\"Initialize the freezer with its attributes \n",
    "        and set the initial temperature and plugged_in.\n",
    "        \n",
    "        Input Parameter\n",
    "        ---------------\n",
    "        size : str\n",
    "            The size of the freezer. \n",
    "        \n",
    "        color : str\n",
    "            The color of the freezer. \n",
    "    \n",
    "        location : str\n",
    "            The location of the freezer. Could be 'kitchen', 'basement', 'garage' etc..\n",
    "        \n",
    "        Default Parameter\n",
    "        -----------------\n",
    "        temperature : float\n",
    "            The temperature of the freezer. By default should be temperature of a freezer that is on.\n",
    "    \n",
    "        plugged_in : boolean\n",
    "            If the freezer is plugged in or not. By default set to 'True' meaning it is plugged in and on.\"\"\"\n",
    "    def _temp_convert_(temp_unit):\n",
    "    \n",
    "        # Put your code here\n",
    "        \n",
    "        self.size = size\n",
    "        self.color = color\n",
    "        self.location = location\n",
    "        self.temperature = (temperature,\"degrees Fahrenheit\")\n",
    "        self.plugged_in = True\n",
    "        \n",
    "    \n",
    "    \n",
    "    \n",
    "    #########################\n",
    "    #complete this later\n",
    "    \n",
    "    \n",
    "    def temp_convert(self,new_temp_unit):\n",
    "        \n",
    "       self.temp_unit=Fahrenheight\n"
   ]
  },
  {
   "cell_type": "markdown",
   "id": "f9a56d88",
   "metadata": {},
   "source": [
    "## Test your code\n",
    "\n",
    "Let's check that the code works. Run the following cell. If an error is returned, go back and debug your code!"
   ]
  },
  {
   "cell_type": "code",
   "execution_count": 87,
   "id": "aead8b37",
   "metadata": {
    "question_id": "P3Q8",
    "tags": [
     "student_answer"
    ]
   },
   "outputs": [
    {
     "ename": "AttributeError",
     "evalue": "'Freezer' object has no attribute 'temp_unit'",
     "output_type": "error",
     "traceback": [
      "\u001b[0;31m---------------------------------------------------------------------------\u001b[0m",
      "\u001b[0;31mAttributeError\u001b[0m                            Traceback (most recent call last)",
      "Cell \u001b[0;32mIn[87], line 4\u001b[0m\n\u001b[1;32m      1\u001b[0m \u001b[38;5;66;03m# \u001b[39;00m\n\u001b[1;32m      3\u001b[0m new_freezer \u001b[38;5;241m=\u001b[39m Freezer(color \u001b[38;5;241m=\u001b[39m \u001b[38;5;124m\"\u001b[39m\u001b[38;5;124mwhite\u001b[39m\u001b[38;5;124m\"\u001b[39m, location \u001b[38;5;241m=\u001b[39m \u001b[38;5;124m'\u001b[39m\u001b[38;5;124mkitchen\u001b[39m\u001b[38;5;124m'\u001b[39m, size \u001b[38;5;241m=\u001b[39m \u001b[38;5;124m\"\u001b[39m\u001b[38;5;124mfull\u001b[39m\u001b[38;5;124m\"\u001b[39m)\n\u001b[0;32m----> 4\u001b[0m \u001b[38;5;28mprint\u001b[39m(\u001b[43mnew_freezer\u001b[49m\u001b[38;5;241;43m.\u001b[39;49m\u001b[43mtemp_unit\u001b[49m)\n\u001b[1;32m      5\u001b[0m \u001b[38;5;28mprint\u001b[39m(new_freezer\u001b[38;5;241m.\u001b[39mtemperature)\n\u001b[1;32m      7\u001b[0m new_freezer\u001b[38;5;241m.\u001b[39mtemp_convert(\u001b[38;5;124m\"\u001b[39m\u001b[38;5;124mCelsius\u001b[39m\u001b[38;5;124m\"\u001b[39m)\n",
      "\u001b[0;31mAttributeError\u001b[0m: 'Freezer' object has no attribute 'temp_unit'"
     ]
    }
   ],
   "source": [
    "# \n",
    "\n",
    "new_freezer = Freezer(color = \"white\", location = 'kitchen', size = \"full\")\n",
    "print(new_freezer.temp_unit)\n",
    "print(new_freezer.temperature)\n",
    "\n",
    "new_freezer.temp_convert(\"Celsius\")\n",
    "print(new_freezer.temp_unit)\n",
    "print(new_freezer.temperature)\n",
    "\n",
    "new_freezer.temp_convert(\"Kelvin\")\n",
    "print(new_freezer.temp_unit)\n",
    "print(new_freezer.temperature)\n",
    "\n",
    "new_freezer.temp_convert(\"Fahrenheight\")\n",
    "print(new_freezer.temp_unit)\n",
    "print(new_freezer.temperature)\n",
    "\n",
    "new_freezer.temp_convert(\"Kelvin\")\n",
    "print(new_freezer.temp_unit)\n",
    "print(new_freezer.temperature)\n",
    "\n",
    "new_freezer.temp_convert(\"Celsius\")\n",
    "print(new_freezer.temp_unit)\n",
    "print(new_freezer.temperature)\n",
    "\n",
    "new_freezer.temp_convert(\"Fahrenheight\")\n",
    "print(new_freezer.temp_unit)\n",
    "print(new_freezer.temperature)\n",
    "\n",
    "new_freezer.temp_convert(\"Celsius\")\n",
    "print(new_freezer.temp_unit)\n",
    "print(new_freezer.temperature)"
   ]
  },
  {
   "cell_type": "markdown",
   "id": "3e0cab0c",
   "metadata": {},
   "source": [
    "&#9989; **Question 4.3 (2 points):** How does your temperature attribute look when it is printed? Are there too many decimal places? How might you fix this? Either go back and update your code to make this fix or explain how you would make this fix in words. "
   ]
  },
  {
   "cell_type": "markdown",
   "id": "5772c1f0",
   "metadata": {},
   "source": [
    "**Put your answer here**"
   ]
  },
  {
   "cell_type": "markdown",
   "id": "59ddbb0c",
   "metadata": {},
   "source": [
    "---\n",
    "### &#128721; STOP\n",
    "**Pause to commit your changes to your Git repository! (1 point)**\n",
    "\n",
    "Take a moment to save your notebook, commit the changes to your Git repository using the commit message \"**Committing Part 4**\", and push the changes to GitHub.\n",
    "\n",
    "---"
   ]
  },
  {
   "cell_type": "code",
   "execution_count": 105,
   "id": "3684ccb3-5136-4491-8dce-41308b287fbb",
   "metadata": {},
   "outputs": [
    {
     "name": "stdout",
     "output_type": "stream",
     "text": [
      "On branch master\n",
      "\n",
      "Initial commit\n",
      "\n",
      "Untracked files:\n",
      "  (use \"git add <file>...\" to include in what will be committed)\n",
      "\t\u001b[31m.bash_history\u001b[m\n",
      "\t\u001b[31m.bash_profile\u001b[m\n",
      "\t\u001b[31m.bashrc\u001b[m\n",
      "\t\u001b[31m.cache/\u001b[m\n",
      "\t\u001b[31m.cshrc\u001b[m\n",
      "\t\u001b[31m.ipynb_checkpoints/\u001b[m\n",
      "\t\u001b[31m.ipython/\u001b[m\n",
      "\t\u001b[31m.jupyter/\u001b[m\n",
      "\t\u001b[31m.local/\u001b[m\n",
      "\t\u001b[31m.login\u001b[m\n",
      "\t\u001b[31m.logout\u001b[m\n",
      "\t\u001b[31m.wget-hsts\u001b[m\n",
      "\t\u001b[31mCMSE202-Midterm-Section002-STUDENT.ipynb\u001b[m\n",
      "\t\u001b[31mCMSE202/\u001b[m\n",
      "\t\u001b[31mUntitled.ipynb\u001b[m\n",
      "\t\u001b[31mhandy functions.ipynb\u001b[m\n",
      "\t\u001b[31mmost_watched_anime_dataset_100_entries.csv\u001b[m\n",
      "\t\u001b[31mnew_repo/\u001b[m\n",
      "\t\u001b[31mscience-journal-demo\u001b[m\n",
      "\n",
      "nothing added to commit but untracked files present (use \"git add\" to track)\n"
     ]
    }
   ],
   "source": [
    "!git commit -m\"Committing Part 4\""
   ]
  },
  {
   "cell_type": "code",
   "execution_count": 106,
   "id": "7e6862ce-99c5-4359-b716-04a8fdcfbbf1",
   "metadata": {},
   "outputs": [
    {
     "name": "stdout",
     "output_type": "stream",
     "text": [
      "fatal: No configured push destination.\n",
      "Either specify the URL from the command-line or configure a remote repository using\n",
      "\n",
      "    git remote add <name> <url>\n",
      "\n",
      "and then push using the remote name\n",
      "\n",
      "    git push <name>\n",
      "\n"
     ]
    }
   ],
   "source": [
    "!git push "
   ]
  },
  {
   "cell_type": "markdown",
   "id": "5f544d19",
   "metadata": {},
   "source": [
    "---\n",
    "<a id=\"part-5-conclusion-3-points\"></a>\n",
    "\n",
    "# Part 5. Conclusion (3 points)\n",
    "\n",
    "[Back to Table of Contents](#Table-of-Contents)\n",
    "\n",
    "Make sure all of your changes to your repository are committed and pushed to GitHub. \n",
    "Before you leave\n",
    "\n",
    "1. Commit changes to your **local** `git` repository (1 point)\n",
    "\n",
    "2. Push the changes to your GitHub repository (1 point)\n",
    "\n",
    "3. Upload your notebook to D2L in case something went wrong with your repository or if you couldn't get the repository to work.  (1 point)"
   ]
  },
  {
   "cell_type": "markdown",
   "id": "56b3a4bb",
   "metadata": {},
   "source": [
    "Also, please take this mid-semester evaluation survey so I might try and correct my teaching for the rest of the term! https://forms.office.com/r/Ev2vGcz4Qq"
   ]
  },
  {
   "cell_type": "markdown",
   "id": "13e2870e",
   "metadata": {},
   "source": [
    "## You're done! Congrats on finishing your CMSE 202 Midterm! \n",
    "\n",
    "![Moira2](https://media.giphy.com/media/d1E2HnwywoTkES08/giphy.gif)"
   ]
  }
 ],
 "metadata": {
  "kernelspec": {
   "display_name": "Python 3.11 (default)",
   "language": "python",
   "name": "python3"
  },
  "language_info": {
   "codemirror_mode": {
    "name": "ipython",
    "version": 3
   },
   "file_extension": ".py",
   "mimetype": "text/x-python",
   "name": "python",
   "nbconvert_exporter": "python",
   "pygments_lexer": "ipython3",
   "version": "3.11.11"
  },
  "widgets": {
   "application/vnd.jupyter.widget-state+json": {
    "state": {},
    "version_major": 2,
    "version_minor": 0
   }
  }
 },
 "nbformat": 4,
 "nbformat_minor": 5
}
